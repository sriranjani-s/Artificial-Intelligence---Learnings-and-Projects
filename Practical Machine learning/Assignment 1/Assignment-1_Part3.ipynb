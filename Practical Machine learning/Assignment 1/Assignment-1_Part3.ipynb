{
 "cells": [
  {
   "cell_type": "markdown",
   "metadata": {},
   "source": [
    "# Assignment I - Part 3\n",
    "\n",
    "Student ID: R00182510<br>\n",
    "Name : Sriranjani Sridharan"
   ]
  },
  {
   "cell_type": "markdown",
   "metadata": {},
   "source": [
    "## Code for Section (i) and Section (ii)"
   ]
  },
  {
   "cell_type": "code",
   "execution_count": 1,
   "metadata": {},
   "outputs": [],
   "source": [
    "import numpy as np \n",
    "import matplotlib.pyplot as plt\n",
    "%matplotlib inline"
   ]
  },
  {
   "cell_type": "code",
   "execution_count": 2,
   "metadata": {},
   "outputs": [],
   "source": [
    "# Calculate the distance between the fetures of the test instance and features of the training instances based on the \n",
    "# distance metric\n",
    "\n",
    "def calculateDistance(train_data, test_instance, dist_metric):\n",
    "    distance = np.power((np.sum((abs(train_data-test_instance))**dist_metric,axis=1)), 1/dist_metric)\n",
    "    indices = np.argsort(distance)\n",
    "    return (distance,indices)                "
   ]
  },
  {
   "cell_type": "code",
   "execution_count": 3,
   "metadata": {},
   "outputs": [],
   "source": [
    "# For every test instance, get the distances of K nearest neighbour instances and predict its class label using \n",
    "# the K weighted distances\n",
    "\n",
    "def predict_weighted_testinstance(k, train_data, test_data, train_label, dist_metric, n):\n",
    "    \n",
    "    predicted_test_instances = []\n",
    "    \n",
    "    for instance in test_data:\n",
    "        \n",
    "        distance,indices = calculateDistance(train_data, instance, dist_metric)\n",
    "        k_indices = [indices[i] for i in range(0, k)]\n",
    "        k_distance = np.take(distance, k_indices) \n",
    "        \n",
    "        tot_inv_distance = 0\n",
    "        distance_vote = 0\n",
    "       \n",
    "        # for every kth training instance, calculate its inverse distance or voting distance from the test instance\n",
    "        # The final prediction is influenced more by the closer neighbours than the far ones\n",
    "        \n",
    "        for x, dist in zip(k_indices, k_distance):\n",
    "            distance_vote += (train_label[x] * ((1/dist)**n))\n",
    "            tot_inv_distance += ((1/dist)**n)\n",
    "        \n",
    "        predicted_test_instances.append(distance_vote/tot_inv_distance)\n",
    "        \n",
    "    return predicted_test_instances\n",
    "        "
   ]
  },
  {
   "cell_type": "code",
   "execution_count": 4,
   "metadata": {},
   "outputs": [],
   "source": [
    "# Normalization of training and test data is done so that each feature has an independent contribution in the prediction\n",
    "# process\n",
    "\n",
    "def Normalize_data(train, test):\n",
    "    trainmin, trainmax = np.amin(train, axis = 0), np.amax(train, axis = 0)\n",
    "    \n",
    "    # Use the same max and min values from the training data to normalize both the training and the test data\n",
    "    train_data = (train - trainmin)/ (trainmax - trainmin)\n",
    "    test_data = (test - trainmin)/ (trainmax - trainmin)\n",
    "    \n",
    "    return (train_data, test_data)"
   ]
  },
  {
   "cell_type": "code",
   "execution_count": 5,
   "metadata": {},
   "outputs": [],
   "source": [
    "# Get the K value, distance metrics, and the inverse distance calculation type(n)\n",
    "\n",
    "# The keyword argument Normalize is used to normalize the training and test datasets. \n",
    "# Default value is None - No normalization\n",
    "\n",
    "def KNN_main_regression(k, dist_metric, n = 1, Normalize = None):\n",
    "    \n",
    "    # read input files\n",
    "    train = np.genfromtxt('.\\\\data\\\\regression\\\\trainingData.csv',delimiter = ',')\n",
    "    test = np.genfromtxt('.\\\\data\\\\regression\\\\testData.csv',delimiter = ',')\n",
    "\n",
    "    k_values = k\n",
    "    k_predictions_accuracy = []\n",
    "    \n",
    "    # Segregate the class labels from the feature data in both the training and test datasets\n",
    "    train_label = train[:,-1]\n",
    "    test_label = test[:,-1]\n",
    "    \n",
    "    # Normalize the training and the test data if Normalization is not None \n",
    "    if Normalize:\n",
    "        train_data, test_data = Normalize_data(train[:,0:-1], test[:,0:-1]) \n",
    "    else:\n",
    "        train_data = train[:,0:-1]\n",
    "        test_data = test[:,0:-1]\n",
    "    \n",
    "    average_test_instance = np.mean(test_label)\n",
    "    tot_sum_squares = ((average_test_instance - test_label)**2).sum()\n",
    "    \n",
    "    # for every K value, determine the KNN algorithm predictions and R^2 coefficient for the test data\n",
    "    for k in k_values:\n",
    "               \n",
    "        predicted_instances = np.array(predict_weighted_testinstance(k,train_data, test_data, train_label, dist_metric, n),dtype = float)\n",
    "        sum_squared_residuals = np.sum((predicted_instances - test_label)**2)\n",
    "        \n",
    "        k_accuracy = 1 - (sum_squared_residuals/tot_sum_squares)\n",
    "        \n",
    "        k_predictions_accuracy.append(k_accuracy)\n",
    "        \n",
    "        print(\"K : %d , R\\u00b2 Coefficient : %3.4f\" %(k, k_accuracy))\n",
    "        \n",
    "    return(k_predictions_accuracy)"
   ]
  },
  {
   "cell_type": "markdown",
   "metadata": {},
   "source": [
    "## Section(i) Results"
   ]
  },
  {
   "cell_type": "markdown",
   "metadata": {},
   "source": [
    "#### Execution with a range of K values and using inverse distance\n",
    "The regression KNN model is initially implemeted using the defaults parameters for distance and the value n. <br> <br>\n",
    "Distance = Euclidean <br> n = 1 (use inverse distance for weighting)"
   ]
  },
  {
   "cell_type": "code",
   "execution_count": 6,
   "metadata": {
    "scrolled": false
   },
   "outputs": [
    {
     "name": "stdout",
     "output_type": "stream",
     "text": [
      "K : 1 , R² Coefficient : 0.6299\n",
      "K : 2 , R² Coefficient : 0.7529\n",
      "K : 5 , R² Coefficient : 0.8146\n",
      "K : 10 , R² Coefficient : 0.8253\n",
      "K : 12 , R² Coefficient : 0.8226\n",
      "K : 15 , R² Coefficient : 0.8203\n",
      "K : 20 , R² Coefficient : 0.8130\n"
     ]
    }
   ],
   "source": [
    "# For the range of K values given below, the R^2 coefficients are recorded\n",
    "K = [1,2,5,10,12,15,20]\n",
    "dist_metric = 1\n",
    "n = 1\n",
    "\n",
    "K_regression = KNN_main_regression(K, dist_metric, n = 1)\n"
   ]
  },
  {
   "cell_type": "markdown",
   "metadata": {},
   "source": [
    "#### Implementation of Inverse distance square \n",
    "Distance = Euclidean<br>\n",
    "n=2\n",
    "\n",
    "When using the inverse distance square, the R^2 coefficient is higher, with K = 11 reporting the highest R^2 of .850"
   ]
  },
  {
   "cell_type": "code",
   "execution_count": 7,
   "metadata": {},
   "outputs": [
    {
     "name": "stdout",
     "output_type": "stream",
     "text": [
      "K : 1 , R² Coefficient : 0.6744\n",
      "K : 3 , R² Coefficient : 0.8197\n",
      "K : 5 , R² Coefficient : 0.8419\n",
      "K : 7 , R² Coefficient : 0.8462\n",
      "K : 9 , R² Coefficient : 0.8495\n",
      "K : 11 , R² Coefficient : 0.8501\n",
      "K : 13 , R² Coefficient : 0.8474\n",
      "K : 15 , R² Coefficient : 0.8438\n",
      "K : 17 , R² Coefficient : 0.8411\n",
      "K : 19 , R² Coefficient : 0.8392\n"
     ]
    }
   ],
   "source": [
    "K = range(1,20,2)\n",
    "dist_metric = 2\n",
    "n = 2\n",
    "\n",
    "K_regression_range = KNN_main_regression(K, dist_metric, n)\n"
   ]
  },
  {
   "cell_type": "markdown",
   "metadata": {},
   "source": [
    "#### Normalization\n",
    "Normalization is done to make sure all features in the training dataset contribute independently. This is done by scaling all the feature data to have values between 0 and 1.\n",
    "\n",
    "Keeping the distance metric as Euclidean, the experiment for Normalization was executed by passing the keyword argument Normalize = 1 to the KNN regerssion algorithm. The prediction accuracy from the normalized data was recorded as given below.\n"
   ]
  },
  {
   "cell_type": "code",
   "execution_count": 8,
   "metadata": {
    "scrolled": false
   },
   "outputs": [
    {
     "name": "stdout",
     "output_type": "stream",
     "text": [
      "K : 1 , R² Coefficient : 0.6874\n",
      "K : 3 , R² Coefficient : 0.8286\n",
      "K : 5 , R² Coefficient : 0.8488\n",
      "K : 7 , R² Coefficient : 0.8565\n",
      "K : 9 , R² Coefficient : 0.8584\n",
      "K : 11 , R² Coefficient : 0.8575\n",
      "K : 13 , R² Coefficient : 0.8559\n",
      "K : 15 , R² Coefficient : 0.8526\n",
      "K : 17 , R² Coefficient : 0.8500\n",
      "K : 19 , R² Coefficient : 0.8490\n"
     ]
    }
   ],
   "source": [
    "K = range(1,20,2)\n",
    "dist_metric = 2\n",
    "n = 2\n",
    "\n",
    "K_regression_norm = KNN_main_regression(K, dist_metric, n, Normalize = 1)"
   ]
  },
  {
   "cell_type": "markdown",
   "metadata": {},
   "source": [
    "From the figure below, it can be inferred that Normalization improves the prediction accuracy for the current dataset."
   ]
  },
  {
   "cell_type": "code",
   "execution_count": 9,
   "metadata": {
    "scrolled": true
   },
   "outputs": [
    {
     "name": "stdout",
     "output_type": "stream",
     "text": [
      "\n",
      "Without Normalization, performance is highest at K =  11\n",
      "\n",
      "With Normalization, performance is highest at K =  9\n"
     ]
    },
    {
     "data": {
      "image/png": "[encoded data removed]",
      "text/plain": [
       "<Figure size 432x288 with 1 Axes>"
      ]
     },
     "metadata": {
      "needs_background": "light"
     },
     "output_type": "display_data"
    }
   ],
   "source": [
    "max_index = np.argmax(K_regression_range)\n",
    "max_index_norm = np.argmax(K_regression_norm)\n",
    "\n",
    "print(\"\\nWithout Normalization, performance is highest at K = \",K[max_index]);\n",
    "print(\"\\nWith Normalization, performance is highest at K = \",K[max_index_norm]);\n",
    "plt.plot(K, K_regression_range)\n",
    "plt.plot(K, K_regression_norm)\n",
    "\n",
    "plt.legend(['KNN Regerssion - No Normalization','KNN Regression - Normalized data'], loc = 'lower center')\n",
    "plt.xlabel('K-values for KNN')\n",
    "plt.ylabel('Prediction Accuracy');\n",
    "plt.title(' Performance comparison with and without Normalization for a Regression KNN model\\n');"
   ]
  },
  {
   "cell_type": "markdown",
   "metadata": {},
   "source": [
    "## Section(ii)"
   ]
  },
  {
   "cell_type": "markdown",
   "metadata": {},
   "source": [
    "In all the KNN implementaions executed so far, by default all the features contribute equally in the distance measurements and in predicting the target class value of a query instance. This might negatively impact the performance, if some of the features in the dataset are redundant or are not much relevant to the classification problem in hand. An attribute is considered to be relevant to the problem only if a change in the attribute value affects the classification results.\n",
    "\n",
    "\n",
    "Inorder to overcome the above issue, we can use feature selection methods that can either assign weights to each feature based on its relevance to the classification or can assign a weight of zero for a few features that are considered irrelevant.\n",
    "\n",
    "\n",
    "The former can be achieved by using an attribute ranking algorithm that assigns feature weights based on the ranks. The later can be achieved by using a subset selection algorithm[Reference 2].\n",
    "\n",
    "\n",
    "Preproessing methods can also be used to overcome the above issue. Dimensionality reduction techniques such as Principal component analysis(PCA) can be applied prior to KNN so that the distance measurements turn out to be meaningful.\n"
   ]
  },
  {
   "cell_type": "markdown",
   "metadata": {},
   "source": [
    "## References"
   ]
  },
  {
   "cell_type": "markdown",
   "metadata": {},
   "source": [
    "[1] Lecture slides<br>\n",
    "[2] \"Attribute weighting in K-nearest neighbor classification\" - Muhammad Ejazuddin Syed (Nov 2014)"
   ]
  }
 ],
 "metadata": {
  "kernelspec": {
   "display_name": "Python 3",
   "language": "python",
   "name": "python3"
  },
  "language_info": {
   "codemirror_mode": {
    "name": "ipython",
    "version": 3
   },
   "file_extension": ".py",
   "mimetype": "text/x-python",
   "name": "python",
   "nbconvert_exporter": "python",
   "pygments_lexer": "ipython3",
   "version": "3.7.4"
  }
 },
 "nbformat": 4,
 "nbformat_minor": 2
}
