{
 "cells": [
  {
   "cell_type": "markdown",
   "metadata": {},
   "source": [
    "# Assignement 2 - Project Code\n",
    "# Sriranjani Sridharan (R00182510)"
   ]
  },
  {
   "cell_type": "markdown",
   "metadata": {},
   "source": [
    "## Code Section 1 - Pre processing"
   ]
  },
  {
   "cell_type": "code",
   "execution_count": 1,
   "metadata": {},
   "outputs": [],
   "source": [
    "import numpy as np \n",
    "import pandas as pd\n",
    "from sklearn import model_selection\n",
    "from sklearn import tree\n",
    "from sklearn import metrics\n",
    "from sklearn.metrics import confusion_matrix\n",
    "from sklearn.model_selection import GridSearchCV\n",
    "import seaborn as sns\n",
    "import matplotlib.pyplot as plt"
   ]
  },
  {
   "cell_type": "markdown",
   "metadata": {},
   "source": [
    "### Import the input file income_evaluation.csv \n",
    "\n",
    "URL for dataset : https://www.kaggle.com/lodetomasi1995/income-classification"
   ]
  },
  {
   "cell_type": "code",
   "execution_count": 193,
   "metadata": {
    "scrolled": true
   },
   "outputs": [
    {
     "data": {
      "text/html": [
       "<div>\n",
       "<style scoped>\n",
       "    .dataframe tbody tr th:only-of-type {\n",
       "        vertical-align: middle;\n",
       "    }\n",
       "\n",
       "    .dataframe tbody tr th {\n",
       "        vertical-align: top;\n",
       "    }\n",
       "\n",
       "    .dataframe thead th {\n",
       "        text-align: right;\n",
       "    }\n",
       "</style>\n",
       "<table border=\"1\" class=\"dataframe\">\n",
       "  <thead>\n",
       "    <tr style=\"text-align: right;\">\n",
       "      <th></th>\n",
       "      <th>age</th>\n",
       "      <th>workclass</th>\n",
       "      <th>fnlwgt</th>\n",
       "      <th>education</th>\n",
       "      <th>education_num</th>\n",
       "      <th>marital_status</th>\n",
       "      <th>occupation</th>\n",
       "      <th>relationship</th>\n",
       "      <th>race</th>\n",
       "      <th>sex</th>\n",
       "      <th>capital_gain</th>\n",
       "      <th>capital_loss</th>\n",
       "      <th>hours_per_week</th>\n",
       "      <th>native_country</th>\n",
       "      <th>income</th>\n",
       "    </tr>\n",
       "  </thead>\n",
       "  <tbody>\n",
       "    <tr>\n",
       "      <th>0</th>\n",
       "      <td>39</td>\n",
       "      <td>State-gov</td>\n",
       "      <td>77516</td>\n",
       "      <td>Bachelors</td>\n",
       "      <td>13</td>\n",
       "      <td>Never-married</td>\n",
       "      <td>Adm-clerical</td>\n",
       "      <td>Not-in-family</td>\n",
       "      <td>White</td>\n",
       "      <td>Male</td>\n",
       "      <td>2174</td>\n",
       "      <td>0</td>\n",
       "      <td>40</td>\n",
       "      <td>United-States</td>\n",
       "      <td>&lt;=50K</td>\n",
       "    </tr>\n",
       "    <tr>\n",
       "      <th>1</th>\n",
       "      <td>50</td>\n",
       "      <td>Self-emp-not-inc</td>\n",
       "      <td>83311</td>\n",
       "      <td>Bachelors</td>\n",
       "      <td>13</td>\n",
       "      <td>Married-civ-spouse</td>\n",
       "      <td>Exec-managerial</td>\n",
       "      <td>Husband</td>\n",
       "      <td>White</td>\n",
       "      <td>Male</td>\n",
       "      <td>0</td>\n",
       "      <td>0</td>\n",
       "      <td>13</td>\n",
       "      <td>United-States</td>\n",
       "      <td>&lt;=50K</td>\n",
       "    </tr>\n",
       "    <tr>\n",
       "      <th>2</th>\n",
       "      <td>38</td>\n",
       "      <td>Private</td>\n",
       "      <td>215646</td>\n",
       "      <td>HS-grad</td>\n",
       "      <td>9</td>\n",
       "      <td>Divorced</td>\n",
       "      <td>Handlers-cleaners</td>\n",
       "      <td>Not-in-family</td>\n",
       "      <td>White</td>\n",
       "      <td>Male</td>\n",
       "      <td>0</td>\n",
       "      <td>0</td>\n",
       "      <td>40</td>\n",
       "      <td>United-States</td>\n",
       "      <td>&lt;=50K</td>\n",
       "    </tr>\n",
       "    <tr>\n",
       "      <th>3</th>\n",
       "      <td>53</td>\n",
       "      <td>Private</td>\n",
       "      <td>234721</td>\n",
       "      <td>11th</td>\n",
       "      <td>7</td>\n",
       "      <td>Married-civ-spouse</td>\n",
       "      <td>Handlers-cleaners</td>\n",
       "      <td>Husband</td>\n",
       "      <td>Black</td>\n",
       "      <td>Male</td>\n",
       "      <td>0</td>\n",
       "      <td>0</td>\n",
       "      <td>40</td>\n",
       "      <td>United-States</td>\n",
       "      <td>&lt;=50K</td>\n",
       "    </tr>\n",
       "    <tr>\n",
       "      <th>4</th>\n",
       "      <td>28</td>\n",
       "      <td>Private</td>\n",
       "      <td>338409</td>\n",
       "      <td>Bachelors</td>\n",
       "      <td>13</td>\n",
       "      <td>Married-civ-spouse</td>\n",
       "      <td>Prof-specialty</td>\n",
       "      <td>Wife</td>\n",
       "      <td>Black</td>\n",
       "      <td>Female</td>\n",
       "      <td>0</td>\n",
       "      <td>0</td>\n",
       "      <td>40</td>\n",
       "      <td>Cuba</td>\n",
       "      <td>&lt;=50K</td>\n",
       "    </tr>\n",
       "  </tbody>\n",
       "</table>\n",
       "</div>"
      ],
      "text/plain": [
       "   age          workclass  fnlwgt   education  education_num  \\\n",
       "0   39          State-gov   77516   Bachelors             13   \n",
       "1   50   Self-emp-not-inc   83311   Bachelors             13   \n",
       "2   38            Private  215646     HS-grad              9   \n",
       "3   53            Private  234721        11th              7   \n",
       "4   28            Private  338409   Bachelors             13   \n",
       "\n",
       "        marital_status          occupation    relationship    race      sex  \\\n",
       "0        Never-married        Adm-clerical   Not-in-family   White     Male   \n",
       "1   Married-civ-spouse     Exec-managerial         Husband   White     Male   \n",
       "2             Divorced   Handlers-cleaners   Not-in-family   White     Male   \n",
       "3   Married-civ-spouse   Handlers-cleaners         Husband   Black     Male   \n",
       "4   Married-civ-spouse      Prof-specialty            Wife   Black   Female   \n",
       "\n",
       "   capital_gain  capital_loss  hours_per_week  native_country  income  \n",
       "0          2174             0              40   United-States   <=50K  \n",
       "1             0             0              13   United-States   <=50K  \n",
       "2             0             0              40   United-States   <=50K  \n",
       "3             0             0              40   United-States   <=50K  \n",
       "4             0             0              40            Cuba   <=50K  "
      ]
     },
     "execution_count": 193,
     "metadata": {},
     "output_type": "execute_result"
    }
   ],
   "source": [
    "dataset = pd.read_csv(\"income_evaluation.csv\")\n",
    "\n",
    "col_names = ['age', 'workclass', 'fnlwgt', 'education', 'education_num', 'marital_status', 'occupation', 'relationship',\n",
    "             'race', 'sex', 'capital_gain', 'capital_loss', 'hours_per_week', 'native_country', 'income']\n",
    "\n",
    "dataset.columns = col_names\n",
    "dataset.head()\n"
   ]
  },
  {
   "cell_type": "code",
   "execution_count": 194,
   "metadata": {
    "scrolled": true
   },
   "outputs": [
    {
     "data": {
      "image/png": "[encoded data removed]",
      "text/plain": [
       "<Figure size 432x288 with 1 Axes>"
      ]
     },
     "metadata": {
      "needs_background": "light"
     },
     "output_type": "display_data"
    }
   ],
   "source": [
    "#frequency distribution of income variable\n",
    "freqplt = sns.countplot(x=\"income\", data=dataset, palette=\"Set1\")\n",
    "freqplt.set_title(\"Frequency distribution of income variable (class)\")\n",
    "\n",
    "plt.show();"
   ]
  },
  {
   "cell_type": "markdown",
   "metadata": {},
   "source": [
    "### Identifying Missing values"
   ]
  },
  {
   "cell_type": "code",
   "execution_count": 195,
   "metadata": {},
   "outputs": [
    {
     "name": "stdout",
     "output_type": "stream",
     "text": [
      "unique values in column:  workclass\n",
      "[' State-gov' ' Self-emp-not-inc' ' Private' ' Federal-gov' ' Local-gov'\n",
      " ' ?' ' Self-emp-inc' ' Without-pay' ' Never-worked']\n",
      "\n",
      "\n",
      "unique values in column:  education\n",
      "[' Bachelors' ' HS-grad' ' 11th' ' Masters' ' 9th' ' Some-college'\n",
      " ' Assoc-acdm' ' Assoc-voc' ' 7th-8th' ' Doctorate' ' Prof-school'\n",
      " ' 5th-6th' ' 10th' ' 1st-4th' ' Preschool' ' 12th']\n",
      "\n",
      "\n",
      "unique values in column:  marital_status\n",
      "[' Never-married' ' Married-civ-spouse' ' Divorced'\n",
      " ' Married-spouse-absent' ' Separated' ' Married-AF-spouse' ' Widowed']\n",
      "\n",
      "\n",
      "unique values in column:  occupation\n",
      "[' Adm-clerical' ' Exec-managerial' ' Handlers-cleaners' ' Prof-specialty'\n",
      " ' Other-service' ' Sales' ' Craft-repair' ' Transport-moving'\n",
      " ' Farming-fishing' ' Machine-op-inspct' ' Tech-support' ' ?'\n",
      " ' Protective-serv' ' Armed-Forces' ' Priv-house-serv']\n",
      "\n",
      "\n",
      "unique values in column:  relationship\n",
      "[' Not-in-family' ' Husband' ' Wife' ' Own-child' ' Unmarried'\n",
      " ' Other-relative']\n",
      "\n",
      "\n",
      "unique values in column:  race\n",
      "[' White' ' Black' ' Asian-Pac-Islander' ' Amer-Indian-Eskimo' ' Other']\n",
      "\n",
      "\n",
      "unique values in column:  sex\n",
      "[' Male' ' Female']\n",
      "\n",
      "\n",
      "unique values in column:  native_country\n",
      "[' United-States' ' Cuba' ' Jamaica' ' India' ' ?' ' Mexico' ' South'\n",
      " ' Puerto-Rico' ' Honduras' ' England' ' Canada' ' Germany' ' Iran'\n",
      " ' Philippines' ' Italy' ' Poland' ' Columbia' ' Cambodia' ' Thailand'\n",
      " ' Ecuador' ' Laos' ' Taiwan' ' Haiti' ' Portugal' ' Dominican-Republic'\n",
      " ' El-Salvador' ' France' ' Guatemala' ' China' ' Japan' ' Yugoslavia'\n",
      " ' Peru' ' Outlying-US(Guam-USVI-etc)' ' Scotland' ' Trinadad&Tobago'\n",
      " ' Greece' ' Nicaragua' ' Vietnam' ' Hong' ' Ireland' ' Hungary'\n",
      " ' Holand-Netherlands']\n",
      "\n",
      "\n",
      "unique values in column:  income\n",
      "[' <=50K' ' >50K']\n",
      "\n",
      "\n"
     ]
    }
   ],
   "source": [
    "categoricalFeatures = [col for col in dataset.columns if dataset[col].dtype=='O']\n",
    "numericalFeatures = [col for col in dataset.columns if dataset[col].dtype!='O']\n",
    "\n",
    "# print all unique values in the categorical features\n",
    "for i in categoricalFeatures:\n",
    "    print(\"unique values in column: \", i)\n",
    "    print(dataset[i].unique())\n",
    "    print('\\n')"
   ]
  },
  {
   "cell_type": "code",
   "execution_count": 196,
   "metadata": {},
   "outputs": [
    {
     "name": "stdout",
     "output_type": "stream",
     "text": [
      "age                  0\n",
      "workclass         1836\n",
      "fnlwgt               0\n",
      "education            0\n",
      "education_num        0\n",
      "marital_status       0\n",
      "occupation        1843\n",
      "relationship         0\n",
      "race                 0\n",
      "sex                  0\n",
      "capital_gain         0\n",
      "capital_loss         0\n",
      "hours_per_week       0\n",
      "native_country     583\n",
      "income               0\n",
      "dtype: int64\n"
     ]
    },
    {
     "data": {
      "text/plain": [
       "(32561, 15)"
      ]
     },
     "execution_count": 196,
     "metadata": {},
     "output_type": "execute_result"
    }
   ],
   "source": [
    "#Replace unknown charecters with missing values\n",
    "dataset = dataset.replace(' ?', np.NaN)\n",
    "\n",
    "print(dataset.isnull().sum())\n",
    "dataset.shape"
   ]
  },
  {
   "cell_type": "markdown",
   "metadata": {},
   "source": [
    "### Handling Missing values"
   ]
  },
  {
   "cell_type": "code",
   "execution_count": 197,
   "metadata": {},
   "outputs": [
    {
     "data": {
      "text/plain": [
       "age               0\n",
       "workclass         0\n",
       "fnlwgt            0\n",
       "education         0\n",
       "education_num     0\n",
       "marital_status    0\n",
       "occupation        0\n",
       "relationship      0\n",
       "race              0\n",
       "sex               0\n",
       "capital_gain      0\n",
       "capital_loss      0\n",
       "hours_per_week    0\n",
       "native_country    0\n",
       "income            0\n",
       "dtype: int64"
      ]
     },
     "execution_count": 197,
     "metadata": {},
     "output_type": "execute_result"
    }
   ],
   "source": [
    "imputedf = dataset.copy()\n",
    "\n",
    "#Replace missing categorical values with most frequent value\n",
    "imputedf['workclass'] = imputedf['workclass'].fillna(imputedf['workclass'].mode()[0])\n",
    "imputedf['occupation'] = imputedf['occupation'].fillna(imputedf['occupation'].mode()[0])\n",
    "imputedf['native_country'] = imputedf['native_country'].fillna(imputedf['native_country'].mode()[0])\n",
    "imputedf.isnull().sum()"
   ]
  },
  {
   "cell_type": "markdown",
   "metadata": {},
   "source": [
    "### Observation and Conversion of 'native-country' field from Categorical to Binary"
   ]
  },
  {
   "cell_type": "code",
   "execution_count": 198,
   "metadata": {
    "scrolled": false
   },
   "outputs": [
    {
     "name": "stdout",
     "output_type": "stream",
     "text": [
      "Number of instances with native country United States: 91.38 %\n"
     ]
    },
    {
     "data": {
      "image/png": "[encoded data removed]",
      "text/plain": [
       "<Figure size 1152x432 with 1 Axes>"
      ]
     },
     "metadata": {
      "needs_background": "light"
     },
     "output_type": "display_data"
    }
   ],
   "source": [
    "imputedf['native_country'].value_counts().plot(kind = 'bar', figsize=(16, 6), title = 'native_country')\n",
    "\n",
    "percent = ((imputedf['native_country'] == ' United-States').sum()/ (len(imputedf))) * 100\n",
    "print(\"Number of instances with native country United States: %5.2f %%\" %(percent))"
   ]
  },
  {
   "cell_type": "code",
   "execution_count": 199,
   "metadata": {},
   "outputs": [
    {
     "data": {
      "text/html": [
       "<div>\n",
       "<style scoped>\n",
       "    .dataframe tbody tr th:only-of-type {\n",
       "        vertical-align: middle;\n",
       "    }\n",
       "\n",
       "    .dataframe tbody tr th {\n",
       "        vertical-align: top;\n",
       "    }\n",
       "\n",
       "    .dataframe thead th {\n",
       "        text-align: right;\n",
       "    }\n",
       "</style>\n",
       "<table border=\"1\" class=\"dataframe\">\n",
       "  <thead>\n",
       "    <tr style=\"text-align: right;\">\n",
       "      <th></th>\n",
       "      <th>age</th>\n",
       "      <th>workclass</th>\n",
       "      <th>fnlwgt</th>\n",
       "      <th>education</th>\n",
       "      <th>education_num</th>\n",
       "      <th>marital_status</th>\n",
       "      <th>occupation</th>\n",
       "      <th>relationship</th>\n",
       "      <th>race</th>\n",
       "      <th>sex</th>\n",
       "      <th>capital_gain</th>\n",
       "      <th>capital_loss</th>\n",
       "      <th>hours_per_week</th>\n",
       "      <th>native_country</th>\n",
       "      <th>income</th>\n",
       "    </tr>\n",
       "  </thead>\n",
       "  <tbody>\n",
       "    <tr>\n",
       "      <th>0</th>\n",
       "      <td>39</td>\n",
       "      <td>State-gov</td>\n",
       "      <td>77516</td>\n",
       "      <td>Bachelors</td>\n",
       "      <td>13</td>\n",
       "      <td>Never-married</td>\n",
       "      <td>Adm-clerical</td>\n",
       "      <td>Not-in-family</td>\n",
       "      <td>White</td>\n",
       "      <td>Male</td>\n",
       "      <td>2174</td>\n",
       "      <td>0</td>\n",
       "      <td>40</td>\n",
       "      <td>1</td>\n",
       "      <td>&lt;=50K</td>\n",
       "    </tr>\n",
       "    <tr>\n",
       "      <th>1</th>\n",
       "      <td>50</td>\n",
       "      <td>Self-emp-not-inc</td>\n",
       "      <td>83311</td>\n",
       "      <td>Bachelors</td>\n",
       "      <td>13</td>\n",
       "      <td>Married-civ-spouse</td>\n",
       "      <td>Exec-managerial</td>\n",
       "      <td>Husband</td>\n",
       "      <td>White</td>\n",
       "      <td>Male</td>\n",
       "      <td>0</td>\n",
       "      <td>0</td>\n",
       "      <td>13</td>\n",
       "      <td>1</td>\n",
       "      <td>&lt;=50K</td>\n",
       "    </tr>\n",
       "    <tr>\n",
       "      <th>2</th>\n",
       "      <td>38</td>\n",
       "      <td>Private</td>\n",
       "      <td>215646</td>\n",
       "      <td>HS-grad</td>\n",
       "      <td>9</td>\n",
       "      <td>Divorced</td>\n",
       "      <td>Handlers-cleaners</td>\n",
       "      <td>Not-in-family</td>\n",
       "      <td>White</td>\n",
       "      <td>Male</td>\n",
       "      <td>0</td>\n",
       "      <td>0</td>\n",
       "      <td>40</td>\n",
       "      <td>1</td>\n",
       "      <td>&lt;=50K</td>\n",
       "    </tr>\n",
       "    <tr>\n",
       "      <th>3</th>\n",
       "      <td>53</td>\n",
       "      <td>Private</td>\n",
       "      <td>234721</td>\n",
       "      <td>11th</td>\n",
       "      <td>7</td>\n",
       "      <td>Married-civ-spouse</td>\n",
       "      <td>Handlers-cleaners</td>\n",
       "      <td>Husband</td>\n",
       "      <td>Black</td>\n",
       "      <td>Male</td>\n",
       "      <td>0</td>\n",
       "      <td>0</td>\n",
       "      <td>40</td>\n",
       "      <td>1</td>\n",
       "      <td>&lt;=50K</td>\n",
       "    </tr>\n",
       "    <tr>\n",
       "      <th>4</th>\n",
       "      <td>28</td>\n",
       "      <td>Private</td>\n",
       "      <td>338409</td>\n",
       "      <td>Bachelors</td>\n",
       "      <td>13</td>\n",
       "      <td>Married-civ-spouse</td>\n",
       "      <td>Prof-specialty</td>\n",
       "      <td>Wife</td>\n",
       "      <td>Black</td>\n",
       "      <td>Female</td>\n",
       "      <td>0</td>\n",
       "      <td>0</td>\n",
       "      <td>40</td>\n",
       "      <td>0</td>\n",
       "      <td>&lt;=50K</td>\n",
       "    </tr>\n",
       "  </tbody>\n",
       "</table>\n",
       "</div>"
      ],
      "text/plain": [
       "   age          workclass  fnlwgt   education  education_num  \\\n",
       "0   39          State-gov   77516   Bachelors             13   \n",
       "1   50   Self-emp-not-inc   83311   Bachelors             13   \n",
       "2   38            Private  215646     HS-grad              9   \n",
       "3   53            Private  234721        11th              7   \n",
       "4   28            Private  338409   Bachelors             13   \n",
       "\n",
       "        marital_status          occupation    relationship    race      sex  \\\n",
       "0        Never-married        Adm-clerical   Not-in-family   White     Male   \n",
       "1   Married-civ-spouse     Exec-managerial         Husband   White     Male   \n",
       "2             Divorced   Handlers-cleaners   Not-in-family   White     Male   \n",
       "3   Married-civ-spouse   Handlers-cleaners         Husband   Black     Male   \n",
       "4   Married-civ-spouse      Prof-specialty            Wife   Black   Female   \n",
       "\n",
       "   capital_gain  capital_loss  hours_per_week  native_country  income  \n",
       "0          2174             0              40               1   <=50K  \n",
       "1             0             0              13               1   <=50K  \n",
       "2             0             0              40               1   <=50K  \n",
       "3             0             0              40               1   <=50K  \n",
       "4             0             0              40               0   <=50K  "
      ]
     },
     "execution_count": 199,
     "metadata": {},
     "output_type": "execute_result"
    }
   ],
   "source": [
    "imputedf['native_country'] = imputedf['native_country'].apply(lambda x:  1 if x == ' United-States' else 0)\n",
    "imputedf.head()"
   ]
  },
  {
   "cell_type": "markdown",
   "metadata": {},
   "source": [
    "### Normalizing/Scaling numerical data"
   ]
  },
  {
   "cell_type": "code",
   "execution_count": 200,
   "metadata": {
    "scrolled": false
   },
   "outputs": [
    {
     "data": {
      "text/html": [
       "<div>\n",
       "<style scoped>\n",
       "    .dataframe tbody tr th:only-of-type {\n",
       "        vertical-align: middle;\n",
       "    }\n",
       "\n",
       "    .dataframe tbody tr th {\n",
       "        vertical-align: top;\n",
       "    }\n",
       "\n",
       "    .dataframe thead th {\n",
       "        text-align: right;\n",
       "    }\n",
       "</style>\n",
       "<table border=\"1\" class=\"dataframe\">\n",
       "  <thead>\n",
       "    <tr style=\"text-align: right;\">\n",
       "      <th></th>\n",
       "      <th>age</th>\n",
       "      <th>fnlwgt</th>\n",
       "      <th>education_num</th>\n",
       "      <th>capital_gain</th>\n",
       "      <th>capital_loss</th>\n",
       "      <th>hours_per_week</th>\n",
       "      <th>native_country</th>\n",
       "      <th>workclass</th>\n",
       "      <th>education</th>\n",
       "      <th>marital_status</th>\n",
       "      <th>occupation</th>\n",
       "      <th>relationship</th>\n",
       "      <th>race</th>\n",
       "      <th>sex</th>\n",
       "    </tr>\n",
       "  </thead>\n",
       "  <tbody>\n",
       "    <tr>\n",
       "      <th>0</th>\n",
       "      <td>0.30137</td>\n",
       "      <td>0.0443019</td>\n",
       "      <td>0.8</td>\n",
       "      <td>0.0217402</td>\n",
       "      <td>0</td>\n",
       "      <td>0.397959</td>\n",
       "      <td>1</td>\n",
       "      <td>State-gov</td>\n",
       "      <td>Bachelors</td>\n",
       "      <td>Never-married</td>\n",
       "      <td>Adm-clerical</td>\n",
       "      <td>Not-in-family</td>\n",
       "      <td>White</td>\n",
       "      <td>Male</td>\n",
       "    </tr>\n",
       "    <tr>\n",
       "      <th>1</th>\n",
       "      <td>0.452055</td>\n",
       "      <td>0.0482376</td>\n",
       "      <td>0.8</td>\n",
       "      <td>0</td>\n",
       "      <td>0</td>\n",
       "      <td>0.122449</td>\n",
       "      <td>1</td>\n",
       "      <td>Self-emp-not-inc</td>\n",
       "      <td>Bachelors</td>\n",
       "      <td>Married-civ-spouse</td>\n",
       "      <td>Exec-managerial</td>\n",
       "      <td>Husband</td>\n",
       "      <td>White</td>\n",
       "      <td>Male</td>\n",
       "    </tr>\n",
       "    <tr>\n",
       "      <th>2</th>\n",
       "      <td>0.287671</td>\n",
       "      <td>0.138113</td>\n",
       "      <td>0.533333</td>\n",
       "      <td>0</td>\n",
       "      <td>0</td>\n",
       "      <td>0.397959</td>\n",
       "      <td>1</td>\n",
       "      <td>Private</td>\n",
       "      <td>HS-grad</td>\n",
       "      <td>Divorced</td>\n",
       "      <td>Handlers-cleaners</td>\n",
       "      <td>Not-in-family</td>\n",
       "      <td>White</td>\n",
       "      <td>Male</td>\n",
       "    </tr>\n",
       "    <tr>\n",
       "      <th>3</th>\n",
       "      <td>0.493151</td>\n",
       "      <td>0.151068</td>\n",
       "      <td>0.4</td>\n",
       "      <td>0</td>\n",
       "      <td>0</td>\n",
       "      <td>0.397959</td>\n",
       "      <td>1</td>\n",
       "      <td>Private</td>\n",
       "      <td>11th</td>\n",
       "      <td>Married-civ-spouse</td>\n",
       "      <td>Handlers-cleaners</td>\n",
       "      <td>Husband</td>\n",
       "      <td>Black</td>\n",
       "      <td>Male</td>\n",
       "    </tr>\n",
       "    <tr>\n",
       "      <th>4</th>\n",
       "      <td>0.150685</td>\n",
       "      <td>0.221488</td>\n",
       "      <td>0.8</td>\n",
       "      <td>0</td>\n",
       "      <td>0</td>\n",
       "      <td>0.397959</td>\n",
       "      <td>0</td>\n",
       "      <td>Private</td>\n",
       "      <td>Bachelors</td>\n",
       "      <td>Married-civ-spouse</td>\n",
       "      <td>Prof-specialty</td>\n",
       "      <td>Wife</td>\n",
       "      <td>Black</td>\n",
       "      <td>Female</td>\n",
       "    </tr>\n",
       "  </tbody>\n",
       "</table>\n",
       "</div>"
      ],
      "text/plain": [
       "        age     fnlwgt education_num capital_gain capital_loss hours_per_week  \\\n",
       "0   0.30137  0.0443019           0.8    0.0217402            0       0.397959   \n",
       "1  0.452055  0.0482376           0.8            0            0       0.122449   \n",
       "2  0.287671   0.138113      0.533333            0            0       0.397959   \n",
       "3  0.493151   0.151068           0.4            0            0       0.397959   \n",
       "4  0.150685   0.221488           0.8            0            0       0.397959   \n",
       "\n",
       "  native_country          workclass   education       marital_status  \\\n",
       "0              1          State-gov   Bachelors        Never-married   \n",
       "1              1   Self-emp-not-inc   Bachelors   Married-civ-spouse   \n",
       "2              1            Private     HS-grad             Divorced   \n",
       "3              1            Private        11th   Married-civ-spouse   \n",
       "4              0            Private   Bachelors   Married-civ-spouse   \n",
       "\n",
       "           occupation    relationship    race      sex  \n",
       "0        Adm-clerical   Not-in-family   White     Male  \n",
       "1     Exec-managerial         Husband   White     Male  \n",
       "2   Handlers-cleaners   Not-in-family   White     Male  \n",
       "3   Handlers-cleaners         Husband   Black     Male  \n",
       "4      Prof-specialty            Wife   Black   Female  "
      ]
     },
     "execution_count": 200,
     "metadata": {},
     "output_type": "execute_result"
    }
   ],
   "source": [
    "from sklearn.preprocessing import OneHotEncoder, MinMaxScaler\n",
    "from sklearn.compose import ColumnTransformer\n",
    "\n",
    "featureData = imputedf.iloc[:,:-1]\n",
    "targetData = imputedf.iloc[:,-1]\n",
    "\n",
    "categoricalFeatures = [col for col in featureData.columns if featureData[col].dtype=='O']\n",
    "numericalFeatures = [col for col in featureData.columns if featureData[col].dtype!='O']\n",
    "\n",
    "preprocessor = ColumnTransformer(transformers = [('scl', MinMaxScaler(), numericalFeatures)], remainder='passthrough')\n",
    "ScaledData = pd.DataFrame(preprocessor.fit_transform(featureData), columns = numericalFeatures + categoricalFeatures)\n",
    "\n",
    "ScaledData.head()"
   ]
  },
  {
   "cell_type": "markdown",
   "metadata": {},
   "source": [
    "### Observation of Outliers"
   ]
  },
  {
   "cell_type": "code",
   "execution_count": 190,
   "metadata": {
    "scrolled": true
   },
   "outputs": [
    {
     "data": {
      "image/png": "[encoded data removed]",
      "text/plain": [
       "<Figure size 720x720 with 1 Axes>"
      ]
     },
     "metadata": {
      "needs_background": "light"
     },
     "output_type": "display_data"
    },
    {
     "data": {
      "image/png": "[encoded data removed]",
      "text/plain": [
       "<Figure size 720x720 with 1 Axes>"
      ]
     },
     "metadata": {
      "needs_background": "light"
     },
     "output_type": "display_data"
    },
    {
     "data": {
      "image/png": "[encoded data removed]",
      "text/plain": [
       "<Figure size 720x720 with 1 Axes>"
      ]
     },
     "metadata": {
      "needs_background": "light"
     },
     "output_type": "display_data"
    },
    {
     "data": {
      "image/png": "[encoded data removed]",
      "text/plain": [
       "<Figure size 720x720 with 1 Axes>"
      ]
     },
     "metadata": {
      "needs_background": "light"
     },
     "output_type": "display_data"
    },
    {
     "data": {
      "image/png": "[encoded data removed]",
      "text/plain": [
       "<Figure size 720x720 with 1 Axes>"
      ]
     },
     "metadata": {
      "needs_background": "light"
     },
     "output_type": "display_data"
    },
    {
     "data": {
      "image/png": "[encoded data removed]",
      "text/plain": [
       "<Figure size 720x720 with 1 Axes>"
      ]
     },
     "metadata": {
      "needs_background": "light"
     },
     "output_type": "display_data"
    },
    {
     "data": {
      "image/png": "[encoded data removed]",
      "text/plain": [
       "<Figure size 720x720 with 1 Axes>"
      ]
     },
     "metadata": {
      "needs_background": "light"
     },
     "output_type": "display_data"
    }
   ],
   "source": [
    "for i in numericalFeatures:\n",
    "    plt.figure(figsize=(10, 10))\n",
    "    sns.boxplot(data= ScaledData[i]).set_title(i)\n",
    "    plt.show();"
   ]
  },
  {
   "cell_type": "markdown",
   "metadata": {},
   "source": [
    "### Handling Outliers"
   ]
  },
  {
   "cell_type": "code",
   "execution_count": 191,
   "metadata": {},
   "outputs": [
    {
     "name": "stdout",
     "output_type": "stream",
     "text": [
      "(32561, 14)\n",
      "(32561,)\n",
      "(32402, 14)\n",
      "(32402,)\n"
     ]
    }
   ],
   "source": [
    "# drop the outlier values in field capital-gain\n",
    "print(ScaledData.shape)\n",
    "print(targetData.shape)\n",
    "indices = ScaledData[(ScaledData['capital_gain'] == 1.0)].index\n",
    "ScaledData.drop(indices, inplace = True)\n",
    "targetData.drop(indices, inplace = True)\n",
    "print(ScaledData.shape)\n",
    "print(targetData.shape)"
   ]
  },
  {
   "cell_type": "markdown",
   "metadata": {},
   "source": [
    "### One Hot Encoding Categorical variables"
   ]
  },
  {
   "cell_type": "code",
   "execution_count": 275,
   "metadata": {
    "scrolled": false
   },
   "outputs": [
    {
     "name": "stdout",
     "output_type": "stream",
     "text": [
      "(32561, 65)\n",
      "(32561,)\n",
      "\n",
      "Data after one hot encoding\n"
     ]
    },
    {
     "data": {
      "text/html": [
       "<div>\n",
       "<style scoped>\n",
       "    .dataframe tbody tr th:only-of-type {\n",
       "        vertical-align: middle;\n",
       "    }\n",
       "\n",
       "    .dataframe tbody tr th {\n",
       "        vertical-align: top;\n",
       "    }\n",
       "\n",
       "    .dataframe thead th {\n",
       "        text-align: right;\n",
       "    }\n",
       "</style>\n",
       "<table border=\"1\" class=\"dataframe\">\n",
       "  <thead>\n",
       "    <tr style=\"text-align: right;\">\n",
       "      <th></th>\n",
       "      <th>x0_ Federal-gov</th>\n",
       "      <th>x0_ Local-gov</th>\n",
       "      <th>x0_ Never-worked</th>\n",
       "      <th>x0_ Private</th>\n",
       "      <th>x0_ Self-emp-inc</th>\n",
       "      <th>x0_ Self-emp-not-inc</th>\n",
       "      <th>x0_ State-gov</th>\n",
       "      <th>x0_ Without-pay</th>\n",
       "      <th>x1_ 10th</th>\n",
       "      <th>x1_ 11th</th>\n",
       "      <th>...</th>\n",
       "      <th>x5_ White</th>\n",
       "      <th>x6_ Female</th>\n",
       "      <th>x6_ Male</th>\n",
       "      <th>age</th>\n",
       "      <th>fnlwgt</th>\n",
       "      <th>education_num</th>\n",
       "      <th>capital_gain</th>\n",
       "      <th>capital_loss</th>\n",
       "      <th>hours_per_week</th>\n",
       "      <th>native_country</th>\n",
       "    </tr>\n",
       "  </thead>\n",
       "  <tbody>\n",
       "    <tr>\n",
       "      <th>0</th>\n",
       "      <td>0.0</td>\n",
       "      <td>0.0</td>\n",
       "      <td>0.0</td>\n",
       "      <td>0.0</td>\n",
       "      <td>0.0</td>\n",
       "      <td>0.0</td>\n",
       "      <td>1.0</td>\n",
       "      <td>0.0</td>\n",
       "      <td>0.0</td>\n",
       "      <td>0.0</td>\n",
       "      <td>...</td>\n",
       "      <td>1.0</td>\n",
       "      <td>0.0</td>\n",
       "      <td>1.0</td>\n",
       "      <td>0.301370</td>\n",
       "      <td>0.044302</td>\n",
       "      <td>0.800000</td>\n",
       "      <td>0.02174</td>\n",
       "      <td>0.0</td>\n",
       "      <td>0.397959</td>\n",
       "      <td>1.0</td>\n",
       "    </tr>\n",
       "    <tr>\n",
       "      <th>1</th>\n",
       "      <td>0.0</td>\n",
       "      <td>0.0</td>\n",
       "      <td>0.0</td>\n",
       "      <td>0.0</td>\n",
       "      <td>0.0</td>\n",
       "      <td>1.0</td>\n",
       "      <td>0.0</td>\n",
       "      <td>0.0</td>\n",
       "      <td>0.0</td>\n",
       "      <td>0.0</td>\n",
       "      <td>...</td>\n",
       "      <td>1.0</td>\n",
       "      <td>0.0</td>\n",
       "      <td>1.0</td>\n",
       "      <td>0.452055</td>\n",
       "      <td>0.048238</td>\n",
       "      <td>0.800000</td>\n",
       "      <td>0.00000</td>\n",
       "      <td>0.0</td>\n",
       "      <td>0.122449</td>\n",
       "      <td>1.0</td>\n",
       "    </tr>\n",
       "    <tr>\n",
       "      <th>2</th>\n",
       "      <td>0.0</td>\n",
       "      <td>0.0</td>\n",
       "      <td>0.0</td>\n",
       "      <td>1.0</td>\n",
       "      <td>0.0</td>\n",
       "      <td>0.0</td>\n",
       "      <td>0.0</td>\n",
       "      <td>0.0</td>\n",
       "      <td>0.0</td>\n",
       "      <td>0.0</td>\n",
       "      <td>...</td>\n",
       "      <td>1.0</td>\n",
       "      <td>0.0</td>\n",
       "      <td>1.0</td>\n",
       "      <td>0.287671</td>\n",
       "      <td>0.138113</td>\n",
       "      <td>0.533333</td>\n",
       "      <td>0.00000</td>\n",
       "      <td>0.0</td>\n",
       "      <td>0.397959</td>\n",
       "      <td>1.0</td>\n",
       "    </tr>\n",
       "    <tr>\n",
       "      <th>3</th>\n",
       "      <td>0.0</td>\n",
       "      <td>0.0</td>\n",
       "      <td>0.0</td>\n",
       "      <td>1.0</td>\n",
       "      <td>0.0</td>\n",
       "      <td>0.0</td>\n",
       "      <td>0.0</td>\n",
       "      <td>0.0</td>\n",
       "      <td>0.0</td>\n",
       "      <td>1.0</td>\n",
       "      <td>...</td>\n",
       "      <td>0.0</td>\n",
       "      <td>0.0</td>\n",
       "      <td>1.0</td>\n",
       "      <td>0.493151</td>\n",
       "      <td>0.151068</td>\n",
       "      <td>0.400000</td>\n",
       "      <td>0.00000</td>\n",
       "      <td>0.0</td>\n",
       "      <td>0.397959</td>\n",
       "      <td>1.0</td>\n",
       "    </tr>\n",
       "    <tr>\n",
       "      <th>4</th>\n",
       "      <td>0.0</td>\n",
       "      <td>0.0</td>\n",
       "      <td>0.0</td>\n",
       "      <td>1.0</td>\n",
       "      <td>0.0</td>\n",
       "      <td>0.0</td>\n",
       "      <td>0.0</td>\n",
       "      <td>0.0</td>\n",
       "      <td>0.0</td>\n",
       "      <td>0.0</td>\n",
       "      <td>...</td>\n",
       "      <td>0.0</td>\n",
       "      <td>1.0</td>\n",
       "      <td>0.0</td>\n",
       "      <td>0.150685</td>\n",
       "      <td>0.221488</td>\n",
       "      <td>0.800000</td>\n",
       "      <td>0.00000</td>\n",
       "      <td>0.0</td>\n",
       "      <td>0.397959</td>\n",
       "      <td>0.0</td>\n",
       "    </tr>\n",
       "  </tbody>\n",
       "</table>\n",
       "<p>5 rows × 65 columns</p>\n",
       "</div>"
      ],
      "text/plain": [
       "   x0_ Federal-gov  x0_ Local-gov  x0_ Never-worked  x0_ Private  \\\n",
       "0              0.0            0.0               0.0          0.0   \n",
       "1              0.0            0.0               0.0          0.0   \n",
       "2              0.0            0.0               0.0          1.0   \n",
       "3              0.0            0.0               0.0          1.0   \n",
       "4              0.0            0.0               0.0          1.0   \n",
       "\n",
       "   x0_ Self-emp-inc  x0_ Self-emp-not-inc  x0_ State-gov  x0_ Without-pay  \\\n",
       "0               0.0                   0.0            1.0              0.0   \n",
       "1               0.0                   1.0            0.0              0.0   \n",
       "2               0.0                   0.0            0.0              0.0   \n",
       "3               0.0                   0.0            0.0              0.0   \n",
       "4               0.0                   0.0            0.0              0.0   \n",
       "\n",
       "   x1_ 10th  x1_ 11th  ...  x5_ White  x6_ Female  x6_ Male       age  \\\n",
       "0       0.0       0.0  ...        1.0         0.0       1.0  0.301370   \n",
       "1       0.0       0.0  ...        1.0         0.0       1.0  0.452055   \n",
       "2       0.0       0.0  ...        1.0         0.0       1.0  0.287671   \n",
       "3       0.0       1.0  ...        0.0         0.0       1.0  0.493151   \n",
       "4       0.0       0.0  ...        0.0         1.0       0.0  0.150685   \n",
       "\n",
       "     fnlwgt  education_num  capital_gain  capital_loss  hours_per_week  \\\n",
       "0  0.044302       0.800000       0.02174           0.0        0.397959   \n",
       "1  0.048238       0.800000       0.00000           0.0        0.122449   \n",
       "2  0.138113       0.533333       0.00000           0.0        0.397959   \n",
       "3  0.151068       0.400000       0.00000           0.0        0.397959   \n",
       "4  0.221488       0.800000       0.00000           0.0        0.397959   \n",
       "\n",
       "   native_country  \n",
       "0             1.0  \n",
       "1             1.0  \n",
       "2             1.0  \n",
       "3             1.0  \n",
       "4             0.0  \n",
       "\n",
       "[5 rows x 65 columns]"
      ]
     },
     "execution_count": 275,
     "metadata": {},
     "output_type": "execute_result"
    }
   ],
   "source": [
    "preprocessor = ColumnTransformer(transformers = [('cat1', OneHotEncoder(sparse=\"False\"), categoricalFeatures)]\n",
    "                                , remainder='passthrough')\n",
    "\n",
    "transformedData = preprocessor.fit_transform(ScaledData).toarray()\n",
    "\n",
    "# Make the class labels to be a binary variable as there are only 2 classes\n",
    "classData = np.array(targetData.map({' <=50K':0, ' >50K':1}))\n",
    "\n",
    "col_names = categoricalFeatures + numericalFeatures\n",
    "\n",
    "print(transformedData.shape)\n",
    "print(classData.shape)\n",
    "cat_col_names = preprocessor.named_transformers_['cat1'].get_feature_names()\n",
    "\n",
    "col_names_ohe = cat_col_names.tolist() + numericalFeatures\n",
    "\n",
    "df_ohe = pd.DataFrame(transformedData, columns = col_names_ohe)\n",
    "\n",
    "print('\\nData after one hot encoding')\n",
    "df_ohe.head()"
   ]
  },
  {
   "cell_type": "markdown",
   "metadata": {},
   "source": [
    "## Code Section 2 - Baseline model Evaluation"
   ]
  },
  {
   "cell_type": "markdown",
   "metadata": {},
   "source": [
    "#### Decision Tree Classifier"
   ]
  },
  {
   "cell_type": "code",
   "execution_count": 432,
   "metadata": {},
   "outputs": [
    {
     "name": "stdout",
     "output_type": "stream",
     "text": [
      "Accuracy for Decision Tree is  81.45637085574144\n"
     ]
    }
   ],
   "source": [
    "Baseline_model_results = dict()\n",
    "allResults= []\n",
    "\n",
    "kf= model_selection.StratifiedKFold(n_splits=10, shuffle=True, random_state=1)\n",
    "\n",
    "for train_index, test_index in kf.split(transformedData, classData):\n",
    "    clf= tree.DecisionTreeClassifier(random_state=1)\n",
    "    clf= clf.fit(transformedData[train_index], classData[train_index])\n",
    "\n",
    "    # predict the class for an unseen example\n",
    "    results= clf.predict(transformedData[test_index])\n",
    "    allResults.append(metrics.accuracy_score(results, classData[test_index]))\n",
    "\n",
    "accuracy = (np.mean(allResults) * 100)\n",
    "Baseline_model_results['Decision Tree'] = accuracy\n",
    "print(\"Accuracy for Decision Tree is \", accuracy)\n"
   ]
  },
  {
   "cell_type": "markdown",
   "metadata": {},
   "source": [
    "#### Linear SVC Classifier (Support vector with linear kernel)"
   ]
  },
  {
   "cell_type": "code",
   "execution_count": 433,
   "metadata": {},
   "outputs": [
    {
     "name": "stdout",
     "output_type": "stream",
     "text": [
      "Accuracy for Linear SVC is  85.10795496979101\n"
     ]
    }
   ],
   "source": [
    "from sklearn.svm import LinearSVC\n",
    "\n",
    "allResults= []\n",
    "\n",
    "kf= model_selection.StratifiedKFold(n_splits=10, shuffle=True, random_state=1)\n",
    "\n",
    "for train_index, test_index in kf.split(transformedData, classData):\n",
    "    clf= LinearSVC(random_state=0)\n",
    "    clf= clf.fit(transformedData[train_index], classData[train_index])\n",
    "\n",
    "    # predict the class for an unseen example\n",
    "    results= clf.predict(transformedData[test_index])\n",
    "    allResults.append(metrics.accuracy_score(results, classData[test_index]))\n",
    "\n",
    "accuracy = (np.mean(allResults) * 100)\n",
    "Baseline_model_results['Linear SVC'] = accuracy\n",
    "print (\"Accuracy for Linear SVC is \", accuracy)"
   ]
  },
  {
   "cell_type": "markdown",
   "metadata": {},
   "source": [
    "#### Random Forest Classifier"
   ]
  },
  {
   "cell_type": "code",
   "execution_count": 434,
   "metadata": {
    "scrolled": true
   },
   "outputs": [
    {
     "name": "stderr",
     "output_type": "stream",
     "text": [
      "C:\\Users\\hp\\Anaconda3\\lib\\site-packages\\sklearn\\ensemble\\forest.py:245: FutureWarning: The default value of n_estimators will change from 10 in version 0.20 to 100 in 0.22.\n",
      "  \"10 in version 0.20 to 100 in 0.22.\", FutureWarning)\n",
      "C:\\Users\\hp\\Anaconda3\\lib\\site-packages\\sklearn\\ensemble\\forest.py:245: FutureWarning: The default value of n_estimators will change from 10 in version 0.20 to 100 in 0.22.\n",
      "  \"10 in version 0.20 to 100 in 0.22.\", FutureWarning)\n",
      "C:\\Users\\hp\\Anaconda3\\lib\\site-packages\\sklearn\\ensemble\\forest.py:245: FutureWarning: The default value of n_estimators will change from 10 in version 0.20 to 100 in 0.22.\n",
      "  \"10 in version 0.20 to 100 in 0.22.\", FutureWarning)\n",
      "C:\\Users\\hp\\Anaconda3\\lib\\site-packages\\sklearn\\ensemble\\forest.py:245: FutureWarning: The default value of n_estimators will change from 10 in version 0.20 to 100 in 0.22.\n",
      "  \"10 in version 0.20 to 100 in 0.22.\", FutureWarning)\n",
      "C:\\Users\\hp\\Anaconda3\\lib\\site-packages\\sklearn\\ensemble\\forest.py:245: FutureWarning: The default value of n_estimators will change from 10 in version 0.20 to 100 in 0.22.\n",
      "  \"10 in version 0.20 to 100 in 0.22.\", FutureWarning)\n",
      "C:\\Users\\hp\\Anaconda3\\lib\\site-packages\\sklearn\\ensemble\\forest.py:245: FutureWarning: The default value of n_estimators will change from 10 in version 0.20 to 100 in 0.22.\n",
      "  \"10 in version 0.20 to 100 in 0.22.\", FutureWarning)\n",
      "C:\\Users\\hp\\Anaconda3\\lib\\site-packages\\sklearn\\ensemble\\forest.py:245: FutureWarning: The default value of n_estimators will change from 10 in version 0.20 to 100 in 0.22.\n",
      "  \"10 in version 0.20 to 100 in 0.22.\", FutureWarning)\n",
      "C:\\Users\\hp\\Anaconda3\\lib\\site-packages\\sklearn\\ensemble\\forest.py:245: FutureWarning: The default value of n_estimators will change from 10 in version 0.20 to 100 in 0.22.\n",
      "  \"10 in version 0.20 to 100 in 0.22.\", FutureWarning)\n",
      "C:\\Users\\hp\\Anaconda3\\lib\\site-packages\\sklearn\\ensemble\\forest.py:245: FutureWarning: The default value of n_estimators will change from 10 in version 0.20 to 100 in 0.22.\n",
      "  \"10 in version 0.20 to 100 in 0.22.\", FutureWarning)\n",
      "C:\\Users\\hp\\Anaconda3\\lib\\site-packages\\sklearn\\ensemble\\forest.py:245: FutureWarning: The default value of n_estimators will change from 10 in version 0.20 to 100 in 0.22.\n",
      "  \"10 in version 0.20 to 100 in 0.22.\", FutureWarning)\n"
     ]
    },
    {
     "name": "stdout",
     "output_type": "stream",
     "text": [
      "Accuracy for Random Forest is  84.69336692317964\n"
     ]
    }
   ],
   "source": [
    "from sklearn.ensemble import RandomForestClassifier\n",
    "\n",
    "allResults= []\n",
    "\n",
    "kf= model_selection.StratifiedKFold(n_splits=10, shuffle=True, random_state=1)\n",
    "\n",
    "for train_index, test_index in kf.split(transformedData, classData):\n",
    "    clf= RandomForestClassifier(random_state=0)\n",
    "    clf= clf.fit(transformedData[train_index], classData[train_index])\n",
    "\n",
    "    # predict the class for an unseen example\n",
    "    results= clf.predict(transformedData[test_index])\n",
    "    allResults.append(metrics.accuracy_score(results, classData[test_index]))\n",
    "\n",
    "accuracy = (np.mean(allResults) * 100)\n",
    "Baseline_model_results['Random Forest'] = accuracy\n",
    "print (\"Accuracy for Random Forest is \", accuracy)"
   ]
  },
  {
   "cell_type": "markdown",
   "metadata": {},
   "source": [
    "#### Support vector Classifier"
   ]
  },
  {
   "cell_type": "code",
   "execution_count": 435,
   "metadata": {},
   "outputs": [
    {
     "name": "stdout",
     "output_type": "stream",
     "text": [
      "Accuracy for SVM is  83.02571988210612\n"
     ]
    }
   ],
   "source": [
    "from sklearn.svm import SVC\n",
    "\n",
    "allResults= []\n",
    "\n",
    "kf= model_selection.StratifiedKFold(n_splits=10, shuffle=True, random_state=1)\n",
    "\n",
    "for train_index, test_index in kf.split(transformedData, classData):\n",
    "    clf = SVC(gamma='auto', random_state = 0)\n",
    "    clf= clf.fit(transformedData[train_index], classData[train_index])\n",
    "\n",
    "    # predict the class for an unseen example\n",
    "    results= clf.predict(transformedData[test_index])\n",
    "    allResults.append(metrics.accuracy_score(results, classData[test_index]))\n",
    "\n",
    "accuracy = (np.mean(allResults) * 100)\n",
    "Baseline_model_results['SVM'] = accuracy\n",
    "print (\"Accuracy for SVM is \", accuracy)"
   ]
  },
  {
   "cell_type": "markdown",
   "metadata": {},
   "source": [
    "#### Naive Bayes Classifier"
   ]
  },
  {
   "cell_type": "code",
   "execution_count": 436,
   "metadata": {},
   "outputs": [
    {
     "name": "stdout",
     "output_type": "stream",
     "text": [
      "Accuracy for Naive Bayes is  79.11919347404456\n"
     ]
    }
   ],
   "source": [
    "from sklearn.naive_bayes import MultinomialNB\n",
    "\n",
    "allResults= []\n",
    "\n",
    "kf= model_selection.StratifiedKFold(n_splits=10, shuffle=True, random_state=1)\n",
    "\n",
    "for train_index, test_index in kf.split(transformedData, classData):\n",
    "    clf= MultinomialNB()\n",
    "    clf= clf.fit(transformedData[train_index], classData[train_index])\n",
    "\n",
    "    # predict the class for an unseen example\n",
    "    results= clf.predict(transformedData[test_index])\n",
    "    allResults.append(metrics.accuracy_score(results, classData[test_index]))\n",
    "\n",
    "accuracy = (np.mean(allResults) * 100)\n",
    "Baseline_model_results['Naive Bayes'] = accuracy\n",
    "print (\"Accuracy for Naive Bayes is \", accuracy)"
   ]
  },
  {
   "cell_type": "markdown",
   "metadata": {},
   "source": [
    "#### KNN Classifier"
   ]
  },
  {
   "cell_type": "code",
   "execution_count": 437,
   "metadata": {
    "scrolled": true
   },
   "outputs": [
    {
     "name": "stdout",
     "output_type": "stream",
     "text": [
      "Accuracy for KNN is  82.50363892097083\n"
     ]
    }
   ],
   "source": [
    "from sklearn.neighbors import KNeighborsClassifier\n",
    "\n",
    "allResults= []\n",
    "\n",
    "kf= model_selection.StratifiedKFold(n_splits=10, shuffle=True, random_state=1)\n",
    "\n",
    "for train_index, test_index in kf.split(transformedData, classData):\n",
    "    clf= KNeighborsClassifier()\n",
    "    clf= clf.fit(transformedData[train_index], classData[train_index])\n",
    "\n",
    "    # predict the class for an unseen example\n",
    "    results= clf.predict(transformedData[test_index])\n",
    "    allResults.append(metrics.accuracy_score(results, classData[test_index]))\n",
    "\n",
    "accuracy = (np.mean(allResults) * 100)\n",
    "Baseline_model_results['KNN'] = accuracy\n",
    "print (\"Accuracy for KNN is \", accuracy)"
   ]
  },
  {
   "cell_type": "markdown",
   "metadata": {},
   "source": [
    "#### Logistic Regression Classifier"
   ]
  },
  {
   "cell_type": "code",
   "execution_count": 438,
   "metadata": {},
   "outputs": [
    {
     "name": "stderr",
     "output_type": "stream",
     "text": [
      "C:\\Users\\hp\\Anaconda3\\lib\\site-packages\\sklearn\\linear_model\\logistic.py:432: FutureWarning: Default solver will be changed to 'lbfgs' in 0.22. Specify a solver to silence this warning.\n",
      "  FutureWarning)\n",
      "C:\\Users\\hp\\Anaconda3\\lib\\site-packages\\sklearn\\linear_model\\logistic.py:432: FutureWarning: Default solver will be changed to 'lbfgs' in 0.22. Specify a solver to silence this warning.\n",
      "  FutureWarning)\n",
      "C:\\Users\\hp\\Anaconda3\\lib\\site-packages\\sklearn\\linear_model\\logistic.py:432: FutureWarning: Default solver will be changed to 'lbfgs' in 0.22. Specify a solver to silence this warning.\n",
      "  FutureWarning)\n",
      "C:\\Users\\hp\\Anaconda3\\lib\\site-packages\\sklearn\\linear_model\\logistic.py:432: FutureWarning: Default solver will be changed to 'lbfgs' in 0.22. Specify a solver to silence this warning.\n",
      "  FutureWarning)\n",
      "C:\\Users\\hp\\Anaconda3\\lib\\site-packages\\sklearn\\linear_model\\logistic.py:432: FutureWarning: Default solver will be changed to 'lbfgs' in 0.22. Specify a solver to silence this warning.\n",
      "  FutureWarning)\n",
      "C:\\Users\\hp\\Anaconda3\\lib\\site-packages\\sklearn\\linear_model\\logistic.py:432: FutureWarning: Default solver will be changed to 'lbfgs' in 0.22. Specify a solver to silence this warning.\n",
      "  FutureWarning)\n",
      "C:\\Users\\hp\\Anaconda3\\lib\\site-packages\\sklearn\\linear_model\\logistic.py:432: FutureWarning: Default solver will be changed to 'lbfgs' in 0.22. Specify a solver to silence this warning.\n",
      "  FutureWarning)\n",
      "C:\\Users\\hp\\Anaconda3\\lib\\site-packages\\sklearn\\linear_model\\logistic.py:432: FutureWarning: Default solver will be changed to 'lbfgs' in 0.22. Specify a solver to silence this warning.\n",
      "  FutureWarning)\n",
      "C:\\Users\\hp\\Anaconda3\\lib\\site-packages\\sklearn\\linear_model\\logistic.py:432: FutureWarning: Default solver will be changed to 'lbfgs' in 0.22. Specify a solver to silence this warning.\n",
      "  FutureWarning)\n",
      "C:\\Users\\hp\\Anaconda3\\lib\\site-packages\\sklearn\\linear_model\\logistic.py:432: FutureWarning: Default solver will be changed to 'lbfgs' in 0.22. Specify a solver to silence this warning.\n",
      "  FutureWarning)\n"
     ]
    },
    {
     "name": "stdout",
     "output_type": "stream",
     "text": [
      "Accuracy for Logistic Regression is  84.92675292452695\n"
     ]
    }
   ],
   "source": [
    "from sklearn.linear_model import LogisticRegression\n",
    "\n",
    "allResults= []\n",
    "\n",
    "kf= model_selection.StratifiedKFold(n_splits=10, shuffle=True, random_state=1)\n",
    "\n",
    "for train_index, test_index in kf.split(transformedData, classData):\n",
    "    clf= LogisticRegression(random_state=0)\n",
    "    clf= clf.fit(transformedData[train_index], classData[train_index])\n",
    "\n",
    "    # predict the class for an unseen example\n",
    "    results= clf.predict(transformedData[test_index])\n",
    "    allResults.append(metrics.accuracy_score(results, classData[test_index]))\n",
    "\n",
    "accuracy = (np.mean(allResults) * 100)\n",
    "Baseline_model_results['Logistic Regression'] = accuracy\n",
    "print (\"Accuracy for Logistic Regression is \", accuracy)"
   ]
  },
  {
   "cell_type": "markdown",
   "metadata": {},
   "source": [
    "#### Gradient Boosting Classifier"
   ]
  },
  {
   "cell_type": "code",
   "execution_count": 439,
   "metadata": {},
   "outputs": [
    {
     "name": "stdout",
     "output_type": "stream",
     "text": [
      "Accuracy for Gradient Boosting is  86.5636949786474\n"
     ]
    }
   ],
   "source": [
    "from sklearn.ensemble import GradientBoostingClassifier\n",
    "\n",
    "allResults= []\n",
    "\n",
    "kf= model_selection.StratifiedKFold(n_splits=10, shuffle=True, random_state=1)\n",
    "\n",
    "for train_index, test_index in kf.split(transformedData, classData):\n",
    "    clf= GradientBoostingClassifier(random_state=0)\n",
    "    clf= clf.fit(transformedData[train_index], classData[train_index])\n",
    "\n",
    "    # predict the class for an unseen example\n",
    "    results= clf.predict(transformedData[test_index])\n",
    "    allResults.append(metrics.accuracy_score(results, classData[test_index]))\n",
    "\n",
    "accuracy = (np.mean(allResults) * 100)\n",
    "Baseline_model_results['Gradient Boosting'] = accuracy\n",
    "print (\"Accuracy for Gradient Boosting is \", accuracy)"
   ]
  },
  {
   "cell_type": "markdown",
   "metadata": {},
   "source": [
    "### Baseline Models Accuracy Evaluation (Report section 4.1)"
   ]
  },
  {
   "cell_type": "code",
   "execution_count": 440,
   "metadata": {},
   "outputs": [
    {
     "data": {
      "image/png": "[encoded data removed]",
      "text/plain": [
       "<Figure size 720x360 with 1 Axes>"
      ]
     },
     "metadata": {
      "needs_background": "light"
     },
     "output_type": "display_data"
    }
   ],
   "source": [
    "plt.figure(figsize=(10,5))\n",
    "plt.bar(*zip(*Baseline_model_results.items()))\n",
    "#plt.title('Baseline Model Accuracies')\n",
    "\n",
    "for x, y in (Baseline_model_results.items()):\n",
    "    label = \"{:2.2f}%\".format(y)\n",
    "    \n",
    "    plt.annotate(label, # this is the text\n",
    "                 (x,y), # this is the point to label\n",
    "                 textcoords=\"offset points\", # how to position the text\n",
    "                 xytext=(0,10), # distance from text to points (x,y)\n",
    "                 ha='center') # horizontal alignment can be left, right or center\n",
    "\n",
    "\n",
    "plt.xticks(rotation=50)\n",
    "plt.yticks(np.arange(0,120,20))\n",
    "plt.show();"
   ]
  },
  {
   "cell_type": "markdown",
   "metadata": {},
   "source": [
    "## Code Section 3 - Hyper parameter Optimization"
   ]
  },
  {
   "cell_type": "markdown",
   "metadata": {},
   "source": [
    "### Top 3 Models Selected: Linear SVC, Random Forest, Gradiant Boosting"
   ]
  },
  {
   "cell_type": "markdown",
   "metadata": {},
   "source": [
    "#### Linear SVC Hyper parameter optimization (Report section 4.2.1)"
   ]
  },
  {
   "cell_type": "code",
   "execution_count": 447,
   "metadata": {
    "scrolled": false
   },
   "outputs": [
    {
     "name": "stdout",
     "output_type": "stream",
     "text": [
      "0.8510796817137007\n",
      "\n",
      " Best parameters set found on development set:\n",
      "{'C': 100, 'intercept_scaling': 5} with a score of  0.8512637818248825\n"
     ]
    }
   ],
   "source": [
    "#Report section 4.2.1\n",
    "\n",
    "LinSVC = LinearSVC(random_state = 0)\n",
    "scores_LinSVC = model_selection.cross_val_score(LinSVC, transformedData, classData, cv=10)\n",
    "print (scores_LinSVC.mean())\n",
    "\n",
    "param_grid= [ {'C':[0.001, 0.01, 0.1, 1, 10, 100, 1000], 'intercept_scaling' : [2, 4, 5, 10]}  ]\n",
    "LinSVCclf= GridSearchCV(LinearSVC(random_state = 0, max_iter = 5000, dual = False), param_grid, cv=10)\n",
    "LinSVCclf.fit(transformedData, classData)\n",
    "print(\"\\n Best parameters set found on development set:\")\n",
    "print(LinSVCclf.best_params_ , \"with a score of \", LinSVCclf.best_score_)\n"
   ]
  },
  {
   "cell_type": "code",
   "execution_count": 450,
   "metadata": {},
   "outputs": [
    {
     "name": "stdout",
     "output_type": "stream",
     "text": [
      "0.8510796817137007\n"
     ]
    },
    {
     "name": "stderr",
     "output_type": "stream",
     "text": [
      "C:\\Users\\hp\\Anaconda3\\lib\\site-packages\\sklearn\\svm\\base.py:929: ConvergenceWarning: Liblinear failed to converge, increase the number of iterations.\n",
      "  \"the number of iterations.\", ConvergenceWarning)\n",
      "C:\\Users\\hp\\Anaconda3\\lib\\site-packages\\sklearn\\svm\\base.py:929: ConvergenceWarning: Liblinear failed to converge, increase the number of iterations.\n",
      "  \"the number of iterations.\", ConvergenceWarning)\n",
      "C:\\Users\\hp\\Anaconda3\\lib\\site-packages\\sklearn\\svm\\base.py:929: ConvergenceWarning: Liblinear failed to converge, increase the number of iterations.\n",
      "  \"the number of iterations.\", ConvergenceWarning)\n",
      "C:\\Users\\hp\\Anaconda3\\lib\\site-packages\\sklearn\\svm\\base.py:929: ConvergenceWarning: Liblinear failed to converge, increase the number of iterations.\n",
      "  \"the number of iterations.\", ConvergenceWarning)\n",
      "C:\\Users\\hp\\Anaconda3\\lib\\site-packages\\sklearn\\svm\\base.py:929: ConvergenceWarning: Liblinear failed to converge, increase the number of iterations.\n",
      "  \"the number of iterations.\", ConvergenceWarning)\n",
      "C:\\Users\\hp\\Anaconda3\\lib\\site-packages\\sklearn\\svm\\base.py:929: ConvergenceWarning: Liblinear failed to converge, increase the number of iterations.\n",
      "  \"the number of iterations.\", ConvergenceWarning)\n",
      "C:\\Users\\hp\\Anaconda3\\lib\\site-packages\\sklearn\\svm\\base.py:929: ConvergenceWarning: Liblinear failed to converge, increase the number of iterations.\n",
      "  \"the number of iterations.\", ConvergenceWarning)\n",
      "C:\\Users\\hp\\Anaconda3\\lib\\site-packages\\sklearn\\svm\\base.py:929: ConvergenceWarning: Liblinear failed to converge, increase the number of iterations.\n",
      "  \"the number of iterations.\", ConvergenceWarning)\n",
      "C:\\Users\\hp\\Anaconda3\\lib\\site-packages\\sklearn\\svm\\base.py:929: ConvergenceWarning: Liblinear failed to converge, increase the number of iterations.\n",
      "  \"the number of iterations.\", ConvergenceWarning)\n",
      "C:\\Users\\hp\\Anaconda3\\lib\\site-packages\\sklearn\\svm\\base.py:929: ConvergenceWarning: Liblinear failed to converge, increase the number of iterations.\n",
      "  \"the number of iterations.\", ConvergenceWarning)\n",
      "C:\\Users\\hp\\Anaconda3\\lib\\site-packages\\sklearn\\svm\\base.py:929: ConvergenceWarning: Liblinear failed to converge, increase the number of iterations.\n",
      "  \"the number of iterations.\", ConvergenceWarning)\n",
      "C:\\Users\\hp\\Anaconda3\\lib\\site-packages\\sklearn\\svm\\base.py:929: ConvergenceWarning: Liblinear failed to converge, increase the number of iterations.\n",
      "  \"the number of iterations.\", ConvergenceWarning)\n",
      "C:\\Users\\hp\\Anaconda3\\lib\\site-packages\\sklearn\\svm\\base.py:929: ConvergenceWarning: Liblinear failed to converge, increase the number of iterations.\n",
      "  \"the number of iterations.\", ConvergenceWarning)\n",
      "C:\\Users\\hp\\Anaconda3\\lib\\site-packages\\sklearn\\svm\\base.py:929: ConvergenceWarning: Liblinear failed to converge, increase the number of iterations.\n",
      "  \"the number of iterations.\", ConvergenceWarning)\n",
      "C:\\Users\\hp\\Anaconda3\\lib\\site-packages\\sklearn\\svm\\base.py:929: ConvergenceWarning: Liblinear failed to converge, increase the number of iterations.\n",
      "  \"the number of iterations.\", ConvergenceWarning)\n",
      "C:\\Users\\hp\\Anaconda3\\lib\\site-packages\\sklearn\\svm\\base.py:929: ConvergenceWarning: Liblinear failed to converge, increase the number of iterations.\n",
      "  \"the number of iterations.\", ConvergenceWarning)\n",
      "C:\\Users\\hp\\Anaconda3\\lib\\site-packages\\sklearn\\svm\\base.py:929: ConvergenceWarning: Liblinear failed to converge, increase the number of iterations.\n",
      "  \"the number of iterations.\", ConvergenceWarning)\n",
      "C:\\Users\\hp\\Anaconda3\\lib\\site-packages\\sklearn\\svm\\base.py:929: ConvergenceWarning: Liblinear failed to converge, increase the number of iterations.\n",
      "  \"the number of iterations.\", ConvergenceWarning)\n",
      "C:\\Users\\hp\\Anaconda3\\lib\\site-packages\\sklearn\\svm\\base.py:929: ConvergenceWarning: Liblinear failed to converge, increase the number of iterations.\n",
      "  \"the number of iterations.\", ConvergenceWarning)\n",
      "C:\\Users\\hp\\Anaconda3\\lib\\site-packages\\sklearn\\svm\\base.py:929: ConvergenceWarning: Liblinear failed to converge, increase the number of iterations.\n",
      "  \"the number of iterations.\", ConvergenceWarning)\n",
      "C:\\Users\\hp\\Anaconda3\\lib\\site-packages\\sklearn\\svm\\base.py:929: ConvergenceWarning: Liblinear failed to converge, increase the number of iterations.\n",
      "  \"the number of iterations.\", ConvergenceWarning)\n",
      "C:\\Users\\hp\\Anaconda3\\lib\\site-packages\\sklearn\\svm\\base.py:929: ConvergenceWarning: Liblinear failed to converge, increase the number of iterations.\n",
      "  \"the number of iterations.\", ConvergenceWarning)\n",
      "C:\\Users\\hp\\Anaconda3\\lib\\site-packages\\sklearn\\svm\\base.py:929: ConvergenceWarning: Liblinear failed to converge, increase the number of iterations.\n",
      "  \"the number of iterations.\", ConvergenceWarning)\n",
      "C:\\Users\\hp\\Anaconda3\\lib\\site-packages\\sklearn\\svm\\base.py:929: ConvergenceWarning: Liblinear failed to converge, increase the number of iterations.\n",
      "  \"the number of iterations.\", ConvergenceWarning)\n",
      "C:\\Users\\hp\\Anaconda3\\lib\\site-packages\\sklearn\\svm\\base.py:929: ConvergenceWarning: Liblinear failed to converge, increase the number of iterations.\n",
      "  \"the number of iterations.\", ConvergenceWarning)\n",
      "C:\\Users\\hp\\Anaconda3\\lib\\site-packages\\sklearn\\svm\\base.py:929: ConvergenceWarning: Liblinear failed to converge, increase the number of iterations.\n",
      "  \"the number of iterations.\", ConvergenceWarning)\n",
      "C:\\Users\\hp\\Anaconda3\\lib\\site-packages\\sklearn\\svm\\base.py:929: ConvergenceWarning: Liblinear failed to converge, increase the number of iterations.\n",
      "  \"the number of iterations.\", ConvergenceWarning)\n",
      "C:\\Users\\hp\\Anaconda3\\lib\\site-packages\\sklearn\\svm\\base.py:929: ConvergenceWarning: Liblinear failed to converge, increase the number of iterations.\n",
      "  \"the number of iterations.\", ConvergenceWarning)\n",
      "C:\\Users\\hp\\Anaconda3\\lib\\site-packages\\sklearn\\svm\\base.py:929: ConvergenceWarning: Liblinear failed to converge, increase the number of iterations.\n",
      "  \"the number of iterations.\", ConvergenceWarning)\n",
      "C:\\Users\\hp\\Anaconda3\\lib\\site-packages\\sklearn\\svm\\base.py:929: ConvergenceWarning: Liblinear failed to converge, increase the number of iterations.\n",
      "  \"the number of iterations.\", ConvergenceWarning)\n",
      "C:\\Users\\hp\\Anaconda3\\lib\\site-packages\\sklearn\\svm\\base.py:929: ConvergenceWarning: Liblinear failed to converge, increase the number of iterations.\n",
      "  \"the number of iterations.\", ConvergenceWarning)\n",
      "C:\\Users\\hp\\Anaconda3\\lib\\site-packages\\sklearn\\svm\\base.py:929: ConvergenceWarning: Liblinear failed to converge, increase the number of iterations.\n",
      "  \"the number of iterations.\", ConvergenceWarning)\n",
      "C:\\Users\\hp\\Anaconda3\\lib\\site-packages\\sklearn\\svm\\base.py:929: ConvergenceWarning: Liblinear failed to converge, increase the number of iterations.\n",
      "  \"the number of iterations.\", ConvergenceWarning)\n",
      "C:\\Users\\hp\\Anaconda3\\lib\\site-packages\\sklearn\\svm\\base.py:929: ConvergenceWarning: Liblinear failed to converge, increase the number of iterations.\n",
      "  \"the number of iterations.\", ConvergenceWarning)\n",
      "C:\\Users\\hp\\Anaconda3\\lib\\site-packages\\sklearn\\svm\\base.py:929: ConvergenceWarning: Liblinear failed to converge, increase the number of iterations.\n",
      "  \"the number of iterations.\", ConvergenceWarning)\n",
      "C:\\Users\\hp\\Anaconda3\\lib\\site-packages\\sklearn\\svm\\base.py:929: ConvergenceWarning: Liblinear failed to converge, increase the number of iterations.\n",
      "  \"the number of iterations.\", ConvergenceWarning)\n",
      "C:\\Users\\hp\\Anaconda3\\lib\\site-packages\\sklearn\\svm\\base.py:929: ConvergenceWarning: Liblinear failed to converge, increase the number of iterations.\n",
      "  \"the number of iterations.\", ConvergenceWarning)\n",
      "C:\\Users\\hp\\Anaconda3\\lib\\site-packages\\sklearn\\svm\\base.py:929: ConvergenceWarning: Liblinear failed to converge, increase the number of iterations.\n",
      "  \"the number of iterations.\", ConvergenceWarning)\n",
      "C:\\Users\\hp\\Anaconda3\\lib\\site-packages\\sklearn\\svm\\base.py:929: ConvergenceWarning: Liblinear failed to converge, increase the number of iterations.\n",
      "  \"the number of iterations.\", ConvergenceWarning)\n",
      "C:\\Users\\hp\\Anaconda3\\lib\\site-packages\\sklearn\\svm\\base.py:929: ConvergenceWarning: Liblinear failed to converge, increase the number of iterations.\n",
      "  \"the number of iterations.\", ConvergenceWarning)\n",
      "C:\\Users\\hp\\Anaconda3\\lib\\site-packages\\sklearn\\svm\\base.py:929: ConvergenceWarning: Liblinear failed to converge, increase the number of iterations.\n",
      "  \"the number of iterations.\", ConvergenceWarning)\n"
     ]
    },
    {
     "name": "stderr",
     "output_type": "stream",
     "text": [
      "C:\\Users\\hp\\Anaconda3\\lib\\site-packages\\sklearn\\svm\\base.py:929: ConvergenceWarning: Liblinear failed to converge, increase the number of iterations.\n",
      "  \"the number of iterations.\", ConvergenceWarning)\n",
      "C:\\Users\\hp\\Anaconda3\\lib\\site-packages\\sklearn\\svm\\base.py:929: ConvergenceWarning: Liblinear failed to converge, increase the number of iterations.\n",
      "  \"the number of iterations.\", ConvergenceWarning)\n",
      "C:\\Users\\hp\\Anaconda3\\lib\\site-packages\\sklearn\\svm\\base.py:929: ConvergenceWarning: Liblinear failed to converge, increase the number of iterations.\n",
      "  \"the number of iterations.\", ConvergenceWarning)\n",
      "C:\\Users\\hp\\Anaconda3\\lib\\site-packages\\sklearn\\svm\\base.py:929: ConvergenceWarning: Liblinear failed to converge, increase the number of iterations.\n",
      "  \"the number of iterations.\", ConvergenceWarning)\n",
      "C:\\Users\\hp\\Anaconda3\\lib\\site-packages\\sklearn\\svm\\base.py:929: ConvergenceWarning: Liblinear failed to converge, increase the number of iterations.\n",
      "  \"the number of iterations.\", ConvergenceWarning)\n",
      "C:\\Users\\hp\\Anaconda3\\lib\\site-packages\\sklearn\\svm\\base.py:929: ConvergenceWarning: Liblinear failed to converge, increase the number of iterations.\n",
      "  \"the number of iterations.\", ConvergenceWarning)\n",
      "C:\\Users\\hp\\Anaconda3\\lib\\site-packages\\sklearn\\svm\\base.py:929: ConvergenceWarning: Liblinear failed to converge, increase the number of iterations.\n",
      "  \"the number of iterations.\", ConvergenceWarning)\n",
      "C:\\Users\\hp\\Anaconda3\\lib\\site-packages\\sklearn\\svm\\base.py:929: ConvergenceWarning: Liblinear failed to converge, increase the number of iterations.\n",
      "  \"the number of iterations.\", ConvergenceWarning)\n",
      "C:\\Users\\hp\\Anaconda3\\lib\\site-packages\\sklearn\\svm\\base.py:929: ConvergenceWarning: Liblinear failed to converge, increase the number of iterations.\n",
      "  \"the number of iterations.\", ConvergenceWarning)\n",
      "C:\\Users\\hp\\Anaconda3\\lib\\site-packages\\sklearn\\svm\\base.py:929: ConvergenceWarning: Liblinear failed to converge, increase the number of iterations.\n",
      "  \"the number of iterations.\", ConvergenceWarning)\n",
      "C:\\Users\\hp\\Anaconda3\\lib\\site-packages\\sklearn\\svm\\base.py:929: ConvergenceWarning: Liblinear failed to converge, increase the number of iterations.\n",
      "  \"the number of iterations.\", ConvergenceWarning)\n",
      "C:\\Users\\hp\\Anaconda3\\lib\\site-packages\\sklearn\\svm\\base.py:929: ConvergenceWarning: Liblinear failed to converge, increase the number of iterations.\n",
      "  \"the number of iterations.\", ConvergenceWarning)\n",
      "C:\\Users\\hp\\Anaconda3\\lib\\site-packages\\sklearn\\svm\\base.py:929: ConvergenceWarning: Liblinear failed to converge, increase the number of iterations.\n",
      "  \"the number of iterations.\", ConvergenceWarning)\n",
      "C:\\Users\\hp\\Anaconda3\\lib\\site-packages\\sklearn\\svm\\base.py:929: ConvergenceWarning: Liblinear failed to converge, increase the number of iterations.\n",
      "  \"the number of iterations.\", ConvergenceWarning)\n",
      "C:\\Users\\hp\\Anaconda3\\lib\\site-packages\\sklearn\\svm\\base.py:929: ConvergenceWarning: Liblinear failed to converge, increase the number of iterations.\n",
      "  \"the number of iterations.\", ConvergenceWarning)\n",
      "C:\\Users\\hp\\Anaconda3\\lib\\site-packages\\sklearn\\svm\\base.py:929: ConvergenceWarning: Liblinear failed to converge, increase the number of iterations.\n",
      "  \"the number of iterations.\", ConvergenceWarning)\n",
      "C:\\Users\\hp\\Anaconda3\\lib\\site-packages\\sklearn\\svm\\base.py:929: ConvergenceWarning: Liblinear failed to converge, increase the number of iterations.\n",
      "  \"the number of iterations.\", ConvergenceWarning)\n",
      "C:\\Users\\hp\\Anaconda3\\lib\\site-packages\\sklearn\\svm\\base.py:929: ConvergenceWarning: Liblinear failed to converge, increase the number of iterations.\n",
      "  \"the number of iterations.\", ConvergenceWarning)\n",
      "C:\\Users\\hp\\Anaconda3\\lib\\site-packages\\sklearn\\svm\\base.py:929: ConvergenceWarning: Liblinear failed to converge, increase the number of iterations.\n",
      "  \"the number of iterations.\", ConvergenceWarning)\n",
      "C:\\Users\\hp\\Anaconda3\\lib\\site-packages\\sklearn\\svm\\base.py:929: ConvergenceWarning: Liblinear failed to converge, increase the number of iterations.\n",
      "  \"the number of iterations.\", ConvergenceWarning)\n",
      "C:\\Users\\hp\\Anaconda3\\lib\\site-packages\\sklearn\\svm\\base.py:929: ConvergenceWarning: Liblinear failed to converge, increase the number of iterations.\n",
      "  \"the number of iterations.\", ConvergenceWarning)\n",
      "C:\\Users\\hp\\Anaconda3\\lib\\site-packages\\sklearn\\svm\\base.py:929: ConvergenceWarning: Liblinear failed to converge, increase the number of iterations.\n",
      "  \"the number of iterations.\", ConvergenceWarning)\n",
      "C:\\Users\\hp\\Anaconda3\\lib\\site-packages\\sklearn\\svm\\base.py:929: ConvergenceWarning: Liblinear failed to converge, increase the number of iterations.\n",
      "  \"the number of iterations.\", ConvergenceWarning)\n",
      "C:\\Users\\hp\\Anaconda3\\lib\\site-packages\\sklearn\\svm\\base.py:929: ConvergenceWarning: Liblinear failed to converge, increase the number of iterations.\n",
      "  \"the number of iterations.\", ConvergenceWarning)\n",
      "C:\\Users\\hp\\Anaconda3\\lib\\site-packages\\sklearn\\svm\\base.py:929: ConvergenceWarning: Liblinear failed to converge, increase the number of iterations.\n",
      "  \"the number of iterations.\", ConvergenceWarning)\n",
      "C:\\Users\\hp\\Anaconda3\\lib\\site-packages\\sklearn\\svm\\base.py:929: ConvergenceWarning: Liblinear failed to converge, increase the number of iterations.\n",
      "  \"the number of iterations.\", ConvergenceWarning)\n",
      "C:\\Users\\hp\\Anaconda3\\lib\\site-packages\\sklearn\\svm\\base.py:929: ConvergenceWarning: Liblinear failed to converge, increase the number of iterations.\n",
      "  \"the number of iterations.\", ConvergenceWarning)\n",
      "C:\\Users\\hp\\Anaconda3\\lib\\site-packages\\sklearn\\svm\\base.py:929: ConvergenceWarning: Liblinear failed to converge, increase the number of iterations.\n",
      "  \"the number of iterations.\", ConvergenceWarning)\n",
      "C:\\Users\\hp\\Anaconda3\\lib\\site-packages\\sklearn\\svm\\base.py:929: ConvergenceWarning: Liblinear failed to converge, increase the number of iterations.\n",
      "  \"the number of iterations.\", ConvergenceWarning)\n",
      "C:\\Users\\hp\\Anaconda3\\lib\\site-packages\\sklearn\\svm\\base.py:929: ConvergenceWarning: Liblinear failed to converge, increase the number of iterations.\n",
      "  \"the number of iterations.\", ConvergenceWarning)\n",
      "C:\\Users\\hp\\Anaconda3\\lib\\site-packages\\sklearn\\svm\\base.py:929: ConvergenceWarning: Liblinear failed to converge, increase the number of iterations.\n",
      "  \"the number of iterations.\", ConvergenceWarning)\n",
      "C:\\Users\\hp\\Anaconda3\\lib\\site-packages\\sklearn\\svm\\base.py:929: ConvergenceWarning: Liblinear failed to converge, increase the number of iterations.\n",
      "  \"the number of iterations.\", ConvergenceWarning)\n",
      "C:\\Users\\hp\\Anaconda3\\lib\\site-packages\\sklearn\\svm\\base.py:929: ConvergenceWarning: Liblinear failed to converge, increase the number of iterations.\n",
      "  \"the number of iterations.\", ConvergenceWarning)\n",
      "C:\\Users\\hp\\Anaconda3\\lib\\site-packages\\sklearn\\svm\\base.py:929: ConvergenceWarning: Liblinear failed to converge, increase the number of iterations.\n",
      "  \"the number of iterations.\", ConvergenceWarning)\n",
      "C:\\Users\\hp\\Anaconda3\\lib\\site-packages\\sklearn\\svm\\base.py:929: ConvergenceWarning: Liblinear failed to converge, increase the number of iterations.\n",
      "  \"the number of iterations.\", ConvergenceWarning)\n",
      "C:\\Users\\hp\\Anaconda3\\lib\\site-packages\\sklearn\\svm\\base.py:929: ConvergenceWarning: Liblinear failed to converge, increase the number of iterations.\n",
      "  \"the number of iterations.\", ConvergenceWarning)\n",
      "C:\\Users\\hp\\Anaconda3\\lib\\site-packages\\sklearn\\svm\\base.py:929: ConvergenceWarning: Liblinear failed to converge, increase the number of iterations.\n",
      "  \"the number of iterations.\", ConvergenceWarning)\n",
      "C:\\Users\\hp\\Anaconda3\\lib\\site-packages\\sklearn\\svm\\base.py:929: ConvergenceWarning: Liblinear failed to converge, increase the number of iterations.\n",
      "  \"the number of iterations.\", ConvergenceWarning)\n",
      "C:\\Users\\hp\\Anaconda3\\lib\\site-packages\\sklearn\\svm\\base.py:929: ConvergenceWarning: Liblinear failed to converge, increase the number of iterations.\n",
      "  \"the number of iterations.\", ConvergenceWarning)\n",
      "C:\\Users\\hp\\Anaconda3\\lib\\site-packages\\sklearn\\svm\\base.py:929: ConvergenceWarning: Liblinear failed to converge, increase the number of iterations.\n",
      "  \"the number of iterations.\", ConvergenceWarning)\n",
      "C:\\Users\\hp\\Anaconda3\\lib\\site-packages\\sklearn\\svm\\base.py:929: ConvergenceWarning: Liblinear failed to converge, increase the number of iterations.\n",
      "  \"the number of iterations.\", ConvergenceWarning)\n"
     ]
    },
    {
     "name": "stderr",
     "output_type": "stream",
     "text": [
      "C:\\Users\\hp\\Anaconda3\\lib\\site-packages\\sklearn\\svm\\base.py:929: ConvergenceWarning: Liblinear failed to converge, increase the number of iterations.\n",
      "  \"the number of iterations.\", ConvergenceWarning)\n",
      "C:\\Users\\hp\\Anaconda3\\lib\\site-packages\\sklearn\\svm\\base.py:929: ConvergenceWarning: Liblinear failed to converge, increase the number of iterations.\n",
      "  \"the number of iterations.\", ConvergenceWarning)\n",
      "C:\\Users\\hp\\Anaconda3\\lib\\site-packages\\sklearn\\svm\\base.py:929: ConvergenceWarning: Liblinear failed to converge, increase the number of iterations.\n",
      "  \"the number of iterations.\", ConvergenceWarning)\n",
      "C:\\Users\\hp\\Anaconda3\\lib\\site-packages\\sklearn\\svm\\base.py:929: ConvergenceWarning: Liblinear failed to converge, increase the number of iterations.\n",
      "  \"the number of iterations.\", ConvergenceWarning)\n",
      "C:\\Users\\hp\\Anaconda3\\lib\\site-packages\\sklearn\\svm\\base.py:929: ConvergenceWarning: Liblinear failed to converge, increase the number of iterations.\n",
      "  \"the number of iterations.\", ConvergenceWarning)\n",
      "C:\\Users\\hp\\Anaconda3\\lib\\site-packages\\sklearn\\svm\\base.py:929: ConvergenceWarning: Liblinear failed to converge, increase the number of iterations.\n",
      "  \"the number of iterations.\", ConvergenceWarning)\n",
      "C:\\Users\\hp\\Anaconda3\\lib\\site-packages\\sklearn\\svm\\base.py:929: ConvergenceWarning: Liblinear failed to converge, increase the number of iterations.\n",
      "  \"the number of iterations.\", ConvergenceWarning)\n",
      "C:\\Users\\hp\\Anaconda3\\lib\\site-packages\\sklearn\\svm\\base.py:929: ConvergenceWarning: Liblinear failed to converge, increase the number of iterations.\n",
      "  \"the number of iterations.\", ConvergenceWarning)\n",
      "C:\\Users\\hp\\Anaconda3\\lib\\site-packages\\sklearn\\svm\\base.py:929: ConvergenceWarning: Liblinear failed to converge, increase the number of iterations.\n",
      "  \"the number of iterations.\", ConvergenceWarning)\n",
      "C:\\Users\\hp\\Anaconda3\\lib\\site-packages\\sklearn\\svm\\base.py:929: ConvergenceWarning: Liblinear failed to converge, increase the number of iterations.\n",
      "  \"the number of iterations.\", ConvergenceWarning)\n",
      "C:\\Users\\hp\\Anaconda3\\lib\\site-packages\\sklearn\\svm\\base.py:929: ConvergenceWarning: Liblinear failed to converge, increase the number of iterations.\n",
      "  \"the number of iterations.\", ConvergenceWarning)\n",
      "C:\\Users\\hp\\Anaconda3\\lib\\site-packages\\sklearn\\svm\\base.py:929: ConvergenceWarning: Liblinear failed to converge, increase the number of iterations.\n",
      "  \"the number of iterations.\", ConvergenceWarning)\n",
      "C:\\Users\\hp\\Anaconda3\\lib\\site-packages\\sklearn\\svm\\base.py:929: ConvergenceWarning: Liblinear failed to converge, increase the number of iterations.\n",
      "  \"the number of iterations.\", ConvergenceWarning)\n",
      "C:\\Users\\hp\\Anaconda3\\lib\\site-packages\\sklearn\\svm\\base.py:929: ConvergenceWarning: Liblinear failed to converge, increase the number of iterations.\n",
      "  \"the number of iterations.\", ConvergenceWarning)\n",
      "C:\\Users\\hp\\Anaconda3\\lib\\site-packages\\sklearn\\svm\\base.py:929: ConvergenceWarning: Liblinear failed to converge, increase the number of iterations.\n",
      "  \"the number of iterations.\", ConvergenceWarning)\n",
      "C:\\Users\\hp\\Anaconda3\\lib\\site-packages\\sklearn\\svm\\base.py:929: ConvergenceWarning: Liblinear failed to converge, increase the number of iterations.\n",
      "  \"the number of iterations.\", ConvergenceWarning)\n",
      "C:\\Users\\hp\\Anaconda3\\lib\\site-packages\\sklearn\\svm\\base.py:929: ConvergenceWarning: Liblinear failed to converge, increase the number of iterations.\n",
      "  \"the number of iterations.\", ConvergenceWarning)\n",
      "C:\\Users\\hp\\Anaconda3\\lib\\site-packages\\sklearn\\svm\\base.py:929: ConvergenceWarning: Liblinear failed to converge, increase the number of iterations.\n",
      "  \"the number of iterations.\", ConvergenceWarning)\n",
      "C:\\Users\\hp\\Anaconda3\\lib\\site-packages\\sklearn\\svm\\base.py:929: ConvergenceWarning: Liblinear failed to converge, increase the number of iterations.\n",
      "  \"the number of iterations.\", ConvergenceWarning)\n",
      "C:\\Users\\hp\\Anaconda3\\lib\\site-packages\\sklearn\\svm\\base.py:929: ConvergenceWarning: Liblinear failed to converge, increase the number of iterations.\n",
      "  \"the number of iterations.\", ConvergenceWarning)\n",
      "C:\\Users\\hp\\Anaconda3\\lib\\site-packages\\sklearn\\svm\\base.py:929: ConvergenceWarning: Liblinear failed to converge, increase the number of iterations.\n",
      "  \"the number of iterations.\", ConvergenceWarning)\n",
      "C:\\Users\\hp\\Anaconda3\\lib\\site-packages\\sklearn\\svm\\base.py:929: ConvergenceWarning: Liblinear failed to converge, increase the number of iterations.\n",
      "  \"the number of iterations.\", ConvergenceWarning)\n",
      "C:\\Users\\hp\\Anaconda3\\lib\\site-packages\\sklearn\\svm\\base.py:929: ConvergenceWarning: Liblinear failed to converge, increase the number of iterations.\n",
      "  \"the number of iterations.\", ConvergenceWarning)\n",
      "C:\\Users\\hp\\Anaconda3\\lib\\site-packages\\sklearn\\svm\\base.py:929: ConvergenceWarning: Liblinear failed to converge, increase the number of iterations.\n",
      "  \"the number of iterations.\", ConvergenceWarning)\n",
      "C:\\Users\\hp\\Anaconda3\\lib\\site-packages\\sklearn\\svm\\base.py:929: ConvergenceWarning: Liblinear failed to converge, increase the number of iterations.\n",
      "  \"the number of iterations.\", ConvergenceWarning)\n",
      "C:\\Users\\hp\\Anaconda3\\lib\\site-packages\\sklearn\\svm\\base.py:929: ConvergenceWarning: Liblinear failed to converge, increase the number of iterations.\n",
      "  \"the number of iterations.\", ConvergenceWarning)\n",
      "C:\\Users\\hp\\Anaconda3\\lib\\site-packages\\sklearn\\svm\\base.py:929: ConvergenceWarning: Liblinear failed to converge, increase the number of iterations.\n",
      "  \"the number of iterations.\", ConvergenceWarning)\n",
      "C:\\Users\\hp\\Anaconda3\\lib\\site-packages\\sklearn\\svm\\base.py:929: ConvergenceWarning: Liblinear failed to converge, increase the number of iterations.\n",
      "  \"the number of iterations.\", ConvergenceWarning)\n",
      "C:\\Users\\hp\\Anaconda3\\lib\\site-packages\\sklearn\\svm\\base.py:929: ConvergenceWarning: Liblinear failed to converge, increase the number of iterations.\n",
      "  \"the number of iterations.\", ConvergenceWarning)\n",
      "C:\\Users\\hp\\Anaconda3\\lib\\site-packages\\sklearn\\svm\\base.py:929: ConvergenceWarning: Liblinear failed to converge, increase the number of iterations.\n",
      "  \"the number of iterations.\", ConvergenceWarning)\n",
      "C:\\Users\\hp\\Anaconda3\\lib\\site-packages\\sklearn\\svm\\base.py:929: ConvergenceWarning: Liblinear failed to converge, increase the number of iterations.\n",
      "  \"the number of iterations.\", ConvergenceWarning)\n",
      "C:\\Users\\hp\\Anaconda3\\lib\\site-packages\\sklearn\\svm\\base.py:929: ConvergenceWarning: Liblinear failed to converge, increase the number of iterations.\n",
      "  \"the number of iterations.\", ConvergenceWarning)\n",
      "C:\\Users\\hp\\Anaconda3\\lib\\site-packages\\sklearn\\svm\\base.py:929: ConvergenceWarning: Liblinear failed to converge, increase the number of iterations.\n",
      "  \"the number of iterations.\", ConvergenceWarning)\n",
      "C:\\Users\\hp\\Anaconda3\\lib\\site-packages\\sklearn\\svm\\base.py:929: ConvergenceWarning: Liblinear failed to converge, increase the number of iterations.\n",
      "  \"the number of iterations.\", ConvergenceWarning)\n",
      "C:\\Users\\hp\\Anaconda3\\lib\\site-packages\\sklearn\\svm\\base.py:929: ConvergenceWarning: Liblinear failed to converge, increase the number of iterations.\n",
      "  \"the number of iterations.\", ConvergenceWarning)\n",
      "C:\\Users\\hp\\Anaconda3\\lib\\site-packages\\sklearn\\svm\\base.py:929: ConvergenceWarning: Liblinear failed to converge, increase the number of iterations.\n",
      "  \"the number of iterations.\", ConvergenceWarning)\n",
      "C:\\Users\\hp\\Anaconda3\\lib\\site-packages\\sklearn\\svm\\base.py:929: ConvergenceWarning: Liblinear failed to converge, increase the number of iterations.\n",
      "  \"the number of iterations.\", ConvergenceWarning)\n",
      "C:\\Users\\hp\\Anaconda3\\lib\\site-packages\\sklearn\\svm\\base.py:929: ConvergenceWarning: Liblinear failed to converge, increase the number of iterations.\n",
      "  \"the number of iterations.\", ConvergenceWarning)\n"
     ]
    },
    {
     "name": "stdout",
     "output_type": "stream",
     "text": [
      "\n",
      " Best parameters set found on development set:\n",
      "{'C': 1, 'intercept_scaling': 2} with a score of  0.8512637818248825\n"
     ]
    },
    {
     "name": "stderr",
     "output_type": "stream",
     "text": [
      "C:\\Users\\hp\\Anaconda3\\lib\\site-packages\\sklearn\\svm\\base.py:929: ConvergenceWarning: Liblinear failed to converge, increase the number of iterations.\n",
      "  \"the number of iterations.\", ConvergenceWarning)\n"
     ]
    }
   ],
   "source": [
    "LinSVC = LinearSVC(random_state = 0)\n",
    "scores_LinSVC = model_selection.cross_val_score(LinSVC, transformedData, classData, cv=10)\n",
    "print (scores_LinSVC.mean())\n",
    "\n",
    "param_grid= [ {'C':[0.001, 0.01, 0.1, 1, 10, 100, 1000], 'intercept_scaling' : [2, 4, 5, 10]}  ]\n",
    "LinSVCclf= GridSearchCV(LinearSVC(random_state = 0, max_iter = 5000, dual = False, penalty = 'l1'), param_grid, cv=10)\n",
    "LinSVCclf.fit(transformedData, classData)\n",
    "print(\"\\n Best parameters set found on development set:\")\n",
    "print(LinSVCclf.best_params_ , \"with a score of \", LinSVCclf.best_score_)\n"
   ]
  },
  {
   "cell_type": "markdown",
   "metadata": {},
   "source": [
    "#### Random Forest Hyper parameter Optimization (Report section 4.2.2)"
   ]
  },
  {
   "cell_type": "code",
   "execution_count": 143,
   "metadata": {
    "scrolled": true
   },
   "outputs": [
    {
     "name": "stderr",
     "output_type": "stream",
     "text": [
      "C:\\Users\\hp\\Anaconda3\\lib\\site-packages\\sklearn\\ensemble\\forest.py:245: FutureWarning: The default value of n_estimators will change from 10 in version 0.20 to 100 in 0.22.\n",
      "  \"10 in version 0.20 to 100 in 0.22.\", FutureWarning)\n",
      "C:\\Users\\hp\\Anaconda3\\lib\\site-packages\\sklearn\\ensemble\\forest.py:245: FutureWarning: The default value of n_estimators will change from 10 in version 0.20 to 100 in 0.22.\n",
      "  \"10 in version 0.20 to 100 in 0.22.\", FutureWarning)\n",
      "C:\\Users\\hp\\Anaconda3\\lib\\site-packages\\sklearn\\ensemble\\forest.py:245: FutureWarning: The default value of n_estimators will change from 10 in version 0.20 to 100 in 0.22.\n",
      "  \"10 in version 0.20 to 100 in 0.22.\", FutureWarning)\n",
      "C:\\Users\\hp\\Anaconda3\\lib\\site-packages\\sklearn\\ensemble\\forest.py:245: FutureWarning: The default value of n_estimators will change from 10 in version 0.20 to 100 in 0.22.\n",
      "  \"10 in version 0.20 to 100 in 0.22.\", FutureWarning)\n",
      "C:\\Users\\hp\\Anaconda3\\lib\\site-packages\\sklearn\\ensemble\\forest.py:245: FutureWarning: The default value of n_estimators will change from 10 in version 0.20 to 100 in 0.22.\n",
      "  \"10 in version 0.20 to 100 in 0.22.\", FutureWarning)\n",
      "C:\\Users\\hp\\Anaconda3\\lib\\site-packages\\sklearn\\ensemble\\forest.py:245: FutureWarning: The default value of n_estimators will change from 10 in version 0.20 to 100 in 0.22.\n",
      "  \"10 in version 0.20 to 100 in 0.22.\", FutureWarning)\n",
      "C:\\Users\\hp\\Anaconda3\\lib\\site-packages\\sklearn\\ensemble\\forest.py:245: FutureWarning: The default value of n_estimators will change from 10 in version 0.20 to 100 in 0.22.\n",
      "  \"10 in version 0.20 to 100 in 0.22.\", FutureWarning)\n",
      "C:\\Users\\hp\\Anaconda3\\lib\\site-packages\\sklearn\\ensemble\\forest.py:245: FutureWarning: The default value of n_estimators will change from 10 in version 0.20 to 100 in 0.22.\n",
      "  \"10 in version 0.20 to 100 in 0.22.\", FutureWarning)\n",
      "C:\\Users\\hp\\Anaconda3\\lib\\site-packages\\sklearn\\ensemble\\forest.py:245: FutureWarning: The default value of n_estimators will change from 10 in version 0.20 to 100 in 0.22.\n",
      "  \"10 in version 0.20 to 100 in 0.22.\", FutureWarning)\n",
      "C:\\Users\\hp\\Anaconda3\\lib\\site-packages\\sklearn\\ensemble\\forest.py:245: FutureWarning: The default value of n_estimators will change from 10 in version 0.20 to 100 in 0.22.\n",
      "  \"10 in version 0.20 to 100 in 0.22.\", FutureWarning)\n"
     ]
    },
    {
     "name": "stdout",
     "output_type": "stream",
     "text": [
      "0.8462438814418656\n",
      "\n",
      " Best parameters set found on development set:\n",
      "{'bootstrap': True, 'max_depth': 90, 'max_features': 3, 'min_samples_leaf': 3, 'min_samples_split': 8, 'n_estimators': 1000} with a score of  0.8585889759891365\n"
     ]
    }
   ],
   "source": [
    "RandomForest = RandomForestClassifier(random_state = 0)\n",
    "scores_RF = model_selection.cross_val_score(RandomForest, transformedData, classData, cv=10)\n",
    "print (scores_RF.mean())\n",
    "\n",
    "param_grid= [{'bootstrap': [True],\n",
    "               'max_features': [2, 3],\n",
    "               'n_estimators': [100, 200, 300, 1000],\n",
    "                'max_depth': [80, 90, 100, 110],\n",
    "                'min_samples_leaf': [3, 4, 5],\n",
    "                'min_samples_split': [8, 10, 12]}]\n",
    "\n",
    "RFclf= GridSearchCV(RandomForestClassifier(), param_grid, cv=10)\n",
    "RFclf.fit(transformedData, classData)\n",
    "print(\"\\n Best parameters set found on development set:\")\n",
    "print(RFclf.best_params_ , \"with a score of \", RFclf.best_score_)"
   ]
  },
  {
   "cell_type": "markdown",
   "metadata": {},
   "source": [
    "#### Gradient Boosting Hyper parameter optimization (Report Section 4.2.3)"
   ]
  },
  {
   "cell_type": "code",
   "execution_count": 144,
   "metadata": {},
   "outputs": [
    {
     "name": "stdout",
     "output_type": "stream",
     "text": [
      "0.8649468709169934\n",
      "\n",
      " Best parameters set found on development set:\n",
      "{'learning_rate': 0.15} with a score of  0.8679402506018147\n"
     ]
    }
   ],
   "source": [
    "# Report section 4.2.3\n",
    "\n",
    "Gradboost = GradientBoostingClassifier(random_state = 0)\n",
    "scores_GB1 = model_selection.cross_val_score(Gradboost, transformedData, classData, cv=10)\n",
    "print (scores_GB1.mean())\n",
    "\n",
    "param_grid= [{'learning_rate':[0.15,0.1,0.05,0.01,0.005,0.001]}]\n",
    "\n",
    "GB1clf= GridSearchCV(GradientBoostingClassifier(random_state = 0), param_grid, cv=10)\n",
    "GB1clf.fit(transformedData, classData)\n",
    "print(\"\\n Best parameters set found on development set:\")\n",
    "print(GB1clf.best_params_ , \"with a score of \", GB1clf.best_score_)"
   ]
  },
  {
   "cell_type": "code",
   "execution_count": 145,
   "metadata": {
    "scrolled": true
   },
   "outputs": [
    {
     "name": "stdout",
     "output_type": "stream",
     "text": [
      "0.8649468709169934\n",
      "\n",
      " Best parameters set found on development set:\n",
      "{'n_estimators': 500} with a score of  0.8728164928090859\n"
     ]
    }
   ],
   "source": [
    "Gradboost = GradientBoostingClassifier(random_state = 0)\n",
    "scores_GB2 = model_selection.cross_val_score(Gradboost, transformedData, classData, cv=10)\n",
    "print (scores_GB2.mean())\n",
    "\n",
    "param_grid= [{'n_estimators':[100,250,500,750,1000,1250,1500,175]}]\n",
    "\n",
    "GB2clf= GridSearchCV(GradientBoostingClassifier(random_state = 0), param_grid, cv=10)\n",
    "GB2clf.fit(transformedData, classData)\n",
    "print(\"\\n Best parameters set found on development set:\")\n",
    "print(GB2clf.best_params_ , \"with a score of \", GB2clf.best_score_)"
   ]
  },
  {
   "cell_type": "code",
   "execution_count": 146,
   "metadata": {},
   "outputs": [
    {
     "name": "stdout",
     "output_type": "stream",
     "text": [
      "0.8649468709169934\n",
      "\n",
      " Best parameters set found on development set:\n",
      "{'max_depth': 6} with a score of  0.8723535584223197\n"
     ]
    }
   ],
   "source": [
    "Gradboost = GradientBoostingClassifier(random_state = 0)\n",
    "scores_GB3 = model_selection.cross_val_score(Gradboost, transformedData, classData, cv=10)\n",
    "print (scores_GB3.mean())\n",
    "\n",
    "param_grid= [{'max_depth':[1,3,5,6,7,9]}]\n",
    "\n",
    "GB3clf= GridSearchCV(GradientBoostingClassifier(random_state = 0), param_grid, cv=10)\n",
    "GB3clf.fit(transformedData, classData)\n",
    "print(\"\\n Best parameters set found on development set:\")\n",
    "print(GB3clf.best_params_ , \"with a score of \", GB3clf.best_score_)"
   ]
  },
  {
   "cell_type": "code",
   "execution_count": 140,
   "metadata": {},
   "outputs": [
    {
     "name": "stdout",
     "output_type": "stream",
     "text": [
      "0.8649468709169934\n",
      "\n",
      " Best parameters set found on development set:\n",
      "{'max_features': 4} with a score of  0.8651626442812173\n"
     ]
    }
   ],
   "source": [
    "Gradboost = GradientBoostingClassifier(random_state = 0)\n",
    "scores_GB4 = model_selection.cross_val_score(Gradboost, transformedData, classData, cv=10)\n",
    "print (scores_GB4.mean())\n",
    "\n",
    "param_grid= [{'max_features':[3,4,5,6,7]}]\n",
    "\n",
    "GB4clf= GridSearchCV(GradientBoostingClassifier(learning_rate = 0.15, random_state = 0, n_estimators = 750, max_depth = 6), param_grid, cv=10)\n",
    "GB4clf.fit(transformedData, classData)\n",
    "print(\"\\n Best parameters set found on development set:\")\n",
    "print(GB4clf.best_params_ , \"with a score of \", GB4clf.best_score_)"
   ]
  },
  {
   "cell_type": "markdown",
   "metadata": {},
   "source": [
    "#### Best reported model throughout - Gradient Boosting with 87.3% accuracy"
   ]
  },
  {
   "cell_type": "code",
   "execution_count": 452,
   "metadata": {},
   "outputs": [
    {
     "name": "stdout",
     "output_type": "stream",
     "text": [
      "Accuracy is  0.8733145397321139\n"
     ]
    }
   ],
   "source": [
    "from sklearn.ensemble import GradientBoostingClassifier\n",
    "\n",
    "allResults= []\n",
    "\n",
    "kf= model_selection.StratifiedKFold(n_splits=6, shuffle=True, random_state=1)\n",
    "\n",
    "for train_index, test_index in kf.split(transformedData, classData):\n",
    "    clf= GradientBoostingClassifier(random_state=0, learning_rate = 0.15, n_estimators = 500)\n",
    "    clf= clf.fit(transformedData[train_index], classData[train_index])\n",
    "\n",
    "    # predict the class for an unseen example\n",
    "    results= clf.predict(transformedData[test_index])\n",
    "    allResults.append(metrics.accuracy_score(results, classData[test_index]))\n",
    "\n",
    "print (\"Accuracy is \", np.mean(allResults))"
   ]
  },
  {
   "cell_type": "markdown",
   "metadata": {},
   "source": [
    "## Code Section 4 - Research on Feature Selection Techniques"
   ]
  },
  {
   "cell_type": "markdown",
   "metadata": {},
   "source": [
    "### Filter Methods"
   ]
  },
  {
   "cell_type": "markdown",
   "metadata": {},
   "source": [
    "#### Select Percentile with f-classif/ANOVA statistic (Report section 4.3.1)"
   ]
  },
  {
   "cell_type": "code",
   "execution_count": 387,
   "metadata": {
    "scrolled": true
   },
   "outputs": [
    {
     "name": "stdout",
     "output_type": "stream",
     "text": [
      "                 col_name_ohe        score\n",
      "0             x0_ Federal-gov   115.176608\n",
      "1               x0_ Local-gov    35.690728\n",
      "2            x0_ Never-worked     2.220840\n",
      "3                 x0_ Private   521.636151\n",
      "4            x0_ Self-emp-inc   645.865197\n",
      "5        x0_ Self-emp-not-inc    29.366798\n",
      "6               x0_ State-gov     7.175086\n",
      "7             x0_ Without-pay     4.442939\n",
      "8                    x1_ 10th   160.498930\n",
      "9                    x1_ 11th   241.827820\n",
      "10                   x1_ 12th    65.157339\n",
      "11                x1_ 1st-4th    38.898653\n",
      "12                x1_ 5th-6th    68.519016\n",
      "13                x1_ 7th-8th   115.770564\n",
      "14                    x1_ 9th   101.574622\n",
      "15             x1_ Assoc-acdm     0.343969\n",
      "16              x1_ Assoc-voc     3.287420\n",
      "17              x1_ Bachelors  1096.321775\n",
      "18              x1_ Doctorate   582.472539\n",
      "19                x1_ HS-grad   570.167351\n",
      "20                x1_ Masters  1023.409969\n",
      "21              x1_ Preschool    16.209268\n",
      "22            x1_ Prof-school   800.498796\n",
      "23           x1_ Some-college   131.964554\n",
      "24               x2_ Divorced   533.710264\n",
      "25      x2_ Married-AF-spouse     4.737286\n",
      "26     x2_ Married-civ-spouse  8025.842062\n",
      "27  x2_ Married-spouse-absent    59.003795\n",
      "28          x2_ Never-married  3674.200147\n",
      "29              x2_ Separated   181.161488\n",
      "..                        ...          ...\n",
      "35        x3_ Farming-fishing    88.022497\n",
      "36      x3_ Handlers-cleaners   249.846128\n",
      "37      x3_ Machine-op-inspct   157.577144\n",
      "38          x3_ Other-service   815.835009\n",
      "39        x3_ Priv-house-serv    44.928495\n",
      "40         x3_ Prof-specialty   421.073175\n",
      "41        x3_ Protective-serv    25.763082\n",
      "42                  x3_ Sales    18.280067\n",
      "43           x3_ Tech-support    21.512870\n",
      "44       x3_ Transport-moving    15.023983\n",
      "45                x4_ Husband  6240.018276\n",
      "46          x4_ Not-in-family  1199.481344\n",
      "47         x4_ Other-relative   229.798715\n",
      "48              x4_ Own-child  1794.157489\n",
      "49              x4_ Unmarried   678.313649\n",
      "50                   x4_ Wife   502.330558\n",
      "51     x5_ Amer-Indian-Eskimo    26.880068\n",
      "52     x5_ Asian-Pac-Islander     3.619653\n",
      "53                  x5_ Black   260.480975\n",
      "54                  x5_ Other    33.020518\n",
      "55                  x5_ White   238.213210\n",
      "56                 x6_ Female  1593.107907\n",
      "57                   x6_ Male  1593.107907\n",
      "58                        age  1886.707314\n",
      "59                     fnlwgt     2.915594\n",
      "60              education_num  4120.095780\n",
      "61               capital_gain  1709.150064\n",
      "62               capital_loss   754.830452\n",
      "63             hours_per_week  1813.386282\n",
      "64             native_country    49.450257\n",
      "\n",
      "[65 rows x 2 columns]\n",
      "\n",
      "Shape before feature reduction\n",
      "(32561, 65)\n",
      "\n",
      "Shape after feature reduction\n",
      "(32561, 45)\n",
      "\n",
      "Accuracy for Linear SVC is  84.88067777044934\n"
     ]
    },
    {
     "name": "stderr",
     "output_type": "stream",
     "text": [
      "C:\\Users\\hp\\Anaconda3\\lib\\site-packages\\sklearn\\ensemble\\forest.py:245: FutureWarning: The default value of n_estimators will change from 10 in version 0.20 to 100 in 0.22.\n",
      "  \"10 in version 0.20 to 100 in 0.22.\", FutureWarning)\n",
      "C:\\Users\\hp\\Anaconda3\\lib\\site-packages\\sklearn\\ensemble\\forest.py:245: FutureWarning: The default value of n_estimators will change from 10 in version 0.20 to 100 in 0.22.\n",
      "  \"10 in version 0.20 to 100 in 0.22.\", FutureWarning)\n",
      "C:\\Users\\hp\\Anaconda3\\lib\\site-packages\\sklearn\\ensemble\\forest.py:245: FutureWarning: The default value of n_estimators will change from 10 in version 0.20 to 100 in 0.22.\n",
      "  \"10 in version 0.20 to 100 in 0.22.\", FutureWarning)\n",
      "C:\\Users\\hp\\Anaconda3\\lib\\site-packages\\sklearn\\ensemble\\forest.py:245: FutureWarning: The default value of n_estimators will change from 10 in version 0.20 to 100 in 0.22.\n",
      "  \"10 in version 0.20 to 100 in 0.22.\", FutureWarning)\n",
      "C:\\Users\\hp\\Anaconda3\\lib\\site-packages\\sklearn\\ensemble\\forest.py:245: FutureWarning: The default value of n_estimators will change from 10 in version 0.20 to 100 in 0.22.\n",
      "  \"10 in version 0.20 to 100 in 0.22.\", FutureWarning)\n",
      "C:\\Users\\hp\\Anaconda3\\lib\\site-packages\\sklearn\\ensemble\\forest.py:245: FutureWarning: The default value of n_estimators will change from 10 in version 0.20 to 100 in 0.22.\n",
      "  \"10 in version 0.20 to 100 in 0.22.\", FutureWarning)\n"
     ]
    },
    {
     "name": "stdout",
     "output_type": "stream",
     "text": [
      "Accuracy for Random Forest is  84.75476695873361\n",
      "Accuracy for Gradient Boosting is  86.48381641867338\n"
     ]
    }
   ],
   "source": [
    "# Report section 4.3.1\n",
    "from sklearn.feature_selection import SelectPercentile\n",
    "from sklearn.feature_selection import f_classif\n",
    "\n",
    "selector = SelectPercentile(f_classif, percentile=70)\n",
    "selector.fit(transformedData, classData)\n",
    "\n",
    "featuredf = pd.DataFrame()\n",
    "featuredf['col_name_ohe'] = col_names_ohe \n",
    "featuredf['score'] = selector.scores_ \n",
    "\n",
    "print(featuredf)\n",
    "\n",
    "print('\\nShape before feature reduction')\n",
    "print(transformedData.shape)\n",
    "\n",
    "new_data = selector.transform(transformedData)\n",
    "print('\\nShape after feature reduction')\n",
    "print(new_data.shape)\n",
    "\n",
    "##Implement the Linear SVC model for the new feature selected/transformed data\n",
    "\n",
    "Feat_Select1 = dict()\n",
    "\n",
    "## 1) Linear SVC\n",
    "allResults= []\n",
    "\n",
    "kf= model_selection.StratifiedKFold(n_splits=6, shuffle=True, random_state=1)\n",
    "\n",
    "for train_index, test_index in kf.split(new_data, classData):\n",
    "    clf= LinearSVC(random_state=0)\n",
    "    clf= clf.fit(new_data[train_index], classData[train_index])\n",
    "\n",
    "    # predict the class for an unseen example\n",
    "    results= clf.predict(new_data[test_index])\n",
    "    allResults.append(metrics.accuracy_score(results, classData[test_index]))\n",
    "\n",
    "accuracy = (np.mean(allResults) * 100)\n",
    "Feat_Select1['Linear SVC'] = accuracy\n",
    "print (\"\\nAccuracy for Linear SVC is \", accuracy)\n",
    "\n",
    "\n",
    "\n",
    "## 2) Random Forest\n",
    "allResults= []\n",
    "\n",
    "kf= model_selection.StratifiedKFold(n_splits=6, shuffle=True, random_state=1)\n",
    "\n",
    "for train_index, test_index in kf.split(transformedData, classData):\n",
    "    clf= RandomForestClassifier(random_state=0)\n",
    "    clf= clf.fit(transformedData[train_index], classData[train_index])\n",
    "\n",
    "    # predict the class for an unseen example\n",
    "    results= clf.predict(transformedData[test_index])\n",
    "    allResults.append(metrics.accuracy_score(results, classData[test_index]))\n",
    "\n",
    "accuracy = (np.mean(allResults) * 100)\n",
    "Feat_Select1['Random Forest'] = accuracy\n",
    "print (\"Accuracy for Random Forest is \", accuracy)\n",
    "\n",
    "\n",
    "# 3) Gradient Boosting\n",
    "allResults= []\n",
    "\n",
    "kf= model_selection.StratifiedKFold(n_splits=6, shuffle=True, random_state=1)\n",
    "\n",
    "for train_index, test_index in kf.split(new_data, classData):\n",
    "    clf= GradientBoostingClassifier(random_state=0)\n",
    "    clf= clf.fit(new_data[train_index], classData[train_index])\n",
    "\n",
    "    # predict the class for an unseen example\n",
    "    results= clf.predict(new_data[test_index])\n",
    "    allResults.append(metrics.accuracy_score(results, classData[test_index]))\n",
    "\n",
    "accuracy = (np.mean(allResults) * 100)\n",
    "Feat_Select1['Gradient Boosting'] = accuracy\n",
    "print (\"Accuracy for Gradient Boosting is \", accuracy)"
   ]
  },
  {
   "cell_type": "markdown",
   "metadata": {},
   "source": [
    "##### Feature scores for Select Percentile with f-classif/ANOVA statistic"
   ]
  },
  {
   "cell_type": "code",
   "execution_count": 403,
   "metadata": {},
   "outputs": [
    {
     "data": {
      "image/png": "[encoded data removed]",
      "text/plain": [
       "<Figure size 1080x360 with 1 Axes>"
      ]
     },
     "metadata": {
      "needs_background": "light"
     },
     "output_type": "display_data"
    }
   ],
   "source": [
    "x = featuredf['col_name_ohe']\n",
    "y = featuredf['score']\n",
    "\n",
    "plt.figure(figsize=(15,5))\n",
    "plt.stem(x, y, use_line_collection=True)\n",
    "\n",
    "plt.xticks(rotation = 90)\n",
    "\n",
    "plt.show();\n"
   ]
  },
  {
   "cell_type": "markdown",
   "metadata": {},
   "source": [
    "##### Accuracy across top 3 models for Select Percentile with f-classif/ANOVA statistic (Report section 4.3.1)"
   ]
  },
  {
   "cell_type": "code",
   "execution_count": 413,
   "metadata": {
    "scrolled": false
   },
   "outputs": [
    {
     "data": {
      "image/png": "[encoded data removed]",
      "text/plain": [
       "<Figure size 720x360 with 1 Axes>"
      ]
     },
     "metadata": {
      "needs_background": "light"
     },
     "output_type": "display_data"
    }
   ],
   "source": [
    "# Report section 4.3.1\n",
    "plt.figure(figsize=(10,5))\n",
    "plt.bar(*zip(*Feat_Select1.items()), color = 'indianred')\n",
    "\n",
    "for x, y in (Feat_Select1.items()):\n",
    "    label = \"{:2.2f}%\".format(y)\n",
    "    \n",
    "    plt.annotate(label, # this is the text\n",
    "                 (x,y), # this is the point to label\n",
    "                 textcoords=\"offset points\", # how to position the text\n",
    "                 xytext=(0,10), # distance from text to points (x,y)\n",
    "                 ha='center') # horizontal alignment can be left, right or center\n",
    "\n",
    "\n",
    "plt.xticks(rotation=50)\n",
    "plt.yticks(np.arange(0,120,20))\n",
    "plt.show();"
   ]
  },
  {
   "cell_type": "markdown",
   "metadata": {},
   "source": [
    "#### Select Percentile with chi square statistic"
   ]
  },
  {
   "cell_type": "code",
   "execution_count": 414,
   "metadata": {
    "scrolled": true
   },
   "outputs": [
    {
     "name": "stdout",
     "output_type": "stream",
     "text": [
      "                 col_name_ohe        score\n",
      "0             x0_ Federal-gov   111.393656\n",
      "1               x0_ Local-gov    33.362031\n",
      "2            x0_ Never-worked     2.220348\n",
      "3                 x0_ Private   126.606291\n",
      "4            x0_ Self-emp-inc   611.634199\n",
      "5        x0_ Self-emp-not-inc    27.052331\n",
      "6               x0_ State-gov     6.887967\n",
      "7             x0_ Without-pay     4.440696\n",
      "8                    x1_ 10th   155.144802\n",
      "9                    x1_ 11th   231.396842\n",
      "10                   x1_ 12th    64.166408\n",
      "11                x1_ 1st-4th    38.654150\n",
      "12                x1_ 5th-6th    67.680011\n",
      "13                x1_ 7th-8th   113.078607\n",
      "14                    x1_ 9th    99.666401\n",
      "15             x1_ Assoc-acdm     0.332715\n",
      "16              x1_ Assoc-voc     3.147766\n",
      "17              x1_ Bachelors   886.235182\n",
      "18              x1_ Doctorate   565.011925\n",
      "19                x1_ HS-grad   379.662176\n",
      "20                x1_ Masters   939.775218\n",
      "21              x1_ Preschool    16.176820\n",
      "22            x1_ Prof-school   767.516147\n",
      "23           x1_ Some-college   102.008134\n",
      "24               x2_ Divorced   453.479485\n",
      "25      x2_ Married-AF-spouse     4.733541\n",
      "26     x2_ Married-civ-spouse  3477.515877\n",
      "27  x2_ Married-spouse-absent    58.144544\n",
      "28          x2_ Never-married  2218.521977\n",
      "29              x2_ Separated   174.498489\n",
      "..                        ...          ...\n",
      "35        x3_ Farming-fishing    85.110554\n",
      "36      x3_ Handlers-cleaners   237.525897\n",
      "37      x3_ Machine-op-inspct   147.185322\n",
      "38          x3_ Other-service   715.396117\n",
      "39        x3_ Priv-house-serv    44.664016\n",
      "40         x3_ Prof-specialty   339.334688\n",
      "41        x3_ Protective-serv    25.231163\n",
      "42                  x3_ Sales    16.222810\n",
      "43           x3_ Tech-support    20.887228\n",
      "44       x3_ Transport-moving    14.281398\n",
      "45                x4_ Husband  3114.941546\n",
      "46          x4_ Not-in-family   861.846218\n",
      "47         x4_ Other-relative   221.326908\n",
      "48              x4_ Own-child  1435.873016\n",
      "49              x4_ Unmarried   594.184659\n",
      "50                   x4_ Wife   470.904550\n",
      "51     x5_ Amer-Indian-Eskimo    26.603001\n",
      "52     x5_ Asian-Pac-Islander     3.503978\n",
      "53                  x5_ Black   233.634971\n",
      "54                  x5_ Other    32.714527\n",
      "55                  x5_ White    34.463955\n",
      "56                 x6_ Female  1016.447400\n",
      "57                   x6_ Male   502.439419\n",
      "58                        age   210.621483\n",
      "59                     fnlwgt     0.124281\n",
      "60              education_num   177.725050\n",
      "61               capital_gain   821.932891\n",
      "62               capital_loss   315.001352\n",
      "63             hours_per_week    67.761518\n",
      "64             native_country     4.258293\n",
      "\n",
      "[65 rows x 2 columns]\n",
      "\n",
      "Shape before feature reduction\n",
      "(32561, 65)\n",
      "\n",
      "Shape after feature reduction\n",
      "(32561, 39)\n",
      "Accuracy for Linear SVC is  84.85918031943282\n"
     ]
    },
    {
     "name": "stderr",
     "output_type": "stream",
     "text": [
      "C:\\Users\\hp\\Anaconda3\\lib\\site-packages\\sklearn\\ensemble\\forest.py:245: FutureWarning: The default value of n_estimators will change from 10 in version 0.20 to 100 in 0.22.\n",
      "  \"10 in version 0.20 to 100 in 0.22.\", FutureWarning)\n",
      "C:\\Users\\hp\\Anaconda3\\lib\\site-packages\\sklearn\\ensemble\\forest.py:245: FutureWarning: The default value of n_estimators will change from 10 in version 0.20 to 100 in 0.22.\n",
      "  \"10 in version 0.20 to 100 in 0.22.\", FutureWarning)\n",
      "C:\\Users\\hp\\Anaconda3\\lib\\site-packages\\sklearn\\ensemble\\forest.py:245: FutureWarning: The default value of n_estimators will change from 10 in version 0.20 to 100 in 0.22.\n",
      "  \"10 in version 0.20 to 100 in 0.22.\", FutureWarning)\n",
      "C:\\Users\\hp\\Anaconda3\\lib\\site-packages\\sklearn\\ensemble\\forest.py:245: FutureWarning: The default value of n_estimators will change from 10 in version 0.20 to 100 in 0.22.\n",
      "  \"10 in version 0.20 to 100 in 0.22.\", FutureWarning)\n",
      "C:\\Users\\hp\\Anaconda3\\lib\\site-packages\\sklearn\\ensemble\\forest.py:245: FutureWarning: The default value of n_estimators will change from 10 in version 0.20 to 100 in 0.22.\n",
      "  \"10 in version 0.20 to 100 in 0.22.\", FutureWarning)\n",
      "C:\\Users\\hp\\Anaconda3\\lib\\site-packages\\sklearn\\ensemble\\forest.py:245: FutureWarning: The default value of n_estimators will change from 10 in version 0.20 to 100 in 0.22.\n",
      "  \"10 in version 0.20 to 100 in 0.22.\", FutureWarning)\n"
     ]
    },
    {
     "name": "stdout",
     "output_type": "stream",
     "text": [
      "Accuracy for Random Forest is  84.75476695873361\n",
      "Accuracy for Gradient Boosting is  86.49303470588066\n"
     ]
    }
   ],
   "source": [
    "# Report section 4.3.1\n",
    "from sklearn.feature_selection import chi2\n",
    "\n",
    "selector = SelectPercentile(chi2, percentile=60)\n",
    "selector.fit(transformedData, classData)\n",
    "\n",
    "\n",
    "featuredf = pd.DataFrame()\n",
    "featuredf['col_name_ohe'] = col_names_ohe \n",
    "featuredf['score'] = selector.scores_ \n",
    "\n",
    "print(featuredf)\n",
    "\n",
    "print('\\nShape before feature reduction')\n",
    "print(transformedData.shape)\n",
    "\n",
    "new_data = selector.transform(transformedData)\n",
    "print('\\nShape after feature reduction')\n",
    "print(new_data.shape)\n",
    "\n",
    "##Implement the Linear SVC model for the new feature selected data\n",
    "\n",
    "Feat_Select2 = dict()\n",
    "\n",
    "## 1) Linear SVC\n",
    "allResults= []\n",
    "\n",
    "kf= model_selection.StratifiedKFold(n_splits=6, shuffle=True, random_state=1)\n",
    "\n",
    "for train_index, test_index in kf.split(new_data, classData):\n",
    "    clf= LinearSVC(random_state=0)\n",
    "    clf= clf.fit(new_data[train_index], classData[train_index])\n",
    "\n",
    "    # predict the class for an unseen example\n",
    "    results= clf.predict(new_data[test_index])\n",
    "    allResults.append(metrics.accuracy_score(results, classData[test_index]))\n",
    "\n",
    "accuracy = (np.mean(allResults) * 100)\n",
    "Feat_Select2['Linear SVC'] = accuracy\n",
    "print (\"Accuracy for Linear SVC is \", accuracy)\n",
    "\n",
    "\n",
    "\n",
    "## 2) Random Forest\n",
    "allResults= []\n",
    "\n",
    "kf= model_selection.StratifiedKFold(n_splits=6, shuffle=True, random_state=1)\n",
    "\n",
    "for train_index, test_index in kf.split(transformedData, classData):\n",
    "    clf= RandomForestClassifier(random_state=0)\n",
    "    clf= clf.fit(transformedData[train_index], classData[train_index])\n",
    "\n",
    "    # predict the class for an unseen example\n",
    "    results= clf.predict(transformedData[test_index])\n",
    "    allResults.append(metrics.accuracy_score(results, classData[test_index]))\n",
    "\n",
    "accuracy = (np.mean(allResults) * 100)\n",
    "Feat_Select2['Random Forest'] = accuracy\n",
    "print (\"Accuracy for Random Forest is \", accuracy)\n",
    "\n",
    "\n",
    "# 3) Gradient Boosting\n",
    "allResults= []\n",
    "\n",
    "kf= model_selection.StratifiedKFold(n_splits=6, shuffle=True, random_state=1)\n",
    "\n",
    "for train_index, test_index in kf.split(new_data, classData):\n",
    "    clf= GradientBoostingClassifier(random_state=0)\n",
    "    clf= clf.fit(new_data[train_index], classData[train_index])\n",
    "\n",
    "    # predict the class for an unseen example\n",
    "    results= clf.predict(new_data[test_index])\n",
    "    allResults.append(metrics.accuracy_score(results, classData[test_index]))\n",
    "\n",
    "accuracy = (np.mean(allResults) * 100)\n",
    "Feat_Select2['Gradient Boosting'] = accuracy\n",
    "print (\"Accuracy for Gradient Boosting is \", accuracy)\n"
   ]
  },
  {
   "cell_type": "markdown",
   "metadata": {},
   "source": [
    "##### Feature Scores for Select Percentile with chi square statistic"
   ]
  },
  {
   "cell_type": "code",
   "execution_count": 415,
   "metadata": {
    "scrolled": true
   },
   "outputs": [
    {
     "data": {
      "image/png": "[encoded data removed]",
      "text/plain": [
       "<Figure size 1080x360 with 1 Axes>"
      ]
     },
     "metadata": {
      "needs_background": "light"
     },
     "output_type": "display_data"
    }
   ],
   "source": [
    "x = featuredf['col_name_ohe']\n",
    "y = featuredf['score']\n",
    "\n",
    "plt.figure(figsize=(15,5))\n",
    "plt.stem(x, y, use_line_collection=True)\n",
    "\n",
    "plt.xticks(rotation = 90)\n",
    "\n",
    "plt.show();\n"
   ]
  },
  {
   "cell_type": "markdown",
   "metadata": {},
   "source": [
    "##### Accuracy across top 3 models for Select Percentile with chi square statistic (Report section 4.3.1)"
   ]
  },
  {
   "cell_type": "code",
   "execution_count": 416,
   "metadata": {
    "scrolled": true
   },
   "outputs": [
    {
     "data": {
      "image/png": "[encoded data removed]",
      "text/plain": [
       "<Figure size 720x360 with 1 Axes>"
      ]
     },
     "metadata": {
      "needs_background": "light"
     },
     "output_type": "display_data"
    }
   ],
   "source": [
    "# Report section 4.3.1\n",
    "plt.figure(figsize=(10,5))\n",
    "plt.bar(*zip(*Feat_Select2.items()), color = 'indianred')\n",
    "\n",
    "for x, y in (Feat_Select2.items()):\n",
    "    label = \"{:2.2f}%\".format(y)\n",
    "    \n",
    "    plt.annotate(label, # this is the text\n",
    "                 (x,y), # this is the point to label\n",
    "                 textcoords=\"offset points\", # how to position the text\n",
    "                 xytext=(0,10), # distance from text to points (x,y)\n",
    "                 ha='center') # horizontal alignment can be left, right or center\n",
    "\n",
    "\n",
    "plt.xticks(rotation=50)\n",
    "plt.yticks(np.arange(0,120,20))\n",
    "plt.show();"
   ]
  },
  {
   "cell_type": "markdown",
   "metadata": {},
   "source": [
    "#### SelectkBest with chi squared statistic"
   ]
  },
  {
   "cell_type": "code",
   "execution_count": 417,
   "metadata": {
    "scrolled": true
   },
   "outputs": [
    {
     "name": "stdout",
     "output_type": "stream",
     "text": [
      "                 col_name_ohe        score\n",
      "0             x0_ Federal-gov   111.393656\n",
      "1               x0_ Local-gov    33.362031\n",
      "2            x0_ Never-worked     2.220348\n",
      "3                 x0_ Private   126.606291\n",
      "4            x0_ Self-emp-inc   611.634199\n",
      "5        x0_ Self-emp-not-inc    27.052331\n",
      "6               x0_ State-gov     6.887967\n",
      "7             x0_ Without-pay     4.440696\n",
      "8                    x1_ 10th   155.144802\n",
      "9                    x1_ 11th   231.396842\n",
      "10                   x1_ 12th    64.166408\n",
      "11                x1_ 1st-4th    38.654150\n",
      "12                x1_ 5th-6th    67.680011\n",
      "13                x1_ 7th-8th   113.078607\n",
      "14                    x1_ 9th    99.666401\n",
      "15             x1_ Assoc-acdm     0.332715\n",
      "16              x1_ Assoc-voc     3.147766\n",
      "17              x1_ Bachelors   886.235182\n",
      "18              x1_ Doctorate   565.011925\n",
      "19                x1_ HS-grad   379.662176\n",
      "20                x1_ Masters   939.775218\n",
      "21              x1_ Preschool    16.176820\n",
      "22            x1_ Prof-school   767.516147\n",
      "23           x1_ Some-college   102.008134\n",
      "24               x2_ Divorced   453.479485\n",
      "25      x2_ Married-AF-spouse     4.733541\n",
      "26     x2_ Married-civ-spouse  3477.515877\n",
      "27  x2_ Married-spouse-absent    58.144544\n",
      "28          x2_ Never-married  2218.521977\n",
      "29              x2_ Separated   174.498489\n",
      "..                        ...          ...\n",
      "35        x3_ Farming-fishing    85.110554\n",
      "36      x3_ Handlers-cleaners   237.525897\n",
      "37      x3_ Machine-op-inspct   147.185322\n",
      "38          x3_ Other-service   715.396117\n",
      "39        x3_ Priv-house-serv    44.664016\n",
      "40         x3_ Prof-specialty   339.334688\n",
      "41        x3_ Protective-serv    25.231163\n",
      "42                  x3_ Sales    16.222810\n",
      "43           x3_ Tech-support    20.887228\n",
      "44       x3_ Transport-moving    14.281398\n",
      "45                x4_ Husband  3114.941546\n",
      "46          x4_ Not-in-family   861.846218\n",
      "47         x4_ Other-relative   221.326908\n",
      "48              x4_ Own-child  1435.873016\n",
      "49              x4_ Unmarried   594.184659\n",
      "50                   x4_ Wife   470.904550\n",
      "51     x5_ Amer-Indian-Eskimo    26.603001\n",
      "52     x5_ Asian-Pac-Islander     3.503978\n",
      "53                  x5_ Black   233.634971\n",
      "54                  x5_ Other    32.714527\n",
      "55                  x5_ White    34.463955\n",
      "56                 x6_ Female  1016.447400\n",
      "57                   x6_ Male   502.439419\n",
      "58                        age   210.621483\n",
      "59                     fnlwgt     0.124281\n",
      "60              education_num   177.725050\n",
      "61               capital_gain   821.932891\n",
      "62               capital_loss   315.001352\n",
      "63             hours_per_week    67.761518\n",
      "64             native_country     4.258293\n",
      "\n",
      "[65 rows x 2 columns]\n",
      "\n",
      "Shape before feature reduction\n",
      "(32561, 65)\n",
      "\n",
      "Shape after feature reduction\n",
      "(32561, 40)\n",
      "Accuracy for Linear SVC is  84.85917918745183\n"
     ]
    },
    {
     "name": "stderr",
     "output_type": "stream",
     "text": [
      "C:\\Users\\hp\\Anaconda3\\lib\\site-packages\\sklearn\\ensemble\\forest.py:245: FutureWarning: The default value of n_estimators will change from 10 in version 0.20 to 100 in 0.22.\n",
      "  \"10 in version 0.20 to 100 in 0.22.\", FutureWarning)\n",
      "C:\\Users\\hp\\Anaconda3\\lib\\site-packages\\sklearn\\ensemble\\forest.py:245: FutureWarning: The default value of n_estimators will change from 10 in version 0.20 to 100 in 0.22.\n",
      "  \"10 in version 0.20 to 100 in 0.22.\", FutureWarning)\n",
      "C:\\Users\\hp\\Anaconda3\\lib\\site-packages\\sklearn\\ensemble\\forest.py:245: FutureWarning: The default value of n_estimators will change from 10 in version 0.20 to 100 in 0.22.\n",
      "  \"10 in version 0.20 to 100 in 0.22.\", FutureWarning)\n",
      "C:\\Users\\hp\\Anaconda3\\lib\\site-packages\\sklearn\\ensemble\\forest.py:245: FutureWarning: The default value of n_estimators will change from 10 in version 0.20 to 100 in 0.22.\n",
      "  \"10 in version 0.20 to 100 in 0.22.\", FutureWarning)\n",
      "C:\\Users\\hp\\Anaconda3\\lib\\site-packages\\sklearn\\ensemble\\forest.py:245: FutureWarning: The default value of n_estimators will change from 10 in version 0.20 to 100 in 0.22.\n",
      "  \"10 in version 0.20 to 100 in 0.22.\", FutureWarning)\n",
      "C:\\Users\\hp\\Anaconda3\\lib\\site-packages\\sklearn\\ensemble\\forest.py:245: FutureWarning: The default value of n_estimators will change from 10 in version 0.20 to 100 in 0.22.\n",
      "  \"10 in version 0.20 to 100 in 0.22.\", FutureWarning)\n"
     ]
    },
    {
     "name": "stdout",
     "output_type": "stream",
     "text": [
      "Accuracy for Random Forest is  84.75476695873361\n",
      "Accuracy for Gradient Boosting is  86.4961057703116\n"
     ]
    }
   ],
   "source": [
    "# Report section 4.3.1\n",
    "from sklearn.feature_selection import SelectKBest\n",
    "from sklearn.feature_selection import chi2\n",
    "\n",
    "selector = SelectKBest(chi2, k=40)\n",
    "selector.fit(transformedData, classData)\n",
    "\n",
    "\n",
    "featuredf = pd.DataFrame()\n",
    "featuredf['col_name_ohe'] = col_names_ohe \n",
    "featuredf['score'] = selector.scores_ \n",
    "\n",
    "print(featuredf)\n",
    "\n",
    "print('\\nShape before feature reduction')\n",
    "print(transformedData.shape)\n",
    "\n",
    "new_data = selector.transform(transformedData)\n",
    "print('\\nShape after feature reduction')\n",
    "print(new_data.shape)\n",
    "\n",
    "##Implement the Linear SVC model for the new feature selected data\n",
    "\n",
    "Feat_Select3 = dict()\n",
    "\n",
    "## 1) Linear SVC\n",
    "allResults= []\n",
    "\n",
    "kf= model_selection.StratifiedKFold(n_splits=6, shuffle=True, random_state=1)\n",
    "\n",
    "for train_index, test_index in kf.split(new_data, classData):\n",
    "    clf= LinearSVC(random_state=0)\n",
    "    clf= clf.fit(new_data[train_index], classData[train_index])\n",
    "\n",
    "    # predict the class for an unseen example\n",
    "    results= clf.predict(new_data[test_index])\n",
    "    allResults.append(metrics.accuracy_score(results, classData[test_index]))\n",
    "\n",
    "accuracy = (np.mean(allResults) * 100)\n",
    "Feat_Select3['Linear SVC'] = accuracy\n",
    "print (\"Accuracy for Linear SVC is \", accuracy)\n",
    "\n",
    "\n",
    "\n",
    "## 2) Random Forest\n",
    "allResults= []\n",
    "\n",
    "kf= model_selection.StratifiedKFold(n_splits=6, shuffle=True, random_state=1)\n",
    "\n",
    "for train_index, test_index in kf.split(transformedData, classData):\n",
    "    clf= RandomForestClassifier(random_state=0)\n",
    "    clf= clf.fit(transformedData[train_index], classData[train_index])\n",
    "\n",
    "    # predict the class for an unseen example\n",
    "    results= clf.predict(transformedData[test_index])\n",
    "    allResults.append(metrics.accuracy_score(results, classData[test_index]))\n",
    "\n",
    "accuracy = (np.mean(allResults) * 100)\n",
    "Feat_Select3['Random Forest'] = accuracy\n",
    "print (\"Accuracy for Random Forest is \", accuracy)\n",
    "\n",
    "\n",
    "# 3) Gradient Boosting\n",
    "allResults= []\n",
    "\n",
    "kf= model_selection.StratifiedKFold(n_splits=6, shuffle=True, random_state=1)\n",
    "\n",
    "for train_index, test_index in kf.split(new_data, classData):\n",
    "    clf= GradientBoostingClassifier(random_state=0)\n",
    "    clf= clf.fit(new_data[train_index], classData[train_index])\n",
    "\n",
    "    # predict the class for an unseen example\n",
    "    results= clf.predict(new_data[test_index])\n",
    "    allResults.append(metrics.accuracy_score(results, classData[test_index]))\n",
    "\n",
    "accuracy = (np.mean(allResults) * 100)\n",
    "Feat_Select3['Gradient Boosting'] = accuracy\n",
    "print (\"Accuracy for Gradient Boosting is \", accuracy)\n"
   ]
  },
  {
   "cell_type": "markdown",
   "metadata": {},
   "source": [
    "##### Feature Scores for SelectkBest with chi squared statistic (Report section 4.3.1)"
   ]
  },
  {
   "cell_type": "code",
   "execution_count": 418,
   "metadata": {
    "scrolled": false
   },
   "outputs": [
    {
     "data": {
      "image/png": "[encoded data removed]",
      "text/plain": [
       "<Figure size 1080x360 with 1 Axes>"
      ]
     },
     "metadata": {
      "needs_background": "light"
     },
     "output_type": "display_data"
    }
   ],
   "source": [
    "# Report section 4.3.1\n",
    "x = featuredf['col_name_ohe']\n",
    "y = featuredf['score']\n",
    "\n",
    "plt.figure(figsize=(15,5))\n",
    "plt.stem(x, y, use_line_collection=True)\n",
    "\n",
    "plt.xticks(rotation = 90)\n",
    "\n",
    "plt.show();\n"
   ]
  },
  {
   "cell_type": "markdown",
   "metadata": {},
   "source": [
    "##### Accuracy across top 3 models for SelectkBest with chi squared statistic (Report section 4.3.1)"
   ]
  },
  {
   "cell_type": "code",
   "execution_count": 419,
   "metadata": {
    "scrolled": false
   },
   "outputs": [
    {
     "data": {
      "image/png": "[encoded data removed]",
      "text/plain": [
       "<Figure size 720x360 with 1 Axes>"
      ]
     },
     "metadata": {
      "needs_background": "light"
     },
     "output_type": "display_data"
    }
   ],
   "source": [
    "# Report section 4.3.1\n",
    "plt.figure(figsize=(10,5))\n",
    "plt.bar(*zip(*Feat_Select3.items()), color = 'indianred')\n",
    "\n",
    "for x, y in (Feat_Select3.items()):\n",
    "    label = \"{:2.2f}%\".format(y)\n",
    "    \n",
    "    plt.annotate(label, # this is the text\n",
    "                 (x,y), # this is the point to label\n",
    "                 textcoords=\"offset points\", # how to position the text\n",
    "                 xytext=(0,10), # distance from text to points (x,y)\n",
    "                 ha='center') # horizontal alignment can be left, right or center\n",
    "\n",
    "\n",
    "plt.xticks(rotation=50)\n",
    "plt.yticks(np.arange(0,120,20))\n",
    "plt.show();"
   ]
  },
  {
   "cell_type": "markdown",
   "metadata": {},
   "source": [
    "#### SelectKBest with mutual info statistic"
   ]
  },
  {
   "cell_type": "code",
   "execution_count": 420,
   "metadata": {
    "scrolled": true
   },
   "outputs": [
    {
     "name": "stdout",
     "output_type": "stream",
     "text": [
      "                 col_name_ohe     score\n",
      "0             x0_ Federal-gov  0.003777\n",
      "1               x0_ Local-gov  0.000000\n",
      "2            x0_ Never-worked  0.000583\n",
      "3                 x0_ Private  0.013280\n",
      "4            x0_ Self-emp-inc  0.008439\n",
      "5        x0_ Self-emp-not-inc  0.001618\n",
      "6               x0_ State-gov  0.002109\n",
      "7             x0_ Without-pay  0.000000\n",
      "8                    x1_ 10th  0.001645\n",
      "9                    x1_ 11th  0.004475\n",
      "10                   x1_ 12th  0.004625\n",
      "11                x1_ 1st-4th  0.001069\n",
      "12                x1_ 5th-6th  0.000000\n",
      "13                x1_ 7th-8th  0.001935\n",
      "14                    x1_ 9th  0.000782\n",
      "15             x1_ Assoc-acdm  0.000115\n",
      "16              x1_ Assoc-voc  0.001569\n",
      "17              x1_ Bachelors  0.019075\n",
      "18              x1_ Doctorate  0.012394\n",
      "19                x1_ HS-grad  0.008683\n",
      "20                x1_ Masters  0.014758\n",
      "21              x1_ Preschool  0.000000\n",
      "22            x1_ Prof-school  0.009134\n",
      "23           x1_ Some-college  0.004666\n",
      "24               x2_ Divorced  0.012921\n",
      "25      x2_ Married-AF-spouse  0.000000\n",
      "26     x2_ Married-civ-spouse  0.105553\n",
      "27  x2_ Married-spouse-absent  0.001040\n",
      "28          x2_ Never-married  0.060999\n",
      "29              x2_ Separated  0.003756\n",
      "..                        ...       ...\n",
      "35        x3_ Farming-fishing  0.000000\n",
      "36      x3_ Handlers-cleaners  0.002170\n",
      "37      x3_ Machine-op-inspct  0.005276\n",
      "38          x3_ Other-service  0.010414\n",
      "39        x3_ Priv-house-serv  0.000158\n",
      "40         x3_ Prof-specialty  0.006386\n",
      "41        x3_ Protective-serv  0.000000\n",
      "42                  x3_ Sales  0.002617\n",
      "43           x3_ Tech-support  0.001221\n",
      "44       x3_ Transport-moving  0.000633\n",
      "45                x4_ Husband  0.080566\n",
      "46          x4_ Not-in-family  0.019086\n",
      "47         x4_ Other-relative  0.004515\n",
      "48              x4_ Own-child  0.036791\n",
      "49              x4_ Unmarried  0.012671\n",
      "50                   x4_ Wife  0.005261\n",
      "51     x5_ Amer-Indian-Eskimo  0.000000\n",
      "52     x5_ Asian-Pac-Islander  0.003968\n",
      "53                  x5_ Black  0.005358\n",
      "54                  x5_ Other  0.000503\n",
      "55                  x5_ White  0.008772\n",
      "56                 x6_ Female  0.025580\n",
      "57                   x6_ Male  0.029409\n",
      "58                        age  0.070268\n",
      "59                     fnlwgt  0.033503\n",
      "60              education_num  0.062114\n",
      "61               capital_gain  0.082566\n",
      "62               capital_loss  0.034268\n",
      "63             hours_per_week  0.040866\n",
      "64             native_country  0.003446\n",
      "\n",
      "[65 rows x 2 columns]\n",
      "\n",
      "Shape before feature reduction\n",
      "(32561, 65)\n",
      "\n",
      "Shape after feature reduction\n",
      "(32561, 40)\n",
      "Accuracy for Linear SVC is  84.84689549571857\n"
     ]
    },
    {
     "name": "stderr",
     "output_type": "stream",
     "text": [
      "C:\\Users\\hp\\Anaconda3\\lib\\site-packages\\sklearn\\ensemble\\forest.py:245: FutureWarning: The default value of n_estimators will change from 10 in version 0.20 to 100 in 0.22.\n",
      "  \"10 in version 0.20 to 100 in 0.22.\", FutureWarning)\n",
      "C:\\Users\\hp\\Anaconda3\\lib\\site-packages\\sklearn\\ensemble\\forest.py:245: FutureWarning: The default value of n_estimators will change from 10 in version 0.20 to 100 in 0.22.\n",
      "  \"10 in version 0.20 to 100 in 0.22.\", FutureWarning)\n",
      "C:\\Users\\hp\\Anaconda3\\lib\\site-packages\\sklearn\\ensemble\\forest.py:245: FutureWarning: The default value of n_estimators will change from 10 in version 0.20 to 100 in 0.22.\n",
      "  \"10 in version 0.20 to 100 in 0.22.\", FutureWarning)\n",
      "C:\\Users\\hp\\Anaconda3\\lib\\site-packages\\sklearn\\ensemble\\forest.py:245: FutureWarning: The default value of n_estimators will change from 10 in version 0.20 to 100 in 0.22.\n",
      "  \"10 in version 0.20 to 100 in 0.22.\", FutureWarning)\n",
      "C:\\Users\\hp\\Anaconda3\\lib\\site-packages\\sklearn\\ensemble\\forest.py:245: FutureWarning: The default value of n_estimators will change from 10 in version 0.20 to 100 in 0.22.\n",
      "  \"10 in version 0.20 to 100 in 0.22.\", FutureWarning)\n",
      "C:\\Users\\hp\\Anaconda3\\lib\\site-packages\\sklearn\\ensemble\\forest.py:245: FutureWarning: The default value of n_estimators will change from 10 in version 0.20 to 100 in 0.22.\n",
      "  \"10 in version 0.20 to 100 in 0.22.\", FutureWarning)\n"
     ]
    },
    {
     "name": "stdout",
     "output_type": "stream",
     "text": [
      "Accuracy for Random Forest is  84.75476695873361\n",
      "Accuracy for Gradient Boosting is  86.39168108980247\n"
     ]
    }
   ],
   "source": [
    "# Report section 4.3.1\n",
    "from sklearn.feature_selection import mutual_info_classif\n",
    "\n",
    "selector = SelectKBest(mutual_info_classif, k=40)\n",
    "selector.fit(transformedData, classData)\n",
    "\n",
    "featuredf = pd.DataFrame()\n",
    "featuredf['col_name_ohe'] = col_names_ohe \n",
    "featuredf['score'] = selector.scores_ \n",
    "\n",
    "print(featuredf)\n",
    "\n",
    "print('\\nShape before feature reduction')\n",
    "print(transformedData.shape)\n",
    "\n",
    "new_data = selector.transform(transformedData)\n",
    "print('\\nShape after feature reduction')\n",
    "print(new_data.shape)\n",
    "\n",
    "##Implement the Linear SVC model for the new feature selected data\n",
    "\n",
    "Feat_Select4 = dict()\n",
    "\n",
    "## 1) Linear SVC\n",
    "allResults= []\n",
    "\n",
    "kf= model_selection.StratifiedKFold(n_splits=6, shuffle=True, random_state=1)\n",
    "\n",
    "for train_index, test_index in kf.split(new_data, classData):\n",
    "    clf= LinearSVC(random_state=0)\n",
    "    clf= clf.fit(new_data[train_index], classData[train_index])\n",
    "\n",
    "    # predict the class for an unseen example\n",
    "    results= clf.predict(new_data[test_index])\n",
    "    allResults.append(metrics.accuracy_score(results, classData[test_index]))\n",
    "\n",
    "accuracy = (np.mean(allResults) * 100)\n",
    "Feat_Select4['Linear SVC'] = accuracy\n",
    "print (\"Accuracy for Linear SVC is \", accuracy)\n",
    "\n",
    "\n",
    "\n",
    "## 2) Random Forest\n",
    "allResults= []\n",
    "\n",
    "kf= model_selection.StratifiedKFold(n_splits=6, shuffle=True, random_state=1)\n",
    "\n",
    "for train_index, test_index in kf.split(transformedData, classData):\n",
    "    clf= RandomForestClassifier(random_state=0)\n",
    "    clf= clf.fit(transformedData[train_index], classData[train_index])\n",
    "\n",
    "    # predict the class for an unseen example\n",
    "    results= clf.predict(transformedData[test_index])\n",
    "    allResults.append(metrics.accuracy_score(results, classData[test_index]))\n",
    "\n",
    "accuracy = (np.mean(allResults) * 100)\n",
    "Feat_Select4['Random Forest'] = accuracy\n",
    "print (\"Accuracy for Random Forest is \", accuracy)\n",
    "\n",
    "\n",
    "# 3) Gradient Boosting\n",
    "allResults= []\n",
    "\n",
    "kf= model_selection.StratifiedKFold(n_splits=6, shuffle=True, random_state=1)\n",
    "\n",
    "for train_index, test_index in kf.split(new_data, classData):\n",
    "    clf= GradientBoostingClassifier(random_state=0)\n",
    "    clf= clf.fit(new_data[train_index], classData[train_index])\n",
    "\n",
    "    # predict the class for an unseen example\n",
    "    results= clf.predict(new_data[test_index])\n",
    "    allResults.append(metrics.accuracy_score(results, classData[test_index]))\n",
    "\n",
    "accuracy = (np.mean(allResults) * 100)\n",
    "Feat_Select4['Gradient Boosting'] = accuracy\n",
    "print (\"Accuracy for Gradient Boosting is \", accuracy)\n"
   ]
  },
  {
   "cell_type": "markdown",
   "metadata": {},
   "source": [
    "##### Feature Scores for SelectKBest with mutual info statistic"
   ]
  },
  {
   "cell_type": "code",
   "execution_count": 421,
   "metadata": {
    "scrolled": true
   },
   "outputs": [
    {
     "data": {
      "image/png": "[encoded data removed]",
      "text/plain": [
       "<Figure size 1080x360 with 1 Axes>"
      ]
     },
     "metadata": {
      "needs_background": "light"
     },
     "output_type": "display_data"
    }
   ],
   "source": [
    "x = featuredf['col_name_ohe']\n",
    "y = featuredf['score']\n",
    "\n",
    "plt.figure(figsize=(15,5))\n",
    "plt.stem(x, y, use_line_collection=True)\n",
    "\n",
    "plt.xticks(rotation = 90)\n",
    "\n",
    "plt.show();\n"
   ]
  },
  {
   "cell_type": "markdown",
   "metadata": {},
   "source": [
    "##### Accuracy across top 3 models for SelectKBest with mutual info statistic (Report section 4.3.1)"
   ]
  },
  {
   "cell_type": "code",
   "execution_count": 422,
   "metadata": {
    "scrolled": false
   },
   "outputs": [
    {
     "data": {
      "image/png": "[encoded data removed]",
      "text/plain": [
       "<Figure size 720x360 with 1 Axes>"
      ]
     },
     "metadata": {
      "needs_background": "light"
     },
     "output_type": "display_data"
    }
   ],
   "source": [
    "# Report section 4.3.1\n",
    "plt.figure(figsize=(10,5))\n",
    "plt.bar(*zip(*Feat_Select4.items()), color = 'indianred')\n",
    "\n",
    "for x, y in (Feat_Select4.items()):\n",
    "    label = \"{:2.2f}%\".format(y)\n",
    "    \n",
    "    plt.annotate(label, # this is the text\n",
    "                 (x,y), # this is the point to label\n",
    "                 textcoords=\"offset points\", # how to position the text\n",
    "                 xytext=(0,10), # distance from text to points (x,y)\n",
    "                 ha='center') # horizontal alignment can be left, right or center\n",
    "\n",
    "\n",
    "plt.xticks(rotation=50)\n",
    "plt.yticks(np.arange(0,120,20))\n",
    "plt.show();"
   ]
  },
  {
   "cell_type": "markdown",
   "metadata": {},
   "source": [
    "### Wrapper methods"
   ]
  },
  {
   "cell_type": "markdown",
   "metadata": {},
   "source": [
    "#### Recursive Feature Elimination(RFE) using Logistic Regression algorithm"
   ]
  },
  {
   "cell_type": "code",
   "execution_count": 453,
   "metadata": {
    "scrolled": true
   },
   "outputs": [
    {
     "name": "stderr",
     "output_type": "stream",
     "text": [
      "C:\\Users\\hp\\Anaconda3\\lib\\site-packages\\sklearn\\linear_model\\logistic.py:432: FutureWarning: Default solver will be changed to 'lbfgs' in 0.22. Specify a solver to silence this warning.\n",
      "  FutureWarning)\n",
      "C:\\Users\\hp\\Anaconda3\\lib\\site-packages\\sklearn\\linear_model\\logistic.py:432: FutureWarning: Default solver will be changed to 'lbfgs' in 0.22. Specify a solver to silence this warning.\n",
      "  FutureWarning)\n",
      "C:\\Users\\hp\\Anaconda3\\lib\\site-packages\\sklearn\\linear_model\\logistic.py:432: FutureWarning: Default solver will be changed to 'lbfgs' in 0.22. Specify a solver to silence this warning.\n",
      "  FutureWarning)\n",
      "C:\\Users\\hp\\Anaconda3\\lib\\site-packages\\sklearn\\linear_model\\logistic.py:432: FutureWarning: Default solver will be changed to 'lbfgs' in 0.22. Specify a solver to silence this warning.\n",
      "  FutureWarning)\n",
      "C:\\Users\\hp\\Anaconda3\\lib\\site-packages\\sklearn\\linear_model\\logistic.py:432: FutureWarning: Default solver will be changed to 'lbfgs' in 0.22. Specify a solver to silence this warning.\n",
      "  FutureWarning)\n",
      "C:\\Users\\hp\\Anaconda3\\lib\\site-packages\\sklearn\\linear_model\\logistic.py:432: FutureWarning: Default solver will be changed to 'lbfgs' in 0.22. Specify a solver to silence this warning.\n",
      "  FutureWarning)\n",
      "C:\\Users\\hp\\Anaconda3\\lib\\site-packages\\sklearn\\linear_model\\logistic.py:432: FutureWarning: Default solver will be changed to 'lbfgs' in 0.22. Specify a solver to silence this warning.\n",
      "  FutureWarning)\n",
      "C:\\Users\\hp\\Anaconda3\\lib\\site-packages\\sklearn\\linear_model\\logistic.py:432: FutureWarning: Default solver will be changed to 'lbfgs' in 0.22. Specify a solver to silence this warning.\n",
      "  FutureWarning)\n",
      "C:\\Users\\hp\\Anaconda3\\lib\\site-packages\\sklearn\\linear_model\\logistic.py:432: FutureWarning: Default solver will be changed to 'lbfgs' in 0.22. Specify a solver to silence this warning.\n",
      "  FutureWarning)\n",
      "C:\\Users\\hp\\Anaconda3\\lib\\site-packages\\sklearn\\linear_model\\logistic.py:432: FutureWarning: Default solver will be changed to 'lbfgs' in 0.22. Specify a solver to silence this warning.\n",
      "  FutureWarning)\n",
      "C:\\Users\\hp\\Anaconda3\\lib\\site-packages\\sklearn\\linear_model\\logistic.py:432: FutureWarning: Default solver will be changed to 'lbfgs' in 0.22. Specify a solver to silence this warning.\n",
      "  FutureWarning)\n",
      "C:\\Users\\hp\\Anaconda3\\lib\\site-packages\\sklearn\\linear_model\\logistic.py:432: FutureWarning: Default solver will be changed to 'lbfgs' in 0.22. Specify a solver to silence this warning.\n",
      "  FutureWarning)\n",
      "C:\\Users\\hp\\Anaconda3\\lib\\site-packages\\sklearn\\linear_model\\logistic.py:432: FutureWarning: Default solver will be changed to 'lbfgs' in 0.22. Specify a solver to silence this warning.\n",
      "  FutureWarning)\n",
      "C:\\Users\\hp\\Anaconda3\\lib\\site-packages\\sklearn\\linear_model\\logistic.py:432: FutureWarning: Default solver will be changed to 'lbfgs' in 0.22. Specify a solver to silence this warning.\n",
      "  FutureWarning)\n",
      "C:\\Users\\hp\\Anaconda3\\lib\\site-packages\\sklearn\\linear_model\\logistic.py:432: FutureWarning: Default solver will be changed to 'lbfgs' in 0.22. Specify a solver to silence this warning.\n",
      "  FutureWarning)\n",
      "C:\\Users\\hp\\Anaconda3\\lib\\site-packages\\sklearn\\linear_model\\logistic.py:432: FutureWarning: Default solver will be changed to 'lbfgs' in 0.22. Specify a solver to silence this warning.\n",
      "  FutureWarning)\n",
      "C:\\Users\\hp\\Anaconda3\\lib\\site-packages\\sklearn\\linear_model\\logistic.py:432: FutureWarning: Default solver will be changed to 'lbfgs' in 0.22. Specify a solver to silence this warning.\n",
      "  FutureWarning)\n",
      "C:\\Users\\hp\\Anaconda3\\lib\\site-packages\\sklearn\\linear_model\\logistic.py:432: FutureWarning: Default solver will be changed to 'lbfgs' in 0.22. Specify a solver to silence this warning.\n",
      "  FutureWarning)\n",
      "C:\\Users\\hp\\Anaconda3\\lib\\site-packages\\sklearn\\linear_model\\logistic.py:432: FutureWarning: Default solver will be changed to 'lbfgs' in 0.22. Specify a solver to silence this warning.\n",
      "  FutureWarning)\n",
      "C:\\Users\\hp\\Anaconda3\\lib\\site-packages\\sklearn\\linear_model\\logistic.py:432: FutureWarning: Default solver will be changed to 'lbfgs' in 0.22. Specify a solver to silence this warning.\n",
      "  FutureWarning)\n",
      "C:\\Users\\hp\\Anaconda3\\lib\\site-packages\\sklearn\\linear_model\\logistic.py:432: FutureWarning: Default solver will be changed to 'lbfgs' in 0.22. Specify a solver to silence this warning.\n",
      "  FutureWarning)\n",
      "C:\\Users\\hp\\Anaconda3\\lib\\site-packages\\sklearn\\linear_model\\logistic.py:432: FutureWarning: Default solver will be changed to 'lbfgs' in 0.22. Specify a solver to silence this warning.\n",
      "  FutureWarning)\n",
      "C:\\Users\\hp\\Anaconda3\\lib\\site-packages\\sklearn\\linear_model\\logistic.py:432: FutureWarning: Default solver will be changed to 'lbfgs' in 0.22. Specify a solver to silence this warning.\n",
      "  FutureWarning)\n",
      "C:\\Users\\hp\\Anaconda3\\lib\\site-packages\\sklearn\\linear_model\\logistic.py:432: FutureWarning: Default solver will be changed to 'lbfgs' in 0.22. Specify a solver to silence this warning.\n",
      "  FutureWarning)\n",
      "C:\\Users\\hp\\Anaconda3\\lib\\site-packages\\sklearn\\linear_model\\logistic.py:432: FutureWarning: Default solver will be changed to 'lbfgs' in 0.22. Specify a solver to silence this warning.\n",
      "  FutureWarning)\n",
      "C:\\Users\\hp\\Anaconda3\\lib\\site-packages\\sklearn\\linear_model\\logistic.py:432: FutureWarning: Default solver will be changed to 'lbfgs' in 0.22. Specify a solver to silence this warning.\n",
      "  FutureWarning)\n",
      "C:\\Users\\hp\\Anaconda3\\lib\\site-packages\\sklearn\\linear_model\\logistic.py:432: FutureWarning: Default solver will be changed to 'lbfgs' in 0.22. Specify a solver to silence this warning.\n",
      "  FutureWarning)\n",
      "C:\\Users\\hp\\Anaconda3\\lib\\site-packages\\sklearn\\linear_model\\logistic.py:432: FutureWarning: Default solver will be changed to 'lbfgs' in 0.22. Specify a solver to silence this warning.\n",
      "  FutureWarning)\n",
      "C:\\Users\\hp\\Anaconda3\\lib\\site-packages\\sklearn\\linear_model\\logistic.py:432: FutureWarning: Default solver will be changed to 'lbfgs' in 0.22. Specify a solver to silence this warning.\n",
      "  FutureWarning)\n",
      "C:\\Users\\hp\\Anaconda3\\lib\\site-packages\\sklearn\\linear_model\\logistic.py:432: FutureWarning: Default solver will be changed to 'lbfgs' in 0.22. Specify a solver to silence this warning.\n",
      "  FutureWarning)\n",
      "C:\\Users\\hp\\Anaconda3\\lib\\site-packages\\sklearn\\linear_model\\logistic.py:432: FutureWarning: Default solver will be changed to 'lbfgs' in 0.22. Specify a solver to silence this warning.\n",
      "  FutureWarning)\n",
      "C:\\Users\\hp\\Anaconda3\\lib\\site-packages\\sklearn\\linear_model\\logistic.py:432: FutureWarning: Default solver will be changed to 'lbfgs' in 0.22. Specify a solver to silence this warning.\n",
      "  FutureWarning)\n",
      "C:\\Users\\hp\\Anaconda3\\lib\\site-packages\\sklearn\\linear_model\\logistic.py:432: FutureWarning: Default solver will be changed to 'lbfgs' in 0.22. Specify a solver to silence this warning.\n",
      "  FutureWarning)\n",
      "C:\\Users\\hp\\Anaconda3\\lib\\site-packages\\sklearn\\linear_model\\logistic.py:432: FutureWarning: Default solver will be changed to 'lbfgs' in 0.22. Specify a solver to silence this warning.\n",
      "  FutureWarning)\n",
      "C:\\Users\\hp\\Anaconda3\\lib\\site-packages\\sklearn\\linear_model\\logistic.py:432: FutureWarning: Default solver will be changed to 'lbfgs' in 0.22. Specify a solver to silence this warning.\n",
      "  FutureWarning)\n",
      "C:\\Users\\hp\\Anaconda3\\lib\\site-packages\\sklearn\\linear_model\\logistic.py:432: FutureWarning: Default solver will be changed to 'lbfgs' in 0.22. Specify a solver to silence this warning.\n",
      "  FutureWarning)\n"
     ]
    },
    {
     "name": "stdout",
     "output_type": "stream",
     "text": [
      "Num Features: 30\n",
      "\n",
      "Selected Features\n",
      "                col_names_ohe  feat_selected\n",
      "0             x0_ Federal-gov              1\n",
      "1               x0_ Local-gov              0\n",
      "2            x0_ Never-worked              0\n",
      "3                 x0_ Private              0\n",
      "4            x0_ Self-emp-inc              0\n",
      "5        x0_ Self-emp-not-inc              0\n",
      "6               x0_ State-gov              0\n",
      "7             x0_ Without-pay              1\n",
      "8                    x1_ 10th              0\n",
      "9                    x1_ 11th              0\n",
      "10                   x1_ 12th              0\n",
      "11                x1_ 1st-4th              0\n",
      "12                x1_ 5th-6th              0\n",
      "13                x1_ 7th-8th              0\n",
      "14                    x1_ 9th              0\n",
      "15             x1_ Assoc-acdm              0\n",
      "16              x1_ Assoc-voc              0\n",
      "17              x1_ Bachelors              0\n",
      "18              x1_ Doctorate              0\n",
      "19                x1_ HS-grad              0\n",
      "20                x1_ Masters              0\n",
      "21              x1_ Preschool              1\n",
      "22            x1_ Prof-school              0\n",
      "23           x1_ Some-college              0\n",
      "24               x2_ Divorced              1\n",
      "25      x2_ Married-AF-spouse              1\n",
      "26     x2_ Married-civ-spouse              1\n",
      "27  x2_ Married-spouse-absent              1\n",
      "28          x2_ Never-married              1\n",
      "29              x2_ Separated              1\n",
      "..                        ...            ...\n",
      "35        x3_ Farming-fishing              1\n",
      "36      x3_ Handlers-cleaners              1\n",
      "37      x3_ Machine-op-inspct              0\n",
      "38          x3_ Other-service              1\n",
      "39        x3_ Priv-house-serv              1\n",
      "40         x3_ Prof-specialty              0\n",
      "41        x3_ Protective-serv              0\n",
      "42                  x3_ Sales              0\n",
      "43           x3_ Tech-support              0\n",
      "44       x3_ Transport-moving              0\n",
      "45                x4_ Husband              0\n",
      "46          x4_ Not-in-family              0\n",
      "47         x4_ Other-relative              1\n",
      "48              x4_ Own-child              1\n",
      "49              x4_ Unmarried              0\n",
      "50                   x4_ Wife              1\n",
      "51     x5_ Amer-Indian-Eskimo              1\n",
      "52     x5_ Asian-Pac-Islander              1\n",
      "53                  x5_ Black              1\n",
      "54                  x5_ Other              1\n",
      "55                  x5_ White              0\n",
      "56                 x6_ Female              1\n",
      "57                   x6_ Male              1\n",
      "58                        age              1\n",
      "59                     fnlwgt              1\n",
      "60              education_num              1\n",
      "61               capital_gain              1\n",
      "62               capital_loss              1\n",
      "63             hours_per_week              1\n",
      "64             native_country              0\n",
      "\n",
      "[65 rows x 2 columns]\n",
      "\n",
      "Shape before feature reduction\n",
      "(32561, 65)\n",
      "\n",
      "Shape after feature reduction\n",
      "(32561, 30)\n",
      "Accuracy for Linear SVC is  84.73939352488307\n"
     ]
    },
    {
     "name": "stderr",
     "output_type": "stream",
     "text": [
      "C:\\Users\\hp\\Anaconda3\\lib\\site-packages\\sklearn\\ensemble\\forest.py:245: FutureWarning: The default value of n_estimators will change from 10 in version 0.20 to 100 in 0.22.\n",
      "  \"10 in version 0.20 to 100 in 0.22.\", FutureWarning)\n",
      "C:\\Users\\hp\\Anaconda3\\lib\\site-packages\\sklearn\\ensemble\\forest.py:245: FutureWarning: The default value of n_estimators will change from 10 in version 0.20 to 100 in 0.22.\n",
      "  \"10 in version 0.20 to 100 in 0.22.\", FutureWarning)\n",
      "C:\\Users\\hp\\Anaconda3\\lib\\site-packages\\sklearn\\ensemble\\forest.py:245: FutureWarning: The default value of n_estimators will change from 10 in version 0.20 to 100 in 0.22.\n",
      "  \"10 in version 0.20 to 100 in 0.22.\", FutureWarning)\n",
      "C:\\Users\\hp\\Anaconda3\\lib\\site-packages\\sklearn\\ensemble\\forest.py:245: FutureWarning: The default value of n_estimators will change from 10 in version 0.20 to 100 in 0.22.\n",
      "  \"10 in version 0.20 to 100 in 0.22.\", FutureWarning)\n",
      "C:\\Users\\hp\\Anaconda3\\lib\\site-packages\\sklearn\\ensemble\\forest.py:245: FutureWarning: The default value of n_estimators will change from 10 in version 0.20 to 100 in 0.22.\n",
      "  \"10 in version 0.20 to 100 in 0.22.\", FutureWarning)\n",
      "C:\\Users\\hp\\Anaconda3\\lib\\site-packages\\sklearn\\ensemble\\forest.py:245: FutureWarning: The default value of n_estimators will change from 10 in version 0.20 to 100 in 0.22.\n",
      "  \"10 in version 0.20 to 100 in 0.22.\", FutureWarning)\n"
     ]
    },
    {
     "name": "stdout",
     "output_type": "stream",
     "text": [
      "Accuracy for Random Forest is  84.75476695873361\n",
      "Accuracy for Gradient Boosting is  86.41010577841658\n"
     ]
    }
   ],
   "source": [
    "# Report section 4.3.2\n",
    "\n",
    "from sklearn.feature_selection import RFE\n",
    "\n",
    "estimator = LogisticRegression()\n",
    "rfe= RFE(estimator, 30)\n",
    "feature_sel = rfe.fit(transformedData, classData)\n",
    "\n",
    "print(\"Num Features: %s\" % (feature_sel.n_features_))\n",
    "feat_selected = (np.array(feature_sel.support_)).astype(int)\n",
    "\n",
    "featuredf = pd.DataFrame()\n",
    "featuredf['col_names_ohe'] = col_names_ohe\n",
    "featuredf['feat_selected'] = feat_selected\n",
    "\n",
    "print('\\nSelected Features')\n",
    "print(featuredf)\n",
    "\n",
    "print('\\nShape before feature reduction')\n",
    "print(transformedData.shape)\n",
    "\n",
    "new_data = feature_sel.transform(transformedData)\n",
    "print('\\nShape after feature reduction')\n",
    "print(new_data.shape)\n",
    "\n",
    "##Implement the Linear SVC model for the new feature selected data\n",
    "\n",
    "Feat_Select5 = dict()\n",
    "\n",
    "## 1) Linear SVC\n",
    "allResults= []\n",
    "\n",
    "kf= model_selection.StratifiedKFold(n_splits=6, shuffle=True, random_state=1)\n",
    "\n",
    "for train_index, test_index in kf.split(new_data, classData):\n",
    "    clf= LinearSVC(random_state=0)\n",
    "    clf= clf.fit(new_data[train_index], classData[train_index])\n",
    "\n",
    "    # predict the class for an unseen example\n",
    "    results= clf.predict(new_data[test_index])\n",
    "    allResults.append(metrics.accuracy_score(results, classData[test_index]))\n",
    "\n",
    "accuracy = (np.mean(allResults) * 100)\n",
    "Feat_Select5['Linear SVC'] = accuracy\n",
    "print (\"Accuracy for Linear SVC is \", accuracy)\n",
    "\n",
    "\n",
    "\n",
    "## 2) Random Forest\n",
    "allResults= []\n",
    "\n",
    "kf= model_selection.StratifiedKFold(n_splits=6, shuffle=True, random_state=1)\n",
    "\n",
    "for train_index, test_index in kf.split(transformedData, classData):\n",
    "    clf= RandomForestClassifier(random_state=0)\n",
    "    clf= clf.fit(transformedData[train_index], classData[train_index])\n",
    "\n",
    "    # predict the class for an unseen example\n",
    "    results= clf.predict(transformedData[test_index])\n",
    "    allResults.append(metrics.accuracy_score(results, classData[test_index]))\n",
    "\n",
    "accuracy = (np.mean(allResults) * 100)\n",
    "Feat_Select5['Random Forest'] = accuracy\n",
    "print (\"Accuracy for Random Forest is \", accuracy)\n",
    "\n",
    "\n",
    "# 3) Gradient Boosting\n",
    "allResults= []\n",
    "\n",
    "kf= model_selection.StratifiedKFold(n_splits=6, shuffle=True, random_state=1)\n",
    "\n",
    "for train_index, test_index in kf.split(new_data, classData):\n",
    "    clf= GradientBoostingClassifier(random_state=0)\n",
    "    clf= clf.fit(new_data[train_index], classData[train_index])\n",
    "\n",
    "    # predict the class for an unseen example\n",
    "    results= clf.predict(new_data[test_index])\n",
    "    allResults.append(metrics.accuracy_score(results, classData[test_index]))\n",
    "\n",
    "accuracy = (np.mean(allResults) * 100)\n",
    "Feat_Select5['Gradient Boosting'] = accuracy\n",
    "print (\"Accuracy for Gradient Boosting is \", accuracy)\n"
   ]
  },
  {
   "cell_type": "markdown",
   "metadata": {},
   "source": [
    "##### Feature Scores for RFE"
   ]
  },
  {
   "cell_type": "code",
   "execution_count": 454,
   "metadata": {
    "scrolled": true
   },
   "outputs": [
    {
     "data": {
      "image/png": "[encoded data removed]",
      "text/plain": [
       "<Figure size 1080x360 with 1 Axes>"
      ]
     },
     "metadata": {
      "needs_background": "light"
     },
     "output_type": "display_data"
    }
   ],
   "source": [
    "x = featuredf['col_names_ohe']\n",
    "y = featuredf['feat_selected']\n",
    "\n",
    "plt.figure(figsize=(15,5))\n",
    "plt.stem(x, y, use_line_collection=True)\n",
    "\n",
    "plt.xticks(rotation = 90)\n",
    "\n",
    "plt.show();"
   ]
  },
  {
   "cell_type": "markdown",
   "metadata": {},
   "source": [
    "##### Accuracy accross top 3 models for RFE (Report section 4.3.2)"
   ]
  },
  {
   "cell_type": "code",
   "execution_count": 456,
   "metadata": {
    "scrolled": true
   },
   "outputs": [
    {
     "data": {
      "image/png": "[encoded data removed]",
      "text/plain": [
       "<Figure size 720x360 with 1 Axes>"
      ]
     },
     "metadata": {
      "needs_background": "light"
     },
     "output_type": "display_data"
    }
   ],
   "source": [
    "# Report section 4.3.2\n",
    "plt.figure(figsize=(10,5))\n",
    "plt.bar(*zip(*Feat_Select5.items()), color = 'indianred')\n",
    "\n",
    "for x, y in (Feat_Select5.items()):\n",
    "    label = \"{:2.2f}%\".format(y)\n",
    "    \n",
    "    plt.annotate(label, # this is the text\n",
    "                 (x,y), # this is the point to label\n",
    "                 textcoords=\"offset points\", # how to position the text\n",
    "                 xytext=(0,10), # distance from text to points (x,y)\n",
    "                 ha='center') # horizontal alignment can be left, right or center\n",
    "\n",
    "\n",
    "plt.xticks(rotation=50)\n",
    "plt.yticks(np.arange(0,120,20))\n",
    "plt.show();"
   ]
  },
  {
   "cell_type": "markdown",
   "metadata": {},
   "source": [
    "### Embedded Methods"
   ]
  },
  {
   "cell_type": "markdown",
   "metadata": {},
   "source": [
    "#### Tree Based Method using Random Forest Classifier (Report section 4.3.3)"
   ]
  },
  {
   "cell_type": "code",
   "execution_count": 428,
   "metadata": {
    "scrolled": true
   },
   "outputs": [
    {
     "name": "stdout",
     "output_type": "stream",
     "text": [
      "\n",
      "Selected Features\n",
      "                col_names_ohe  feat_selected\n",
      "0             x0_ Federal-gov              0\n",
      "1               x0_ Local-gov              0\n",
      "2            x0_ Never-worked              0\n",
      "3                 x0_ Private              0\n",
      "4            x0_ Self-emp-inc              0\n",
      "5        x0_ Self-emp-not-inc              0\n",
      "6               x0_ State-gov              0\n",
      "7             x0_ Without-pay              0\n",
      "8                    x1_ 10th              0\n",
      "9                    x1_ 11th              0\n",
      "10                   x1_ 12th              0\n",
      "11                x1_ 1st-4th              0\n",
      "12                x1_ 5th-6th              0\n",
      "13                x1_ 7th-8th              0\n",
      "14                    x1_ 9th              0\n",
      "15             x1_ Assoc-acdm              0\n",
      "16              x1_ Assoc-voc              0\n",
      "17              x1_ Bachelors              0\n",
      "18              x1_ Doctorate              0\n",
      "19                x1_ HS-grad              0\n",
      "20                x1_ Masters              0\n",
      "21              x1_ Preschool              0\n",
      "22            x1_ Prof-school              0\n",
      "23           x1_ Some-college              0\n",
      "24               x2_ Divorced              0\n",
      "25      x2_ Married-AF-spouse              0\n",
      "26     x2_ Married-civ-spouse              1\n",
      "27  x2_ Married-spouse-absent              0\n",
      "28          x2_ Never-married              1\n",
      "29              x2_ Separated              0\n",
      "..                        ...            ...\n",
      "35        x3_ Farming-fishing              0\n",
      "36      x3_ Handlers-cleaners              0\n",
      "37      x3_ Machine-op-inspct              0\n",
      "38          x3_ Other-service              0\n",
      "39        x3_ Priv-house-serv              0\n",
      "40         x3_ Prof-specialty              0\n",
      "41        x3_ Protective-serv              0\n",
      "42                  x3_ Sales              0\n",
      "43           x3_ Tech-support              0\n",
      "44       x3_ Transport-moving              0\n",
      "45                x4_ Husband              1\n",
      "46          x4_ Not-in-family              0\n",
      "47         x4_ Other-relative              0\n",
      "48              x4_ Own-child              0\n",
      "49              x4_ Unmarried              0\n",
      "50                   x4_ Wife              0\n",
      "51     x5_ Amer-Indian-Eskimo              0\n",
      "52     x5_ Asian-Pac-Islander              0\n",
      "53                  x5_ Black              0\n",
      "54                  x5_ Other              0\n",
      "55                  x5_ White              0\n",
      "56                 x6_ Female              0\n",
      "57                   x6_ Male              0\n",
      "58                        age              1\n",
      "59                     fnlwgt              1\n",
      "60              education_num              1\n",
      "61               capital_gain              1\n",
      "62               capital_loss              1\n",
      "63             hours_per_week              1\n",
      "64             native_country              0\n",
      "\n",
      "[65 rows x 2 columns]\n",
      "\n",
      "Shape before feature reduction\n",
      "(32561, 65)\n",
      "\n",
      "Shape after feature reduction\n",
      "(32561, 10)\n",
      "Accuracy for Linear SVC is  84.54283634545551\n"
     ]
    },
    {
     "name": "stderr",
     "output_type": "stream",
     "text": [
      "C:\\Users\\hp\\Anaconda3\\lib\\site-packages\\sklearn\\ensemble\\forest.py:245: FutureWarning: The default value of n_estimators will change from 10 in version 0.20 to 100 in 0.22.\n",
      "  \"10 in version 0.20 to 100 in 0.22.\", FutureWarning)\n",
      "C:\\Users\\hp\\Anaconda3\\lib\\site-packages\\sklearn\\ensemble\\forest.py:245: FutureWarning: The default value of n_estimators will change from 10 in version 0.20 to 100 in 0.22.\n",
      "  \"10 in version 0.20 to 100 in 0.22.\", FutureWarning)\n",
      "C:\\Users\\hp\\Anaconda3\\lib\\site-packages\\sklearn\\ensemble\\forest.py:245: FutureWarning: The default value of n_estimators will change from 10 in version 0.20 to 100 in 0.22.\n",
      "  \"10 in version 0.20 to 100 in 0.22.\", FutureWarning)\n",
      "C:\\Users\\hp\\Anaconda3\\lib\\site-packages\\sklearn\\ensemble\\forest.py:245: FutureWarning: The default value of n_estimators will change from 10 in version 0.20 to 100 in 0.22.\n",
      "  \"10 in version 0.20 to 100 in 0.22.\", FutureWarning)\n",
      "C:\\Users\\hp\\Anaconda3\\lib\\site-packages\\sklearn\\ensemble\\forest.py:245: FutureWarning: The default value of n_estimators will change from 10 in version 0.20 to 100 in 0.22.\n",
      "  \"10 in version 0.20 to 100 in 0.22.\", FutureWarning)\n",
      "C:\\Users\\hp\\Anaconda3\\lib\\site-packages\\sklearn\\ensemble\\forest.py:245: FutureWarning: The default value of n_estimators will change from 10 in version 0.20 to 100 in 0.22.\n",
      "  \"10 in version 0.20 to 100 in 0.22.\", FutureWarning)\n"
     ]
    },
    {
     "name": "stdout",
     "output_type": "stream",
     "text": [
      "Accuracy for Random Forest is  84.75476695873361\n",
      "Accuracy for Gradient Boosting is  86.2872637671698\n"
     ]
    }
   ],
   "source": [
    "# Report section 4.3.3\n",
    "\n",
    "from sklearn.feature_selection import SelectFromModel\n",
    "\n",
    "# Build a forest and compute the feature importance\n",
    "selector = SelectFromModel(RandomForestClassifier(n_estimators = 100, random_state= 0))\n",
    "selector.fit(transformedData, classData)\n",
    "\n",
    "feat_selected = (np.array(selector.get_support())).astype(int)\n",
    "\n",
    "featuredf = pd.DataFrame()\n",
    "featuredf['col_names_ohe'] = col_names_ohe\n",
    "featuredf['feat_selected'] = feat_selected\n",
    "\n",
    "print('\\nSelected Features')\n",
    "print(featuredf)\n",
    "\n",
    "print('\\nShape before feature reduction')\n",
    "print(transformedData.shape)\n",
    "\n",
    "new_data = selector.transform(transformedData)\n",
    "print('\\nShape after feature reduction')\n",
    "print(new_data.shape)\n",
    "\n",
    "##Implement the Linear SVC model for the new feature selected data\n",
    "\n",
    "Feat_Select6 = dict()\n",
    "\n",
    "## 1) Linear SVC\n",
    "allResults= []\n",
    "\n",
    "kf= model_selection.StratifiedKFold(n_splits=6, shuffle=True, random_state=1)\n",
    "\n",
    "for train_index, test_index in kf.split(new_data, classData):\n",
    "    clf= LinearSVC(random_state=0)\n",
    "    clf= clf.fit(new_data[train_index], classData[train_index])\n",
    "\n",
    "    # predict the class for an unseen example\n",
    "    results= clf.predict(new_data[test_index])\n",
    "    allResults.append(metrics.accuracy_score(results, classData[test_index]))\n",
    "    \n",
    "accuracy = (np.mean(allResults) * 100)\n",
    "Feat_Select6['Linear SVC'] = accuracy\n",
    "print (\"Accuracy for Linear SVC is \", accuracy)\n",
    "\n",
    "\n",
    "\n",
    "## 2) Random Forest\n",
    "allResults= []\n",
    "\n",
    "kf= model_selection.StratifiedKFold(n_splits=6, shuffle=True, random_state=1)\n",
    "\n",
    "for train_index, test_index in kf.split(transformedData, classData):\n",
    "    clf= RandomForestClassifier(random_state=0)\n",
    "    clf= clf.fit(transformedData[train_index], classData[train_index])\n",
    "\n",
    "    # predict the class for an unseen example\n",
    "    results= clf.predict(transformedData[test_index])\n",
    "    allResults.append(metrics.accuracy_score(results, classData[test_index]))\n",
    "\n",
    "accuracy = (np.mean(allResults) * 100)\n",
    "Feat_Select6['Random Forest'] = accuracy\n",
    "print (\"Accuracy for Random Forest is \", accuracy)\n",
    "\n",
    "\n",
    "# 3) Gradient Boosting\n",
    "allResults= []\n",
    "\n",
    "kf= model_selection.StratifiedKFold(n_splits=6, shuffle=True, random_state=1)\n",
    "\n",
    "for train_index, test_index in kf.split(new_data, classData):\n",
    "    clf= GradientBoostingClassifier(random_state=0)\n",
    "    clf= clf.fit(new_data[train_index], classData[train_index])\n",
    "\n",
    "    # predict the class for an unseen example\n",
    "    results= clf.predict(new_data[test_index])\n",
    "    allResults.append(metrics.accuracy_score(results, classData[test_index]))\n",
    "\n",
    "accuracy = (np.mean(allResults) * 100)\n",
    "Feat_Select6['Gradient Boosting'] = accuracy\n",
    "print (\"Accuracy for Gradient Boosting is \", accuracy)\n",
    "\n"
   ]
  },
  {
   "cell_type": "markdown",
   "metadata": {},
   "source": [
    "##### Feature scores using tree based method"
   ]
  },
  {
   "cell_type": "code",
   "execution_count": 429,
   "metadata": {
    "scrolled": true
   },
   "outputs": [
    {
     "data": {
      "image/png": "[encoded data removed]",
      "text/plain": [
       "<Figure size 1080x360 with 1 Axes>"
      ]
     },
     "metadata": {
      "needs_background": "light"
     },
     "output_type": "display_data"
    }
   ],
   "source": [
    "x = featuredf['col_names_ohe']\n",
    "y = featuredf['feat_selected']\n",
    "\n",
    "plt.figure(figsize=(15,5))\n",
    "plt.stem(x, y, use_line_collection=True)\n",
    "\n",
    "plt.xticks(rotation = 90)\n",
    "\n",
    "plt.show();"
   ]
  },
  {
   "cell_type": "markdown",
   "metadata": {},
   "source": [
    "##### Accuracy across top 3 models for tree based methods"
   ]
  },
  {
   "cell_type": "code",
   "execution_count": 430,
   "metadata": {},
   "outputs": [
    {
     "data": {
      "image/png": "[encoded data removed]",
      "text/plain": [
       "<Figure size 720x360 with 1 Axes>"
      ]
     },
     "metadata": {
      "needs_background": "light"
     },
     "output_type": "display_data"
    }
   ],
   "source": [
    "# Report section 4.3.3\n",
    "plt.figure(figsize=(10,5))\n",
    "plt.bar(*zip(*Feat_Select6.items()), color = 'indianred')\n",
    "\n",
    "for x, y in (Feat_Select6.items()):\n",
    "    label = \"{:2.2f}%\".format(y)\n",
    "    \n",
    "    plt.annotate(label, # this is the text\n",
    "                 (x,y), # this is the point to label\n",
    "                 textcoords=\"offset points\", # how to position the text\n",
    "                 xytext=(0,10), # distance from text to points (x,y)\n",
    "                 ha='center') # horizontal alignment can be left, right or center\n",
    "\n",
    "\n",
    "plt.xticks(rotation=50)\n",
    "plt.yticks(np.arange(0,120,20))\n",
    "plt.show();"
   ]
  }
 ],
 "metadata": {
  "kernelspec": {
   "display_name": "Python 3",
   "language": "python",
   "name": "python3"
  },
  "language_info": {
   "codemirror_mode": {
    "name": "ipython",
    "version": 3
   },
   "file_extension": ".py",
   "mimetype": "text/x-python",
   "name": "python",
   "nbconvert_exporter": "python",
   "pygments_lexer": "ipython3",
   "version": "3.7.3"
  }
 },
 "nbformat": 4,
 "nbformat_minor": 2
}
