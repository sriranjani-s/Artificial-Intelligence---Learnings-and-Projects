{
 "cells": [
  {
   "cell_type": "code",
   "execution_count": 16,
   "metadata": {},
   "outputs": [
    {
     "data": {
      "text/plain": [
       "array([[22.        ],\n",
       "       [17.33333333]])"
      ]
     },
     "execution_count": 16,
     "metadata": {},
     "output_type": "execute_result"
    }
   ],
   "source": [
    "import numpy as np\n",
    "\n",
    "l1 = np.array([[5],[25]])\n",
    "l2 = np.array([[32],[22]])\n",
    "l3 = np.array([[29],[5]])\n",
    "\n",
    "x0 = np.mean([l1,l2,l3], axis = 0)\n",
    "x0"
   ]
  },
  {
   "cell_type": "code",
   "execution_count": 63,
   "metadata": {},
   "outputs": [
    {
     "data": {
      "text/plain": [
       "array([[ 17.        ,  -7.66666667],\n",
       "       [-10.        ,  -4.66666667],\n",
       "       [ -7.        ,  12.33333333]])"
      ]
     },
     "execution_count": 63,
     "metadata": {},
     "output_type": "execute_result"
    }
   ],
   "source": [
    "A = np.array((x0.T - l1.T, x0.T - l2.T, x0.T - l3.T))\n",
    "A = A.reshape(3,2)\n",
    "A\n"
   ]
  },
  {
   "cell_type": "code",
   "execution_count": 54,
   "metadata": {},
   "outputs": [
    {
     "data": {
      "text/plain": [
       "array([[-1., -0., -0.],\n",
       "       [-0., -1., -0.],\n",
       "       [-0., -0., -1.]])"
      ]
     },
     "execution_count": 54,
     "metadata": {},
     "output_type": "execute_result"
    }
   ],
   "source": [
    "B = -1 * np.eye(3)\n",
    "B"
   ]
  },
  {
   "cell_type": "code",
   "execution_count": 72,
   "metadata": {},
   "outputs": [
    {
     "data": {
      "text/plain": [
       "array([[ 134.44444444],\n",
       "       [-723.55555556],\n",
       "       [ -81.55555556]])"
      ]
     },
     "execution_count": 72,
     "metadata": {},
     "output_type": "execute_result"
    }
   ],
   "source": [
    "C = np.array((np.matmul(x0.T, x0) - np.matmul(l1.T, l1), np.matmul(x0.T, x0) - np.matmul(l2.T, l2), np.matmul(x0.T, x0) - np.matmul(l3.T, l3)))\n",
    "C\n",
    "C.reshape(3,1)"
   ]
  },
  {
   "cell_type": "code",
   "execution_count": 95,
   "metadata": {},
   "outputs": [
    {
     "data": {
      "text/plain": [
       "array([[0., 0., 0., 0., 0.],\n",
       "       [0., 0., 0., 0., 0.]])"
      ]
     },
     "execution_count": 95,
     "metadata": {},
     "output_type": "execute_result"
    }
   ],
   "source": [
    "a = np.zeros([2,2])\n",
    "b = np.zeros([2,3])\n",
    "c = A.T\n",
    "\n",
    "np.append(np.zeros([2,2]), np.zeros([2,3]), axis = 1)\n",
    "\n"
   ]
  }
 ],
 "metadata": {
  "kernelspec": {
   "display_name": "Python 3",
   "language": "python",
   "name": "python3"
  },
  "language_info": {
   "codemirror_mode": {
    "name": "ipython",
    "version": 3
   },
   "file_extension": ".py",
   "mimetype": "text/x-python",
   "name": "python",
   "nbconvert_exporter": "python",
   "pygments_lexer": "ipython3",
   "version": "3.6.8"
  }
 },
 "nbformat": 4,
 "nbformat_minor": 4
}
