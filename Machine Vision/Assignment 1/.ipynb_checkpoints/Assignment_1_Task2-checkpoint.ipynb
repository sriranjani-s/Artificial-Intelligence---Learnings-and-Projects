{
 "cells": [
  {
   "cell_type": "code",
   "execution_count": 1,
   "metadata": {},
   "outputs": [],
   "source": [
    "import cv2\n",
    "import numpy as np\n",
    "import matplotlib.pyplot as plt"
   ]
  },
  {
   "cell_type": "code",
   "execution_count": 2,
   "metadata": {},
   "outputs": [
    {
     "name": "stdout",
     "output_type": "stream",
     "text": [
      "(768, 1024) (768, 1024)\n"
     ]
    }
   ],
   "source": [
    "input_image1 = cv2.imread(\"Assignment_MV_01_image_1.jpg\")    \n",
    "input_image2 = cv2.imread(\"Assignment_MV_01_image_2.jpg\")    \n",
    "#cv2.imshow(\"input\", input_image)    \n",
    "\n",
    "img1 = cv2.cvtColor(input_image1, cv2.COLOR_RGB2GRAY)    \n",
    "img2 = cv2.cvtColor(input_image2, cv2.COLOR_RGB2GRAY) \n",
    "\n",
    "\n",
    "#cv2.imshow(\"gray_1\", img1)\n",
    "#cv2.imshow(\"gray_2\", img2)\n",
    "\n",
    "\n",
    "img1 = img1.astype('float')\n",
    "img2 = img2.astype('float')\n",
    "\n",
    "print(img1.shape, img2.shape)\n",
    "\n",
    "cv2.waitKey(0)    \n",
    "cv2.destroyAllWindows()"
   ]
  },
  {
   "cell_type": "code",
   "execution_count": 4,
   "metadata": {},
   "outputs": [],
   "source": [
    "cv2.rectangle(img1, (360,210), (430,300), color=(255, 0, 0), thickness=3)\n",
    "\n",
    "cv2.imshow('boxed', img1/255)\n",
    "\n",
    "cropped_img1 = img1[210:300, 360:430]\n",
    "cv2.imshow(\"cropped\", cropped_img1/255)\n",
    "\n",
    "\n",
    "cv2.waitKey(0)    \n",
    "cv2.destroyAllWindows()"
   ]
  },
  {
   "cell_type": "code",
   "execution_count": 33,
   "metadata": {},
   "outputs": [
    {
     "name": "stdout",
     "output_type": "stream",
     "text": [
      "90 70\n",
      "648445 648445 648445 648445\n",
      "(90, 70) 154.70111111111112 (90, 70) 113.65587301587301\n"
     ]
    }
   ],
   "source": [
    "cropped_img1_mean = cropped_img1.mean()\n",
    "cropped_img1_std = cropped_img1.std()\n",
    "\n",
    "\n",
    "diff_height = 300-210\n",
    "diff_width = 430-360\n",
    "\n",
    "print(diff_height, diff_width)\n",
    "\n",
    "\n",
    "cropped_img2 = []\n",
    "cropped_img2_mean = []\n",
    "cropped_img2_std = []\n",
    "cropped_img2_coord = []\n",
    "\n",
    "for i in range(img2.shape[0]-(diff_height-1)):\n",
    "    for j in range(img2.shape[1]-(diff_width-1)):\n",
    "        cropped =  img2[i:i+diff_height, j:j+diff_width]\n",
    "        cropped_img2_mean.append(cropped.mean())\n",
    "        cropped_img2_std.append(cropped.std())\n",
    "        cropped_img2.append(cropped)\n",
    "        cropped_img2_coord.append([i,j])\n",
    "        \n",
    "print(len(cropped_img2), len(cropped_img2_mean), len(cropped_img2_std), len(cropped_img2_std))\n",
    "\n",
    "cv2.waitKey(0)    \n",
    "cv2.destroyAllWindows()"
   ]
  },
  {
   "cell_type": "code",
   "execution_count": 35,
   "metadata": {},
   "outputs": [
    {
     "data": {
      "image/png": "[encoded data removed]",
      "text/plain": [
       "<Figure size 432x288 with 1 Axes>"
      ]
     },
     "metadata": {
      "needs_background": "light"
     },
     "output_type": "display_data"
    }
   ],
   "source": [
    "image_correlation = []\n",
    "\n",
    "num_pixels = cropped_img1.shape[0] * cropped_img1.shape[1]\n",
    "\n",
    "for i in range(len(cropped_img2)):\n",
    "    covariance = np.sum((cropped_img1 - cropped_img1_mean)*(cropped_img2[i] - cropped_img2_mean[i]))/num_pixels\n",
    "    correlation = covariance / (cropped_img1_std * cropped_img2_std[i])\n",
    "    image_correlation.append(correlation)\n",
    "\n",
    "plt.plot(image_correlation)\n",
    "\n",
    "max_corr = np.argmax(image_correlation)\n",
    "matched_y, matched_x = cropped_img2_coord[max_corr]\n",
    "\n",
    "cv2.rectangle(img2, (matched_x,matched_y), (matched_x+70,matched_y+90), color=(255, 0, 0), thickness=3)\n",
    "cv2.imshow(\"matched image\", img2/255)\n",
    "\n",
    "cv2.waitKey(0)    \n",
    "cv2.destroyAllWindows()"
   ]
  },
  {
   "cell_type": "code",
   "execution_count": null,
   "metadata": {},
   "outputs": [],
   "source": [
    "\n",
    "cv2.imshow(\"img2\", img2)\n",
    "cropped_img2 = img2[1:91, 1:70]\n",
    "cv2.imshow(\"cropped\", cropped_img2)\n",
    "\n",
    "\n",
    "\n",
    "cv2.imshow(\"img2\", img2)\n",
    "cropped_img2_test = img2[1:91, 1020:1090]\n",
    "cv2.imshow(\"cropped_test\", cropped_img2_test)\n",
    "\n"
   ]
  }
 ],
 "metadata": {
  "kernelspec": {
   "display_name": "Python 3",
   "language": "python",
   "name": "python3"
  },
  "language_info": {
   "codemirror_mode": {
    "name": "ipython",
    "version": 3
   },
   "file_extension": ".py",
   "mimetype": "text/x-python",
   "name": "python",
   "nbconvert_exporter": "python",
   "pygments_lexer": "ipython3",
   "version": "3.7.3"
  }
 },
 "nbformat": 4,
 "nbformat_minor": 2
}
